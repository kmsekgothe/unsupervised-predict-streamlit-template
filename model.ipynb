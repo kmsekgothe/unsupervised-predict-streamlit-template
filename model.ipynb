{
 "cells": [
  {
   "cell_type": "markdown",
   "metadata": {},
   "source": [
    "# Team 12 - Unsupervised Predict\n",
    "\n",
    "© Explore Data Science Academy\n",
    "\n",
    "---\n",
    "\n",
    "## Team Members\n",
    "\n",
    " - [Karabo Mampuru](https://www.linkedin.com/in/karabo-mampuru-318118a6/)\n",
    " - [Muhammad](https://www.linkedin.com/in/mpilenhle-hlatshwayo-70544b169/)\n",
    " - [Bohlale Kekana](https://www.linkedin.com/in/bohlale-kekana-8b753320b/)\n",
    " - [Tsepo](https://www.linkedin.com/in/sello-sydney-mafikeng-46a664110/)\n",
    " - [Mpilenhle Hlatshwayo](https://www.linkedin.com/in/mpilenhle-hlatshwayo-70544b169/)\n",
    "\n",
    "\n",
    "## Introduction: Movie Recommender\n",
    "\n",
    "Many businesses are based on making sure the user satisfaction is reached an ultimately exceeded. The results of not meeting user satisfaction include less traffic in the website, and this also results in a high churn rate. The ability to recommend a movie that a user might like, means that the user satisfaction rises, thus the business profit increases, the churn rate decreases, this can help in our company, Netflix, as it can keep a user interested in being in the web because of the remmendations of the movies they like.\n",
    " \n",
    "\n",
    "<img src=\"https://raw.githubusercontent.com/kmsekgothe/unsupervised-predict-streamlit-template/master/resources/imgs/Image_header.png\" width=75%/>\n",
    "\n",
    "\n",
    "## Predict Overview\n",
    "\n",
    "We have been tasked with creating a Machine Learning model that is able to predict a users next favourite movie based on the users past recommendations on movies, thus creating a `Content Based Recommender`. The second prediction will be based on the movie rating of all the users that have watched an rated the movie thus the `Collaborative Based Remmender`. These processes will be made created using different methods, since we will be using text data vectorization will be used.\n",
    "\n",
    "\n",
    "The structure of this notebook is as follows:\n",
    "\n",
    " - First, we'll load our data to get a view of the predictor variables we will be modeling with, since this is an unsupervised learning there is no response variable. \n",
    " \n",
    " - We will then preprocess our data, cleaning or removing unwanted charecters such as `Strokes |` `RT` `@ mentions` `urls` `emojis`.\n",
    " \n",
    " - We will preprocess our data, normalising the tokens in the tweets using processes such as  `Stemming` and `Lemmatizing`.\n",
    "  \n",
    " - Then vectorise the tweets and splitting up the data into train and test sets.\n",
    "\n",
    " - We then model our data using a various models such as `SVC` `Naive Bayes` and `Linear Logistics`, paying attention to multiclass versus binary classification model parameters.\n",
    " \n",
    " - Following this modeling, we use the f1 score to determine the best performing model.\n",
    " \n",
    " - Using this metric, we then take several steps to improve our base model's performance by optimising the hyperparameters of the model through a `grid search strategy` , then use the `K best` for best feature selection."
   ]
  },
  {
   "cell_type": "markdown",
   "metadata": {},
   "source": [
    "<a id=\"cont\"></a>\n",
    "\n",
    "## Table of Contents\n",
    "\n",
    "<a href=#one>1. Importing Packages</a>\n",
    "\n",
    "<a href=#two>2. Loading Data</a>\n",
    "\n",
    "<a href=#three>3. Exploratory Data Analysis (EDA)</a>\n",
    "\n",
    "<a href=#four>4. Data Preprocessing </a>\n",
    "\n",
    "<a href=#five>5. Feature Engineering</a>\n",
    "\n",
    "<a href=#six>6. Modeling</a>\n",
    "\n",
    "<a href=#seven>7. Model Performance</a>\n",
    "\n",
    "<a href=#eight>8. Model Explanations</a>"
   ]
  },
  {
   "cell_type": "markdown",
   "metadata": {},
   "source": [
    " <a id=\"one\"></a>\n",
    "## 1. Importing Packages"
   ]
  },
  {
   "cell_type": "code",
   "execution_count": 1,
   "metadata": {},
   "outputs": [
    {
     "data": {
      "text/html": [
       "        <script type=\"text/javascript\">\n",
       "        window.PlotlyConfig = {MathJaxConfig: 'local'};\n",
       "        if (window.MathJax) {MathJax.Hub.Config({SVG: {font: \"STIX-Web\"}});}\n",
       "        if (typeof require !== 'undefined') {\n",
       "        require.undef(\"plotly\");\n",
       "        requirejs.config({\n",
       "            paths: {\n",
       "                'plotly': ['https://cdn.plot.ly/plotly-2.4.2.min']\n",
       "            }\n",
       "        });\n",
       "        require(['plotly'], function(Plotly) {\n",
       "            window._Plotly = Plotly;\n",
       "        });\n",
       "        }\n",
       "        </script>\n",
       "        "
      ]
     },
     "metadata": {},
     "output_type": "display_data"
    },
    {
     "data": {
      "text/html": [
       "        <script type=\"text/javascript\">\n",
       "        window.PlotlyConfig = {MathJaxConfig: 'local'};\n",
       "        if (window.MathJax) {MathJax.Hub.Config({SVG: {font: \"STIX-Web\"}});}\n",
       "        if (typeof require !== 'undefined') {\n",
       "        require.undef(\"plotly\");\n",
       "        requirejs.config({\n",
       "            paths: {\n",
       "                'plotly': ['https://cdn.plot.ly/plotly-2.4.2.min']\n",
       "            }\n",
       "        });\n",
       "        require(['plotly'], function(Plotly) {\n",
       "            window._Plotly = Plotly;\n",
       "        });\n",
       "        }\n",
       "        </script>\n",
       "        "
      ]
     },
     "metadata": {},
     "output_type": "display_data"
    }
   ],
   "source": [
    "#Import nescessarry libraries\n",
    "\n",
    "import numpy as np\n",
    "import pandas as pd\n",
    "import cufflinks as cf\n",
    "from sklearn.preprocessing import StandardScaler\n",
    "from sklearn import preprocessing\n",
    "from sklearn.decomposition import PCA\n",
    "from sklearn.model_selection import train_test_split\n",
    "\n",
    "import nltk\n",
    "from nltk.corpus import stopwords\n",
    "import re\n",
    "import string\n",
    "\n",
    "# Entity featurization and similarity computation\n",
    "from sklearn.metrics.pairwise import cosine_similarity \n",
    "from sklearn.feature_extraction.text import TfidfVectorizer\n",
    "\n",
    "# importing tokenizing library\n",
    "from nltk.tokenize import word_tokenize, TreebankWordTokenizer\n",
    "from nltk.stem import WordNetLemmatizer\n",
    "\n",
    "# Libraries used during sorting procedures.\n",
    "import operator # <-- Convienient item retrieval during iteration \n",
    "import heapq # <-- Efficient sorting of large lists\n",
    "\n",
    "\n",
    "\n",
    "from sklearn.ensemble import RandomForestRegressor\n",
    "\n",
    "import matplotlib.pyplot as plt\n",
    "import seaborn as sns\n",
    "%matplotlib inline\n",
    "\n",
    "sns.set(style='whitegrid', palette='muted',\n",
    "        rc={'figure.figsize': (15,10)})\n",
    "\n",
    "from plotly.offline import download_plotlyjs, init_notebook_mode, plot, iplot\n",
    "init_notebook_mode(connected=True)\n",
    "\n",
    "import warnings\n",
    "warnings.filterwarnings('ignore')"
   ]
  },
  {
   "cell_type": "code",
   "execution_count": 2,
   "metadata": {},
   "outputs": [],
   "source": [
    "\n",
    "import warnings\n",
    "warnings.filterwarnings('ignore')\n",
    "import datetime as dt\n",
    "import requests\n",
    "import bs4 as bs\n",
    "import urllib.request"
   ]
  },
  {
   "cell_type": "code",
   "execution_count": 3,
   "metadata": {},
   "outputs": [],
   "source": [
    "import re\n",
    "import string\n",
    "# importing tokenizing library\n",
    "from nltk.tokenize import word_tokenize, TreebankWordTokenizer\n",
    "from nltk.stem import WordNetLemmatizer\n",
    "#importing stemmer library\n",
    "from nltk import SnowballStemmer"
   ]
  },
  {
   "cell_type": "code",
   "execution_count": 4,
   "metadata": {},
   "outputs": [],
   "source": [
    "from surprise import Reader, Dataset\n",
    "from surprise import SVD, SVDpp, NormalPredictor, BaselineOnly, NMF, SlopeOne, CoClustering, KNNWithMeans"
   ]
  },
  {
   "cell_type": "code",
   "execution_count": 5,
   "metadata": {},
   "outputs": [],
   "source": [
    "#extra \n",
    "from itertools import permutations\n",
    "import pickle"
   ]
  },
  {
   "cell_type": "code",
   "execution_count": 6,
   "metadata": {},
   "outputs": [],
   "source": [
    "# Performance Evaluation\n",
    "from surprise import accuracy\n",
    "from sklearn.metrics import mean_squared_error\n",
    "from surprise.model_selection import GridSearchCV, cross_validate, train_test_split\n"
   ]
  },
  {
   "cell_type": "markdown",
   "metadata": {},
   "source": [
    "<a id=\"two\"></a>\n",
    "## 2. Loading the Data\n",
    "<a class=\"anchor\" id=\"1.1\"></a>\n",
    "<a href=#cont>Back to Table of Contents</a>\n",
    "\n",
    "Load the Train and Test datasets from the github repository"
   ]
  },
  {
   "cell_type": "code",
   "execution_count": 154,
   "metadata": {},
   "outputs": [],
   "source": [
    "# get test data\n",
    "test_data = pd.read_csv('C:/Users/Mpilenhle/Documents/EDSA/unspervised/predict/unsupervised-predict-streamlit-template/Data/test.csv')\n"
   ]
  },
  {
   "cell_type": "code",
   "execution_count": 7,
   "metadata": {},
   "outputs": [],
   "source": [
    "# get IMDB data\n",
    "imdb_data = pd.read_csv('C:/Users/Mpilenhle/Documents/EDSA/unspervised/predict/unsupervised-predict-streamlit-template/Data/imdb_data.csv')\n",
    "\n",
    "# get movies data\n",
    "movies_data = pd.read_csv('C:/Users/Mpilenhle/Documents/EDSA/unspervised/predict/unsupervised-predict-streamlit-template/Data/movies.csv')\n",
    "\n",
    "# get tags\n",
    "tags_data = pd.read_csv('C:/Users/Mpilenhle/Documents/EDSA/unspervised/predict/unsupervised-predict-streamlit-template/Data/tags.csv')\n",
    "\n",
    "# get test data\n",
    "test_data = pd.read_csv('C:/Users/Mpilenhle/Documents/EDSA/unspervised/predict/unsupervised-predict-streamlit-template/Data/test.csv')\n",
    "\n",
    "# get genome data\n",
    "genome_scores_data = pd.read_csv('C:/Users/Mpilenhle/Documents/EDSA/unspervised/predict/unsupervised-predict-streamlit-template/Data/genome_scores.csv')\n",
    "\n",
    "# get genome data\n",
    "genome_tags_data = pd.read_csv('C:/Users/Mpilenhle/Documents/EDSA/unspervised/predict/unsupervised-predict-streamlit-template/Data/genome_tags.csv')\n",
    "\n",
    "# get genome data\n",
    "train_data = pd.read_csv('C:/Users/Mpilenhle/Documents/EDSA/unspervised/predict/unsupervised-predict-streamlit-template/Data/train.csv')\n",
    "\n"
   ]
  },
  {
   "cell_type": "markdown",
   "metadata": {},
   "source": [
    "# Fetching more data\n",
    "since some of the data is missing we need to collect the data, especially the new movies data"
   ]
  },
  {
   "cell_type": "code",
   "execution_count": 12,
   "metadata": {},
   "outputs": [],
   "source": [
    "link_2020 = \"https://en.wikipedia.org/wiki/List_of_American_films_of_2020\"\n",
    "link_2021 = \"https://en.wikipedia.org/wiki/List_of_American_films_of_2021\""
   ]
  },
  {
   "cell_type": "code",
   "execution_count": 14,
   "metadata": {},
   "outputs": [],
   "source": [
    "source_20 = urllib.request.urlopen(link_2020).read()\n",
    "soup_20 = bs.BeautifulSoup(source_20,'lxml')"
   ]
  },
  {
   "cell_type": "code",
   "execution_count": 15,
   "metadata": {},
   "outputs": [],
   "source": [
    "source_21 = urllib.request.urlopen(link_2021).read()\n",
    "soup_21 = bs.BeautifulSoup(source_21,'lxml')"
   ]
  },
  {
   "cell_type": "code",
   "execution_count": 16,
   "metadata": {},
   "outputs": [],
   "source": [
    "tables_20 = soup_20.find_all('table',class_='wikitable sortable')"
   ]
  },
  {
   "cell_type": "code",
   "execution_count": 17,
   "metadata": {},
   "outputs": [],
   "source": [
    "tables_21 = soup_21.find_all('table',class_='wikitable sortable')"
   ]
  },
  {
   "cell_type": "code",
   "execution_count": 18,
   "metadata": {},
   "outputs": [
    {
     "data": {
      "text/plain": [
       "4"
      ]
     },
     "execution_count": 18,
     "metadata": {},
     "output_type": "execute_result"
    }
   ],
   "source": [
    "len(tables_21)"
   ]
  },
  {
   "cell_type": "code",
   "execution_count": 19,
   "metadata": {},
   "outputs": [],
   "source": [
    "df1_20 = pd.read_html(str(tables_20[0]))[0]\n",
    "df2_20 = pd.read_html(str(tables_20[1]))[0]\n",
    "df3_20 = pd.read_html(str(tables_20[2]))[0]\n",
    "df4_20 = pd.read_html(str(tables_20[3]).replace(\"'1\\\"\\'\",'\"1\"'))[0]"
   ]
  },
  {
   "cell_type": "code",
   "execution_count": 20,
   "metadata": {},
   "outputs": [],
   "source": [
    "df_2020 = df1_20.append(df2_20.append(df3_20.append(df4_20,ignore_index=True),ignore_index=True),ignore_index=True)"
   ]
  },
  {
   "cell_type": "code",
   "execution_count": 21,
   "metadata": {},
   "outputs": [
    {
     "data": {
      "text/html": [
       "<div>\n",
       "<style scoped>\n",
       "    .dataframe tbody tr th:only-of-type {\n",
       "        vertical-align: middle;\n",
       "    }\n",
       "\n",
       "    .dataframe tbody tr th {\n",
       "        vertical-align: top;\n",
       "    }\n",
       "\n",
       "    .dataframe thead th {\n",
       "        text-align: right;\n",
       "    }\n",
       "</style>\n",
       "<table border=\"1\" class=\"dataframe\">\n",
       "  <thead>\n",
       "    <tr style=\"text-align: right;\">\n",
       "      <th></th>\n",
       "      <th>Opening</th>\n",
       "      <th>Opening.1</th>\n",
       "      <th>Title</th>\n",
       "      <th>Production company</th>\n",
       "      <th>Cast and crew</th>\n",
       "      <th>.mw-parser-output .tooltip-dotted{border-bottom:1px dotted;cursor:help}Ref.</th>\n",
       "      <th>Ref.</th>\n",
       "    </tr>\n",
       "  </thead>\n",
       "  <tbody>\n",
       "    <tr>\n",
       "      <th>0</th>\n",
       "      <td>JANUARY</td>\n",
       "      <td>3</td>\n",
       "      <td>The Grudge</td>\n",
       "      <td>Screen Gems / Stage 6 Films / Ghost House Pict...</td>\n",
       "      <td>Nicolas Pesce (director/screenplay); Andrea Ri...</td>\n",
       "      <td>[2]</td>\n",
       "      <td>NaN</td>\n",
       "    </tr>\n",
       "    <tr>\n",
       "      <th>1</th>\n",
       "      <td>JANUARY</td>\n",
       "      <td>10</td>\n",
       "      <td>Underwater</td>\n",
       "      <td>20th Century Fox / TSG Entertainment / Chernin...</td>\n",
       "      <td>William Eubank (director); Brian Duffield, Ada...</td>\n",
       "      <td>[3]</td>\n",
       "      <td>NaN</td>\n",
       "    </tr>\n",
       "    <tr>\n",
       "      <th>2</th>\n",
       "      <td>JANUARY</td>\n",
       "      <td>10</td>\n",
       "      <td>Like a Boss</td>\n",
       "      <td>Paramount Pictures</td>\n",
       "      <td>Miguel Arteta (director); Sam Pitman, Adam Col...</td>\n",
       "      <td>[4]</td>\n",
       "      <td>NaN</td>\n",
       "    </tr>\n",
       "    <tr>\n",
       "      <th>3</th>\n",
       "      <td>JANUARY</td>\n",
       "      <td>10</td>\n",
       "      <td>Three Christs</td>\n",
       "      <td>IFC Films</td>\n",
       "      <td>Jon Avnet (director/screenplay); Eric Nazarian...</td>\n",
       "      <td>NaN</td>\n",
       "      <td>NaN</td>\n",
       "    </tr>\n",
       "    <tr>\n",
       "      <th>4</th>\n",
       "      <td>JANUARY</td>\n",
       "      <td>10</td>\n",
       "      <td>Inherit the Viper</td>\n",
       "      <td>Barry Films / Tycor International Film Company</td>\n",
       "      <td>Anthony Jerjen (director); Andrew Crabtree (sc...</td>\n",
       "      <td>[5]</td>\n",
       "      <td>NaN</td>\n",
       "    </tr>\n",
       "  </tbody>\n",
       "</table>\n",
       "</div>"
      ],
      "text/plain": [
       "   Opening  Opening.1              Title  \\\n",
       "0  JANUARY          3         The Grudge   \n",
       "1  JANUARY         10         Underwater   \n",
       "2  JANUARY         10        Like a Boss   \n",
       "3  JANUARY         10      Three Christs   \n",
       "4  JANUARY         10  Inherit the Viper   \n",
       "\n",
       "                                  Production company  \\\n",
       "0  Screen Gems / Stage 6 Films / Ghost House Pict...   \n",
       "1  20th Century Fox / TSG Entertainment / Chernin...   \n",
       "2                                 Paramount Pictures   \n",
       "3                                          IFC Films   \n",
       "4     Barry Films / Tycor International Film Company   \n",
       "\n",
       "                                       Cast and crew  \\\n",
       "0  Nicolas Pesce (director/screenplay); Andrea Ri...   \n",
       "1  William Eubank (director); Brian Duffield, Ada...   \n",
       "2  Miguel Arteta (director); Sam Pitman, Adam Col...   \n",
       "3  Jon Avnet (director/screenplay); Eric Nazarian...   \n",
       "4  Anthony Jerjen (director); Andrew Crabtree (sc...   \n",
       "\n",
       "  .mw-parser-output .tooltip-dotted{border-bottom:1px dotted;cursor:help}Ref.  \\\n",
       "0                                                [2]                            \n",
       "1                                                [3]                            \n",
       "2                                                [4]                            \n",
       "3                                                NaN                            \n",
       "4                                                [5]                            \n",
       "\n",
       "  Ref.  \n",
       "0  NaN  \n",
       "1  NaN  \n",
       "2  NaN  \n",
       "3  NaN  \n",
       "4  NaN  "
      ]
     },
     "execution_count": 21,
     "metadata": {},
     "output_type": "execute_result"
    }
   ],
   "source": [
    "df_2020.head()"
   ]
  },
  {
   "cell_type": "code",
   "execution_count": 22,
   "metadata": {},
   "outputs": [
    {
     "data": {
      "text/plain": [
       "(273, 7)"
      ]
     },
     "execution_count": 22,
     "metadata": {},
     "output_type": "execute_result"
    }
   ],
   "source": [
    "df_2020.shape"
   ]
  },
  {
   "cell_type": "code",
   "execution_count": 23,
   "metadata": {},
   "outputs": [],
   "source": [
    "df1_21 = pd.read_html(str(tables_21[0]))[0]\n",
    "df2_21 = pd.read_html(str(tables_21[1]))[0]\n",
    "df3_21 = pd.read_html(str(tables_21[2]))[0]\n",
    "df4_21 = pd.read_html(str(tables_21[3]).replace(\"'1\\\"\\'\",'\"1\"'))[0]"
   ]
  },
  {
   "cell_type": "code",
   "execution_count": 24,
   "metadata": {},
   "outputs": [],
   "source": [
    "df_2021 = df1_21.append(df2_21.append(df3_21.append(df4_21,ignore_index=True),ignore_index=True),ignore_index=True)"
   ]
  },
  {
   "cell_type": "code",
   "execution_count": 26,
   "metadata": {},
   "outputs": [
    {
     "data": {
      "text/html": [
       "<div>\n",
       "<style scoped>\n",
       "    .dataframe tbody tr th:only-of-type {\n",
       "        vertical-align: middle;\n",
       "    }\n",
       "\n",
       "    .dataframe tbody tr th {\n",
       "        vertical-align: top;\n",
       "    }\n",
       "\n",
       "    .dataframe thead th {\n",
       "        text-align: right;\n",
       "    }\n",
       "</style>\n",
       "<table border=\"1\" class=\"dataframe\">\n",
       "  <thead>\n",
       "    <tr style=\"text-align: right;\">\n",
       "      <th></th>\n",
       "      <th>Opening</th>\n",
       "      <th>Opening.1</th>\n",
       "      <th>Title</th>\n",
       "      <th>Production company</th>\n",
       "      <th>Cast and crew</th>\n",
       "      <th>.mw-parser-output .tooltip-dotted{border-bottom:1px dotted;cursor:help}Ref.</th>\n",
       "      <th>Ref.</th>\n",
       "    </tr>\n",
       "  </thead>\n",
       "  <tbody>\n",
       "    <tr>\n",
       "      <th>0</th>\n",
       "      <td>JANUARY</td>\n",
       "      <td>1</td>\n",
       "      <td>Shadow in the Cloud</td>\n",
       "      <td>Vertical Entertainment</td>\n",
       "      <td>Roseanne Liang (director/screenplay); Max Land...</td>\n",
       "      <td>[2]</td>\n",
       "      <td>NaN</td>\n",
       "    </tr>\n",
       "    <tr>\n",
       "      <th>1</th>\n",
       "      <td>JANUARY</td>\n",
       "      <td>13</td>\n",
       "      <td>The White Tiger</td>\n",
       "      <td>Netflix</td>\n",
       "      <td>Ramin Bahrani (director/screenplay); Adarsh Go...</td>\n",
       "      <td>NaN</td>\n",
       "      <td>NaN</td>\n",
       "    </tr>\n",
       "  </tbody>\n",
       "</table>\n",
       "</div>"
      ],
      "text/plain": [
       "   Opening  Opening.1                Title      Production company  \\\n",
       "0  JANUARY          1  Shadow in the Cloud  Vertical Entertainment   \n",
       "1  JANUARY         13      The White Tiger                 Netflix   \n",
       "\n",
       "                                       Cast and crew  \\\n",
       "0  Roseanne Liang (director/screenplay); Max Land...   \n",
       "1  Ramin Bahrani (director/screenplay); Adarsh Go...   \n",
       "\n",
       "  .mw-parser-output .tooltip-dotted{border-bottom:1px dotted;cursor:help}Ref.  \\\n",
       "0                                                [2]                            \n",
       "1                                                NaN                            \n",
       "\n",
       "  Ref.  \n",
       "0  NaN  \n",
       "1  NaN  "
      ]
     },
     "execution_count": 26,
     "metadata": {},
     "output_type": "execute_result"
    }
   ],
   "source": [
    "df_2021.head(2)"
   ]
  },
  {
   "cell_type": "code",
   "execution_count": 32,
   "metadata": {},
   "outputs": [
    {
     "data": {
      "text/plain": [
       "(356, 7)"
      ]
     },
     "execution_count": 32,
     "metadata": {},
     "output_type": "execute_result"
    }
   ],
   "source": [
    "df_2021.shape"
   ]
  },
  {
   "cell_type": "code",
   "execution_count": 29,
   "metadata": {},
   "outputs": [],
   "source": [
    "def remove_punctuation(tweets):\n",
    "    \"\"\"\n",
    "    This function removes the following punctuation marks: !\"#$%&\\'()*+,-./:;<=>?@[\\\\]^_`{|}~\n",
    "    \n",
    "    Function takes in a string object as its input argument and when called, outputs the string without punctuation.    \n",
    "    \"\"\"\n",
    "    return ''.join([l for l in tweets if l not in string.punctuation])"
   ]
  },
  {
   "cell_type": "code",
   "execution_count": 27,
   "metadata": {},
   "outputs": [],
   "source": [
    "pattern_url = r'ʻ'\n",
    "subs_url = r''\n",
    "df_2021['Title'] = df_2021['Title'].replace(to_replace = pattern_url, value = subs_url, regex = True)"
   ]
  },
  {
   "cell_type": "code",
   "execution_count": 30,
   "metadata": {},
   "outputs": [],
   "source": [
    "c = df_2021['Title'].apply(remove_punctuation)"
   ]
  },
  {
   "cell_type": "code",
   "execution_count": 31,
   "metadata": {},
   "outputs": [
    {
     "data": {
      "text/plain": [
       "0                Shadow in the Cloud\n",
       "1                    The White Tiger\n",
       "2                        Locked Down\n",
       "3                            The Dig\n",
       "4                   Outside the Wire\n",
       "5                       The Marksman\n",
       "6     The Ultimate Playlist of Noise\n",
       "7                      American Skin\n",
       "8                   Dont Tell a Soul\n",
       "9                         Our Friend\n",
       "10                      No Mans Land\n",
       "11                   Born a Champion\n",
       "12                        Wrong Turn\n",
       "13                     Penguin Bloom\n",
       "14                 The Little Things\n",
       "15                     Finding Ohana\n",
       "16                         Nomadland\n",
       "17                    Malcolm  Marie\n",
       "18                            Palmer\n",
       "19                           Falling\n",
       "Name: Title, dtype: object"
      ]
     },
     "execution_count": 31,
     "metadata": {},
     "output_type": "execute_result"
    }
   ],
   "source": [
    "c[:20]"
   ]
  },
  {
   "cell_type": "code",
   "execution_count": 33,
   "metadata": {},
   "outputs": [
    {
     "data": {
      "text/plain": [
       "Opening                                                                          0\n",
       "Opening.1                                                                        0\n",
       "Title                                                                            0\n",
       "Production company                                                               0\n",
       "Cast and crew                                                                    0\n",
       ".mw-parser-output .tooltip-dotted{border-bottom:1px dotted;cursor:help}Ref.    302\n",
       "Ref.                                                                           118\n",
       "dtype: int64"
      ]
     },
     "execution_count": 33,
     "metadata": {},
     "output_type": "execute_result"
    }
   ],
   "source": [
    "df_2021.isnull().sum()"
   ]
  },
  {
   "cell_type": "code",
   "execution_count": 21,
   "metadata": {},
   "outputs": [],
   "source": [
    "#pip install tmdbv3api"
   ]
  },
  {
   "cell_type": "code",
   "execution_count": 7,
   "metadata": {},
   "outputs": [],
   "source": [
    "from tmdbv3api import TMDb\n",
    "import json\n",
    "import requests\n",
    "tmdb = TMDb()\n",
    "tmdb.api_key = '5e7481152ec747e2bb753efcb58a2073'"
   ]
  },
  {
   "cell_type": "code",
   "execution_count": 8,
   "metadata": {},
   "outputs": [],
   "source": [
    "from tmdbv3api import Movie\n",
    "tmdb_movie = Movie()\n",
    "def get_overview(x):\n",
    "    overview = ''\n",
    "    result = tmdb_movie.search(x)\n",
    "    movie_id = result[0].id\n",
    "    req = 'https://api.themoviedb.org/3/movie/{}?api_key={}'.format(movie_id,tmdb.api_key)\n",
    "    response = requests.get('https://api.themoviedb.org/3/movie/{}?api_key={}'.format(movie_id,tmdb.api_key))\n",
    "    data_json = response.json()\n",
    "    if data_json['overview']:\n",
    "        overview = data_json['overview']\n",
    "    else:\n",
    "        overview = np.nan\n",
    "        \n",
    "    \n",
    "    \n",
    "    return overview"
   ]
  },
  {
   "cell_type": "code",
   "execution_count": 9,
   "metadata": {},
   "outputs": [],
   "source": [
    "from tmdbv3api import Movie\n",
    "tmdb_movie = Movie() \n",
    "def get_genre(x):\n",
    "    genres = []\n",
    "    result = tmdb_movie.search(x)\n",
    "    if not result:\n",
    "        return np.NaN\n",
    "    else:\n",
    "        movie_id = result[0].id\n",
    "        response = requests.get('https://api.themoviedb.org/3/movie/{}?api_key={}'.format(movie_id,tmdb.api_key))\n",
    "        data_json = response.json()\n",
    "        if data_json['genres']:\n",
    "            genre_str = \" \" \n",
    "            for i in range(0,len(data_json['genres'])):\n",
    "                genres.append(data_json['genres'][i]['name'])\n",
    "            return genre_str.join(genres)\n",
    "        else:\n",
    "            return np.NaN"
   ]
  },
  {
   "cell_type": "code",
   "execution_count": 10,
   "metadata": {},
   "outputs": [],
   "source": [
    "from tmdbv3api import Movie\n",
    "tmdb_movie = Movie()\n",
    "def get_tag(x):\n",
    "    tagline = ''\n",
    "    result = tmdb_movie.search(x)\n",
    "    movie_id = result[0].id\n",
    "    req = 'https://api.themoviedb.org/3/movie/{}?api_key={}'.format(movie_id,tmdb.api_key)\n",
    "    response = requests.get('https://api.themoviedb.org/3/movie/{}?api_key={}'.format(movie_id,tmdb.api_key))\n",
    "    data_json = response.json()\n",
    "    if data_json['tagline']:\n",
    "        tagline = data_json['tagline']\n",
    "    else:\n",
    "        tagline = np.nan\n",
    "        \n",
    "    \n",
    "    return tagline"
   ]
  },
  {
   "cell_type": "code",
   "execution_count": 40,
   "metadata": {},
   "outputs": [],
   "source": [
    "df_2021['genres'] = df_2021['Title'].map(lambda x: get_genre(str(x)))"
   ]
  },
  {
   "cell_type": "code",
   "execution_count": 41,
   "metadata": {},
   "outputs": [],
   "source": [
    "df_2021['overview'] = df_2021['Title'].map(lambda x: get_overview(str(x)))"
   ]
  },
  {
   "cell_type": "code",
   "execution_count": 42,
   "metadata": {},
   "outputs": [],
   "source": [
    "df_2021['tag'] = df_2021['Title'].map(lambda x: get_tag(str(x)))"
   ]
  },
  {
   "cell_type": "code",
   "execution_count": 44,
   "metadata": {},
   "outputs": [
    {
     "data": {
      "text/html": [
       "<div>\n",
       "<style scoped>\n",
       "    .dataframe tbody tr th:only-of-type {\n",
       "        vertical-align: middle;\n",
       "    }\n",
       "\n",
       "    .dataframe tbody tr th {\n",
       "        vertical-align: top;\n",
       "    }\n",
       "\n",
       "    .dataframe thead th {\n",
       "        text-align: right;\n",
       "    }\n",
       "</style>\n",
       "<table border=\"1\" class=\"dataframe\">\n",
       "  <thead>\n",
       "    <tr style=\"text-align: right;\">\n",
       "      <th></th>\n",
       "      <th>Opening</th>\n",
       "      <th>Opening.1</th>\n",
       "      <th>Title</th>\n",
       "      <th>Production company</th>\n",
       "      <th>Cast and crew</th>\n",
       "      <th>.mw-parser-output .tooltip-dotted{border-bottom:1px dotted;cursor:help}Ref.</th>\n",
       "      <th>Ref.</th>\n",
       "      <th>genres</th>\n",
       "      <th>overview</th>\n",
       "      <th>tag</th>\n",
       "    </tr>\n",
       "  </thead>\n",
       "  <tbody>\n",
       "    <tr>\n",
       "      <th>0</th>\n",
       "      <td>JANUARY</td>\n",
       "      <td>1</td>\n",
       "      <td>Shadow in the Cloud</td>\n",
       "      <td>Vertical Entertainment</td>\n",
       "      <td>Roseanne Liang (director/screenplay); Max Land...</td>\n",
       "      <td>[2]</td>\n",
       "      <td>NaN</td>\n",
       "      <td>[Horror Action War]</td>\n",
       "      <td>A WWII pilot traveling with top secret documen...</td>\n",
       "      <td>Every mission has its demons.</td>\n",
       "    </tr>\n",
       "    <tr>\n",
       "      <th>1</th>\n",
       "      <td>JANUARY</td>\n",
       "      <td>13</td>\n",
       "      <td>The White Tiger</td>\n",
       "      <td>Netflix</td>\n",
       "      <td>Ramin Bahrani (director/screenplay); Adarsh Go...</td>\n",
       "      <td>NaN</td>\n",
       "      <td>NaN</td>\n",
       "      <td>[Drama]</td>\n",
       "      <td>An ambitious Indian driver uses his wit and cu...</td>\n",
       "      <td>Eat or get eaten up.</td>\n",
       "    </tr>\n",
       "  </tbody>\n",
       "</table>\n",
       "</div>"
      ],
      "text/plain": [
       "   Opening  Opening.1                Title      Production company  \\\n",
       "0  JANUARY          1  Shadow in the Cloud  Vertical Entertainment   \n",
       "1  JANUARY         13      The White Tiger                 Netflix   \n",
       "\n",
       "                                       Cast and crew  \\\n",
       "0  Roseanne Liang (director/screenplay); Max Land...   \n",
       "1  Ramin Bahrani (director/screenplay); Adarsh Go...   \n",
       "\n",
       "  .mw-parser-output .tooltip-dotted{border-bottom:1px dotted;cursor:help}Ref.  \\\n",
       "0                                                [2]                            \n",
       "1                                                NaN                            \n",
       "\n",
       "  Ref.               genres  \\\n",
       "0  NaN  [Horror Action War]   \n",
       "1  NaN              [Drama]   \n",
       "\n",
       "                                            overview  \\\n",
       "0  A WWII pilot traveling with top secret documen...   \n",
       "1  An ambitious Indian driver uses his wit and cu...   \n",
       "\n",
       "                             tag  \n",
       "0  Every mission has its demons.  \n",
       "1           Eat or get eaten up.  "
      ]
     },
     "execution_count": 44,
     "metadata": {},
     "output_type": "execute_result"
    }
   ],
   "source": [
    "df_2021.head(2)"
   ]
  },
  {
   "cell_type": "code",
   "execution_count": 56,
   "metadata": {},
   "outputs": [],
   "source": [
    "df_2020['genres'] = df_2020['Title'].map(lambda x: get_genre(str(x)))"
   ]
  },
  {
   "cell_type": "code",
   "execution_count": 57,
   "metadata": {},
   "outputs": [],
   "source": [
    "df_2020['overview'] = df_2020['Title'].map(lambda x: get_overview(str(x)))"
   ]
  },
  {
   "cell_type": "code",
   "execution_count": 58,
   "metadata": {},
   "outputs": [],
   "source": [
    "df_2020['tag'] = df_2020['Title'].map(lambda x: get_tag(str(x)))"
   ]
  },
  {
   "cell_type": "code",
   "execution_count": 59,
   "metadata": {},
   "outputs": [
    {
     "data": {
      "text/html": [
       "<div>\n",
       "<style scoped>\n",
       "    .dataframe tbody tr th:only-of-type {\n",
       "        vertical-align: middle;\n",
       "    }\n",
       "\n",
       "    .dataframe tbody tr th {\n",
       "        vertical-align: top;\n",
       "    }\n",
       "\n",
       "    .dataframe thead th {\n",
       "        text-align: right;\n",
       "    }\n",
       "</style>\n",
       "<table border=\"1\" class=\"dataframe\">\n",
       "  <thead>\n",
       "    <tr style=\"text-align: right;\">\n",
       "      <th></th>\n",
       "      <th>Opening</th>\n",
       "      <th>Opening.1</th>\n",
       "      <th>Title</th>\n",
       "      <th>Production company</th>\n",
       "      <th>Cast and crew</th>\n",
       "      <th>.mw-parser-output .tooltip-dotted{border-bottom:1px dotted;cursor:help}Ref.</th>\n",
       "      <th>Ref.</th>\n",
       "      <th>genres</th>\n",
       "      <th>overview</th>\n",
       "      <th>tag</th>\n",
       "    </tr>\n",
       "  </thead>\n",
       "  <tbody>\n",
       "    <tr>\n",
       "      <th>0</th>\n",
       "      <td>JANUARY</td>\n",
       "      <td>3</td>\n",
       "      <td>The Grudge</td>\n",
       "      <td>Screen Gems / Stage 6 Films / Ghost House Pict...</td>\n",
       "      <td>Nicolas Pesce (director/screenplay); Andrea Ri...</td>\n",
       "      <td>[2]</td>\n",
       "      <td>NaN</td>\n",
       "      <td>[Horror Mystery Thriller]</td>\n",
       "      <td>An American nurse living and working in Tokyo ...</td>\n",
       "      <td>It never forgives. It never forgets.</td>\n",
       "    </tr>\n",
       "    <tr>\n",
       "      <th>1</th>\n",
       "      <td>JANUARY</td>\n",
       "      <td>10</td>\n",
       "      <td>Underwater</td>\n",
       "      <td>20th Century Fox / TSG Entertainment / Chernin...</td>\n",
       "      <td>William Eubank (director); Brian Duffield, Ada...</td>\n",
       "      <td>[3]</td>\n",
       "      <td>NaN</td>\n",
       "      <td>[Action Horror Science Fiction Thriller]</td>\n",
       "      <td>After an earthquake destroys their underwater ...</td>\n",
       "      <td>7 miles below the ocean surface something has ...</td>\n",
       "    </tr>\n",
       "  </tbody>\n",
       "</table>\n",
       "</div>"
      ],
      "text/plain": [
       "   Opening  Opening.1       Title  \\\n",
       "0  JANUARY          3  The Grudge   \n",
       "1  JANUARY         10  Underwater   \n",
       "\n",
       "                                  Production company  \\\n",
       "0  Screen Gems / Stage 6 Films / Ghost House Pict...   \n",
       "1  20th Century Fox / TSG Entertainment / Chernin...   \n",
       "\n",
       "                                       Cast and crew  \\\n",
       "0  Nicolas Pesce (director/screenplay); Andrea Ri...   \n",
       "1  William Eubank (director); Brian Duffield, Ada...   \n",
       "\n",
       "  .mw-parser-output .tooltip-dotted{border-bottom:1px dotted;cursor:help}Ref.  \\\n",
       "0                                                [2]                            \n",
       "1                                                [3]                            \n",
       "\n",
       "  Ref.                                    genres  \\\n",
       "0  NaN                 [Horror Mystery Thriller]   \n",
       "1  NaN  [Action Horror Science Fiction Thriller]   \n",
       "\n",
       "                                            overview  \\\n",
       "0  An American nurse living and working in Tokyo ...   \n",
       "1  After an earthquake destroys their underwater ...   \n",
       "\n",
       "                                                 tag  \n",
       "0               It never forgives. It never forgets.  \n",
       "1  7 miles below the ocean surface something has ...  "
      ]
     },
     "execution_count": 59,
     "metadata": {},
     "output_type": "execute_result"
    }
   ],
   "source": [
    "df_2020.head(2)"
   ]
  },
  {
   "cell_type": "code",
   "execution_count": 55,
   "metadata": {},
   "outputs": [
    {
     "data": {
      "text/plain": [
       "'The SpongeBob Movie: Sponge on the Run'"
      ]
     },
     "execution_count": 55,
     "metadata": {},
     "output_type": "execute_result"
    }
   ],
   "source": [
    "def get_director(x):\n",
    "    if \" (director)\" in x:\n",
    "        return x.split(\" (director)\")[0]\n",
    "    elif \" (directors)\" in x:\n",
    "        return x.split(\" (directors)\")[0]\n",
    "    else:\n",
    "        return x.split(\" (director/screenplay)\")[0]"
   ]
  },
  {
   "cell_type": "code",
   "execution_count": null,
   "metadata": {},
   "outputs": [],
   "source": []
  },
  {
   "cell_type": "markdown",
   "metadata": {},
   "source": [
    "<a id=\"three\"></a>\n",
    "## 3. Exploratory Data Analysis (EDA)\n",
    "<a class=\"anchor\" id=\"1.1\"></a>\n",
    "<a href=#cont>Back to Table of Contents</a>\n",
    "\n",
    "Exploratory Data Analysis refers to the critical process of performing initial investigations on a dataset so as to discover patterns in the data, spot anomalies, to check assumptions with the help of some statistics and graphical representations. The following section analyses and provides an overview of the given data. \n",
    "\n",
    "Looking at the shape and info of each table, looking at each each column of the data. Merging some tables to get to see the distribution of some columns.\n",
    "\n",
    "Since there is more than one table we would like to explore each one\n"
   ]
  },
  {
   "cell_type": "markdown",
   "metadata": {},
   "source": [
    "# Exploring with TMDB data\n",
    "\n",
    "looking at the tmdb table looking at the columns we see the they are 5 columns\n"
   ]
  },
  {
   "cell_type": "code",
   "execution_count": 9,
   "metadata": {},
   "outputs": [
    {
     "data": {
      "text/html": [
       "<div>\n",
       "<style scoped>\n",
       "    .dataframe tbody tr th:only-of-type {\n",
       "        vertical-align: middle;\n",
       "    }\n",
       "\n",
       "    .dataframe tbody tr th {\n",
       "        vertical-align: top;\n",
       "    }\n",
       "\n",
       "    .dataframe thead th {\n",
       "        text-align: right;\n",
       "    }\n",
       "</style>\n",
       "<table border=\"1\" class=\"dataframe\">\n",
       "  <thead>\n",
       "    <tr style=\"text-align: right;\">\n",
       "      <th></th>\n",
       "      <th>movieId</th>\n",
       "      <th>title_cast</th>\n",
       "      <th>director</th>\n",
       "      <th>runtime</th>\n",
       "      <th>budget</th>\n",
       "      <th>plot_keywords</th>\n",
       "    </tr>\n",
       "  </thead>\n",
       "  <tbody>\n",
       "    <tr>\n",
       "      <th>0</th>\n",
       "      <td>1</td>\n",
       "      <td>Tom Hanks|Tim Allen|Don Rickles|Jim Varney|Wal...</td>\n",
       "      <td>John Lasseter</td>\n",
       "      <td>81.0</td>\n",
       "      <td>$30,000,000</td>\n",
       "      <td>toy|rivalry|cowboy|cgi animation</td>\n",
       "    </tr>\n",
       "    <tr>\n",
       "      <th>1</th>\n",
       "      <td>2</td>\n",
       "      <td>Robin Williams|Jonathan Hyde|Kirsten Dunst|Bra...</td>\n",
       "      <td>Jonathan Hensleigh</td>\n",
       "      <td>104.0</td>\n",
       "      <td>$65,000,000</td>\n",
       "      <td>board game|adventurer|fight|game</td>\n",
       "    </tr>\n",
       "    <tr>\n",
       "      <th>2</th>\n",
       "      <td>3</td>\n",
       "      <td>Walter Matthau|Jack Lemmon|Sophia Loren|Ann-Ma...</td>\n",
       "      <td>Mark Steven Johnson</td>\n",
       "      <td>101.0</td>\n",
       "      <td>$25,000,000</td>\n",
       "      <td>boat|lake|neighbor|rivalry</td>\n",
       "    </tr>\n",
       "    <tr>\n",
       "      <th>3</th>\n",
       "      <td>4</td>\n",
       "      <td>Whitney Houston|Angela Bassett|Loretta Devine|...</td>\n",
       "      <td>Terry McMillan</td>\n",
       "      <td>124.0</td>\n",
       "      <td>$16,000,000</td>\n",
       "      <td>black american|husband wife relationship|betra...</td>\n",
       "    </tr>\n",
       "    <tr>\n",
       "      <th>4</th>\n",
       "      <td>5</td>\n",
       "      <td>Steve Martin|Diane Keaton|Martin Short|Kimberl...</td>\n",
       "      <td>Albert Hackett</td>\n",
       "      <td>106.0</td>\n",
       "      <td>$30,000,000</td>\n",
       "      <td>fatherhood|doberman|dog|mansion</td>\n",
       "    </tr>\n",
       "  </tbody>\n",
       "</table>\n",
       "</div>"
      ],
      "text/plain": [
       "   movieId                                         title_cast  \\\n",
       "0        1  Tom Hanks|Tim Allen|Don Rickles|Jim Varney|Wal...   \n",
       "1        2  Robin Williams|Jonathan Hyde|Kirsten Dunst|Bra...   \n",
       "2        3  Walter Matthau|Jack Lemmon|Sophia Loren|Ann-Ma...   \n",
       "3        4  Whitney Houston|Angela Bassett|Loretta Devine|...   \n",
       "4        5  Steve Martin|Diane Keaton|Martin Short|Kimberl...   \n",
       "\n",
       "              director  runtime       budget  \\\n",
       "0        John Lasseter     81.0  $30,000,000   \n",
       "1   Jonathan Hensleigh    104.0  $65,000,000   \n",
       "2  Mark Steven Johnson    101.0  $25,000,000   \n",
       "3       Terry McMillan    124.0  $16,000,000   \n",
       "4       Albert Hackett    106.0  $30,000,000   \n",
       "\n",
       "                                       plot_keywords  \n",
       "0                   toy|rivalry|cowboy|cgi animation  \n",
       "1                   board game|adventurer|fight|game  \n",
       "2                         boat|lake|neighbor|rivalry  \n",
       "3  black american|husband wife relationship|betra...  \n",
       "4                    fatherhood|doberman|dog|mansion  "
      ]
     },
     "execution_count": 9,
     "metadata": {},
     "output_type": "execute_result"
    }
   ],
   "source": [
    "# looking at the imdb data\n",
    "imdb_data.head()"
   ]
  },
  {
   "cell_type": "code",
   "execution_count": 12,
   "metadata": {},
   "outputs": [
    {
     "data": {
      "text/plain": [
       "(27278, 6)"
      ]
     },
     "execution_count": 12,
     "metadata": {},
     "output_type": "execute_result"
    }
   ],
   "source": [
    "imdb_data.shape"
   ]
  },
  {
   "cell_type": "code",
   "execution_count": 216,
   "metadata": {},
   "outputs": [
    {
     "data": {
      "text/plain": [
       "movieId              0\n",
       "title_cast       10068\n",
       "director          9874\n",
       "runtime          12089\n",
       "budget           19372\n",
       "plot_keywords    11078\n",
       "dtype: int64"
      ]
     },
     "execution_count": 216,
     "metadata": {},
     "output_type": "execute_result"
    }
   ],
   "source": [
    "imdb_data.isnull().sum()"
   ]
  },
  {
   "cell_type": "markdown",
   "metadata": {},
   "source": [
    "From the above analysis we can see that there is a lot of missing data that we need like `director`, `title_cast` and the `plot_keyword`, all his data need to be collected"
   ]
  },
  {
   "cell_type": "code",
   "execution_count": 13,
   "metadata": {},
   "outputs": [
    {
     "name": "stdout",
     "output_type": "stream",
     "text": [
      "<class 'pandas.core.frame.DataFrame'>\n",
      "RangeIndex: 27278 entries, 0 to 27277\n",
      "Data columns (total 6 columns):\n",
      " #   Column         Non-Null Count  Dtype  \n",
      "---  ------         --------------  -----  \n",
      " 0   movieId        27278 non-null  int64  \n",
      " 1   title_cast     17210 non-null  object \n",
      " 2   director       17404 non-null  object \n",
      " 3   runtime        15189 non-null  float64\n",
      " 4   budget         7906 non-null   object \n",
      " 5   plot_keywords  16200 non-null  object \n",
      "dtypes: float64(1), int64(1), object(4)\n",
      "memory usage: 1.2+ MB\n"
     ]
    }
   ],
   "source": [
    " d = imdb_data.info()"
   ]
  },
  {
   "cell_type": "code",
   "execution_count": null,
   "metadata": {},
   "outputs": [],
   "source": [
    "fig = px.pie(values=[27278, 16200], names=['Total data', 'Available Data'], title='Missing data in the imdb_data in the plot_keyword column')\n",
    "fig.show()"
   ]
  },
  {
   "cell_type": "code",
   "execution_count": 17,
   "metadata": {},
   "outputs": [
    {
     "data": {
      "text/html": [
       "<div>\n",
       "<style scoped>\n",
       "    .dataframe tbody tr th:only-of-type {\n",
       "        vertical-align: middle;\n",
       "    }\n",
       "\n",
       "    .dataframe tbody tr th {\n",
       "        vertical-align: top;\n",
       "    }\n",
       "\n",
       "    .dataframe thead th {\n",
       "        text-align: right;\n",
       "    }\n",
       "</style>\n",
       "<table border=\"1\" class=\"dataframe\">\n",
       "  <thead>\n",
       "    <tr style=\"text-align: right;\">\n",
       "      <th></th>\n",
       "      <th>movieId</th>\n",
       "      <th>runtime</th>\n",
       "    </tr>\n",
       "  </thead>\n",
       "  <tbody>\n",
       "    <tr>\n",
       "      <th>count</th>\n",
       "      <td>27278.000000</td>\n",
       "      <td>15189.000000</td>\n",
       "    </tr>\n",
       "    <tr>\n",
       "      <th>mean</th>\n",
       "      <td>59855.480570</td>\n",
       "      <td>100.312331</td>\n",
       "    </tr>\n",
       "    <tr>\n",
       "      <th>std</th>\n",
       "      <td>44429.314697</td>\n",
       "      <td>31.061707</td>\n",
       "    </tr>\n",
       "    <tr>\n",
       "      <th>min</th>\n",
       "      <td>1.000000</td>\n",
       "      <td>1.000000</td>\n",
       "    </tr>\n",
       "    <tr>\n",
       "      <th>25%</th>\n",
       "      <td>6931.250000</td>\n",
       "      <td>89.000000</td>\n",
       "    </tr>\n",
       "    <tr>\n",
       "      <th>50%</th>\n",
       "      <td>68068.000000</td>\n",
       "      <td>98.000000</td>\n",
       "    </tr>\n",
       "    <tr>\n",
       "      <th>75%</th>\n",
       "      <td>100293.250000</td>\n",
       "      <td>109.000000</td>\n",
       "    </tr>\n",
       "    <tr>\n",
       "      <th>max</th>\n",
       "      <td>131262.000000</td>\n",
       "      <td>877.000000</td>\n",
       "    </tr>\n",
       "  </tbody>\n",
       "</table>\n",
       "</div>"
      ],
      "text/plain": [
       "             movieId       runtime\n",
       "count   27278.000000  15189.000000\n",
       "mean    59855.480570    100.312331\n",
       "std     44429.314697     31.061707\n",
       "min         1.000000      1.000000\n",
       "25%      6931.250000     89.000000\n",
       "50%     68068.000000     98.000000\n",
       "75%    100293.250000    109.000000\n",
       "max    131262.000000    877.000000"
      ]
     },
     "execution_count": 17,
     "metadata": {},
     "output_type": "execute_result"
    }
   ],
   "source": [
    "imdb_data.describe()"
   ]
  },
  {
   "cell_type": "markdown",
   "metadata": {},
   "source": [
    "# Exploring with movies table\n",
    "\n",
    "With the Movies Data there is not that much missing, except the fact that for our content based we will need all the text datas contents to make a content based model."
   ]
  },
  {
   "cell_type": "code",
   "execution_count": 18,
   "metadata": {},
   "outputs": [
    {
     "data": {
      "text/html": [
       "<div>\n",
       "<style scoped>\n",
       "    .dataframe tbody tr th:only-of-type {\n",
       "        vertical-align: middle;\n",
       "    }\n",
       "\n",
       "    .dataframe tbody tr th {\n",
       "        vertical-align: top;\n",
       "    }\n",
       "\n",
       "    .dataframe thead th {\n",
       "        text-align: right;\n",
       "    }\n",
       "</style>\n",
       "<table border=\"1\" class=\"dataframe\">\n",
       "  <thead>\n",
       "    <tr style=\"text-align: right;\">\n",
       "      <th></th>\n",
       "      <th>movieId</th>\n",
       "      <th>title</th>\n",
       "      <th>genres</th>\n",
       "    </tr>\n",
       "  </thead>\n",
       "  <tbody>\n",
       "    <tr>\n",
       "      <th>62418</th>\n",
       "      <td>209157</td>\n",
       "      <td>We (2018)</td>\n",
       "      <td>Drama</td>\n",
       "    </tr>\n",
       "    <tr>\n",
       "      <th>62419</th>\n",
       "      <td>209159</td>\n",
       "      <td>Window of the Soul (2001)</td>\n",
       "      <td>Documentary</td>\n",
       "    </tr>\n",
       "    <tr>\n",
       "      <th>62420</th>\n",
       "      <td>209163</td>\n",
       "      <td>Bad Poems (2018)</td>\n",
       "      <td>Comedy|Drama</td>\n",
       "    </tr>\n",
       "    <tr>\n",
       "      <th>62421</th>\n",
       "      <td>209169</td>\n",
       "      <td>A Girl Thing (2001)</td>\n",
       "      <td>NaN</td>\n",
       "    </tr>\n",
       "    <tr>\n",
       "      <th>62422</th>\n",
       "      <td>209171</td>\n",
       "      <td>Women of Devil's Island (1962)</td>\n",
       "      <td>Action|Adventure|Drama</td>\n",
       "    </tr>\n",
       "  </tbody>\n",
       "</table>\n",
       "</div>"
      ],
      "text/plain": [
       "       movieId                           title                  genres\n",
       "62418   209157                       We (2018)                   Drama\n",
       "62419   209159       Window of the Soul (2001)             Documentary\n",
       "62420   209163                Bad Poems (2018)            Comedy|Drama\n",
       "62421   209169             A Girl Thing (2001)                     NaN\n",
       "62422   209171  Women of Devil's Island (1962)  Action|Adventure|Drama"
      ]
     },
     "execution_count": 18,
     "metadata": {},
     "output_type": "execute_result"
    }
   ],
   "source": [
    "movies_data.tail(5)"
   ]
  },
  {
   "cell_type": "code",
   "execution_count": 19,
   "metadata": {},
   "outputs": [
    {
     "data": {
      "text/plain": [
       "movieId       0\n",
       "title         0\n",
       "genres     5062\n",
       "dtype: int64"
      ]
     },
     "execution_count": 19,
     "metadata": {},
     "output_type": "execute_result"
    }
   ],
   "source": [
    "movies_data.isnull().sum()"
   ]
  },
  {
   "cell_type": "markdown",
   "metadata": {},
   "source": [
    "Exploring the null values of genre is not visible from looking at nulls because it has a value of `(no genres listed)` this means they are nulls and we need the GENRE for our model training."
   ]
  },
  {
   "cell_type": "code",
   "execution_count": 12,
   "metadata": {},
   "outputs": [],
   "source": [
    "movies_data['genres'] = movies_data['genres'].replace('(no genres listed)', np.nan)"
   ]
  },
  {
   "cell_type": "code",
   "execution_count": 13,
   "metadata": {},
   "outputs": [
    {
     "data": {
      "text/plain": [
       "movieId       0\n",
       "title         0\n",
       "genres     5062\n",
       "dtype: int64"
      ]
     },
     "execution_count": 13,
     "metadata": {},
     "output_type": "execute_result"
    }
   ],
   "source": [
    "movies_data.isnull().sum()"
   ]
  },
  {
   "cell_type": "markdown",
   "metadata": {},
   "source": [
    "Now we can see the number of missing values from the data that was imputed with a value"
   ]
  },
  {
   "cell_type": "code",
   "execution_count": 14,
   "metadata": {},
   "outputs": [],
   "source": [
    "no_genres = movies_data[movies_data['genres'].isnull()]"
   ]
  },
  {
   "cell_type": "code",
   "execution_count": 15,
   "metadata": {},
   "outputs": [
    {
     "data": {
      "text/html": [
       "<div>\n",
       "<style scoped>\n",
       "    .dataframe tbody tr th:only-of-type {\n",
       "        vertical-align: middle;\n",
       "    }\n",
       "\n",
       "    .dataframe tbody tr th {\n",
       "        vertical-align: top;\n",
       "    }\n",
       "\n",
       "    .dataframe thead th {\n",
       "        text-align: right;\n",
       "    }\n",
       "</style>\n",
       "<table border=\"1\" class=\"dataframe\">\n",
       "  <thead>\n",
       "    <tr style=\"text-align: right;\">\n",
       "      <th></th>\n",
       "      <th>movieId</th>\n",
       "      <th>title</th>\n",
       "      <th>genres</th>\n",
       "    </tr>\n",
       "  </thead>\n",
       "  <tbody>\n",
       "    <tr>\n",
       "      <th>15881</th>\n",
       "      <td>83773</td>\n",
       "      <td>Away with Words (San tiao ren) (1999)</td>\n",
       "      <td>NaN</td>\n",
       "    </tr>\n",
       "    <tr>\n",
       "      <th>16060</th>\n",
       "      <td>84768</td>\n",
       "      <td>Glitterbug (1994)</td>\n",
       "      <td>NaN</td>\n",
       "    </tr>\n",
       "    <tr>\n",
       "      <th>16351</th>\n",
       "      <td>86493</td>\n",
       "      <td>Age of the Earth, The (A Idade da Terra) (1980)</td>\n",
       "      <td>NaN</td>\n",
       "    </tr>\n",
       "    <tr>\n",
       "      <th>16491</th>\n",
       "      <td>87061</td>\n",
       "      <td>Trails (Veredas) (1978)</td>\n",
       "      <td>NaN</td>\n",
       "    </tr>\n",
       "    <tr>\n",
       "      <th>17404</th>\n",
       "      <td>91246</td>\n",
       "      <td>Milky Way (Tejút) (2007)</td>\n",
       "      <td>NaN</td>\n",
       "    </tr>\n",
       "  </tbody>\n",
       "</table>\n",
       "</div>"
      ],
      "text/plain": [
       "       movieId                                            title genres\n",
       "15881    83773            Away with Words (San tiao ren) (1999)    NaN\n",
       "16060    84768                                Glitterbug (1994)    NaN\n",
       "16351    86493  Age of the Earth, The (A Idade da Terra) (1980)    NaN\n",
       "16491    87061                          Trails (Veredas) (1978)    NaN\n",
       "17404    91246                         Milky Way (Tejút) (2007)    NaN"
      ]
     },
     "execution_count": 15,
     "metadata": {},
     "output_type": "execute_result"
    }
   ],
   "source": [
    "no_genres.head()"
   ]
  },
  {
   "cell_type": "code",
   "execution_count": 16,
   "metadata": {},
   "outputs": [
    {
     "data": {
      "text/plain": [
       "5062"
      ]
     },
     "execution_count": 16,
     "metadata": {},
     "output_type": "execute_result"
    }
   ],
   "source": [
    "len(no_genres)"
   ]
  },
  {
   "cell_type": "markdown",
   "metadata": {},
   "source": [
    "the number of movies in the table with no genre values (nulls)"
   ]
  },
  {
   "cell_type": "code",
   "execution_count": 155,
   "metadata": {},
   "outputs": [],
   "source": [
    "#no_genres.to_csv('No_genres.csv')"
   ]
  },
  {
   "cell_type": "markdown",
   "metadata": {},
   "source": [
    "From our observation with the data the `genre` column is one of the important columns we gonna need, the Api is to be used to get more data for the missing genres"
   ]
  },
  {
   "cell_type": "code",
   "execution_count": 20,
   "metadata": {},
   "outputs": [],
   "source": [
    "# split the title of movies to get both names of the movie including the onr in brackets\n",
    "split_titles = [i.split('(') for i in no_genres['title']]"
   ]
  },
  {
   "cell_type": "markdown",
   "metadata": {},
   "source": [
    "the movies in the API database are written in both French and English, in order to get the movies with both languages we will need to split our dat such that we can slice a list of titles of the same movie in different languages the English Language and the French language"
   ]
  },
  {
   "cell_type": "code",
   "execution_count": 21,
   "metadata": {},
   "outputs": [
    {
     "data": {
      "text/plain": [
       "[['Away with Words ', 'San tiao ren) ', '1999)'],\n",
       " ['Glitterbug ', '1994)'],\n",
       " ['Age of the Earth, The ', 'A Idade da Terra) ', '1980)']]"
      ]
     },
     "execution_count": 21,
     "metadata": {},
     "output_type": "execute_result"
    }
   ],
   "source": [
    "split_titles[:3]"
   ]
  },
  {
   "cell_type": "markdown",
   "metadata": {},
   "source": [
    "in order to get the english version of the title of a movie we iterate the `split_titles` array and use the position Zero as the index of the English version of the movie."
   ]
  },
  {
   "cell_type": "code",
   "execution_count": 154,
   "metadata": {},
   "outputs": [
    {
     "data": {
      "text/plain": [
       "['Away with Words ',\n",
       " 'Glitterbug ',\n",
       " 'Age of the Earth, The ',\n",
       " 'Trails ',\n",
       " 'Milky Way ',\n",
       " 'Dancing Hawk, The ',\n",
       " 'Warsaw Bridge ',\n",
       " 'Ella Lola, a la Trilby ',\n",
       " 'Promise of the Flesh ',\n",
       " 'Nocturno 29 ',\n",
       " 'Les hautes solitudes ',\n",
       " 'Primus Hallucino-Genetics Live 2004 ',\n",
       " 'La cravate ',\n",
       " 'Study in Choreography for Camera, A ',\n",
       " \"It's My Mother's Birthday Today \",\n",
       " 'Spare Bed-Room ',\n",
       " 'Madame Bovary ',\n",
       " 'Christmas Oranges ',\n",
       " 'Clockwork Mice ',\n",
       " 'Lettera Amorosa ',\n",
       " 'Passeio com Johnny Guitar ',\n",
       " 'Conserva Acabada ',\n",
       " 'Complicit ',\n",
       " 'Conquest of Cochise ',\n",
       " 'Crime and Punishment, USA ',\n",
       " 'Danger Zone ',\n",
       " 'Ecstasy in Entropy ',\n",
       " \"Let's Spend the Night Together \",\n",
       " 'Say It with Songs ',\n",
       " 'Zanjeer ',\n",
       " 'Whoregasm ',\n",
       " 'Kiss Me Goodbye ',\n",
       " 'Thrust in Me ',\n",
       " 'The Wild World of Lydia Lunch ',\n",
       " 'Fillmore ',\n",
       " 'The Forgotten Faces ',\n",
       " 'T,O,U,C,H,I,N,G ',\n",
       " 'Little Hamlet ',\n",
       " 'The Menacing Eye ',\n",
       " 'In Order Not to Be Here ',\n",
       " 'The Hearts of Age ',\n",
       " 'A True Mob Story ',\n",
       " 'Un centesimo di secondo ',\n",
       " 'Sekirei ',\n",
       " \"Solomon Northup's Odyssey \",\n",
       " \"If I'm Lucky \",\n",
       " 'Blablablá ',\n",
       " 'Where Do We Go from Here? ',\n",
       " 'Sally ',\n",
       " 'Howling VI: The Freaks ',\n",
       " 'American Black Beauty ',\n",
       " 'The Wrong Woman ',\n",
       " 'Expecting Amish ',\n",
       " 'Night Song ',\n",
       " 'Two Tickets to Broadway ',\n",
       " 'The First Traveling Saleslady ',\n",
       " 'Nana ',\n",
       " 'John Goldfarb, Please Come Home! ',\n",
       " 'Black Horizon ',\n",
       " 'Oliver Twist ',\n",
       " 'The Substitute 3: Winner Takes All ',\n",
       " 'The Last Flight ',\n",
       " 'Starlift ',\n",
       " 'Ben-hur ',\n",
       " 'Pirates of the Caribbean: Dead Men Tell No Tales ',\n",
       " 'The Trans-Atlantic Mystery ',\n",
       " 'Someone To Love ',\n",
       " 'Hammersmith Is Out ',\n",
       " 'The Racers ',\n",
       " 'Stalingrad ',\n",
       " 'No Greater Glory ',\n",
       " 'Goodbye, Mr. President ',\n",
       " 'Red Dust ',\n",
       " 'Left for Dead ',\n",
       " 'The American Success Company ',\n",
       " 'Street Girl ',\n",
       " 'The Divine Woman ',\n",
       " 'Lease of Life ',\n",
       " 'The Great Man ',\n",
       " 'State Fair ',\n",
       " 'Katherine ',\n",
       " 'Conspiracy: The Trial of the Chicago 8 ',\n",
       " 'Crown Heights ',\n",
       " 'Lucrèce Borgia ',\n",
       " 'Tower of Nesle ',\n",
       " \"Cyrano et D'Artagnan \",\n",
       " 'Heatseeker ',\n",
       " 'Struggle in the Valley ',\n",
       " 'Lotte from Gadgetville ',\n",
       " 'Poster Girl ',\n",
       " 'Newlyweeds ',\n",
       " 'Wuthering Heights ',\n",
       " 'Certain Fury ',\n",
       " 'Family of Spies ',\n",
       " 'Hell Below ',\n",
       " 'While the City Sleeps ',\n",
       " 'Spitfire ',\n",
       " \"Maybe I'll Come Home in the Spring \",\n",
       " 'The Night That Panicked America ',\n",
       " 'Goldengirl ',\n",
       " 'Memorial Day ',\n",
       " 'Terrible Joe Moran',\n",
       " 'The Karen Carpenter Story ',\n",
       " 'Caroline? ',\n",
       " 'The Brigand of Kandahar ',\n",
       " 'Looking For Love ',\n",
       " \"The Munsters' Revenge \",\n",
       " 'Love Is Better Than Ever ',\n",
       " 'Lily Boy ',\n",
       " 'Stranded ',\n",
       " 'High Pressure ',\n",
       " 'The Quest: The Longest Drive ',\n",
       " 'Long Pants ',\n",
       " 'The Conquering Power ',\n",
       " 'The Great Sioux Massacre ',\n",
       " 'Le port du désir ',\n",
       " 'The Black Klansman ',\n",
       " 'Astro-Zombies M3: Cloned ',\n",
       " 'Red Skies of Montana ',\n",
       " \"I'd Climb the Highest Mountain \",\n",
       " 'Operation Delta Force 4: Deep Fault ',\n",
       " 'Touched By Love ',\n",
       " 'When a Woman Meddles ',\n",
       " 'The Rosebud Beach Hotel ',\n",
       " 'Le blanc et le noir ',\n",
       " 'Gribouille ',\n",
       " 'Entrée des artistes ',\n",
       " \"Lady Chatterley's Lover \",\n",
       " 'St. Giuseppe Moscati: Doctor to the Poor ',\n",
       " \"Women Aren't Funny \",\n",
       " 'Erotikon ',\n",
       " 'Spike of Bensonhurst ',\n",
       " 'Maker of Men ',\n",
       " 'Murder in the Fleet ',\n",
       " 'I Love Lucy: The Movie ',\n",
       " 'Sea Devils ',\n",
       " 'The Green Hornet ',\n",
       " 'Never a Dull Moment ',\n",
       " 'Return of the Frontiersman ',\n",
       " 'Switch ',\n",
       " 'The Gallant Hours ',\n",
       " 'Spring Madness ',\n",
       " 'The Bugle Sounds ',\n",
       " 'Song of the Open Road ',\n",
       " 'Burning Down the House ',\n",
       " 'Josephine And Men ',\n",
       " 'The Moving Finger ',\n",
       " 'Hotel Berlin ',\n",
       " 'One More Tomorrow ',\n",
       " 'Hard Contract ',\n",
       " 'Lady by Choice ',\n",
       " \"She's Working Her Way Through College \",\n",
       " 'Skeleton Key 2: 667 Neighbor of the Beast ',\n",
       " 'Last of the Comanches ',\n",
       " 'Forty Deuce ',\n",
       " 'Viva Max! ',\n",
       " 'Iceberg Slim: Portrait of a Pimp ',\n",
       " 'Outward Bound ',\n",
       " 'The Life of Jimmy Dolan ',\n",
       " 'Our Town ',\n",
       " 'The Hoodlum ',\n",
       " 'The Last of the Finest ',\n",
       " 'Rock Around the Clock ',\n",
       " 'Sånt är livet ',\n",
       " 'Le joli mai ',\n",
       " 'Onionhead ',\n",
       " 'The Midnight Game ',\n",
       " 'The Law ',\n",
       " 'Sally Hemings: An American Scandal ',\n",
       " 'The Day Mars Invaded Earth ',\n",
       " 'The Irish in Us ',\n",
       " 'Mysterious Island, The ',\n",
       " 'The Lost Squadron ',\n",
       " 'The Divine Lady ',\n",
       " 'Men of the Fighting Lady ',\n",
       " \"Jay And Silent Bob's Super Groovy Cartoon Movie \",\n",
       " 'Melody for a Street Organ ',\n",
       " 'Willow and Wind ',\n",
       " \"House Party: Tonight's the Night \",\n",
       " 'The Fine Art of Love: Mine Ha-Ha ',\n",
       " 'Splendor ',\n",
       " \"Sittin' on a Backyard Fence \",\n",
       " 'The Feminine Touch ',\n",
       " 'Voyna i mir III. - Borogyino ',\n",
       " 'Safety Patrol ',\n",
       " 'War and Peace ',\n",
       " 'Playdate ',\n",
       " 'Tenchu! ',\n",
       " 'Richard Pryor: Omit the Logic ',\n",
       " 'The Student Prince ',\n",
       " 'Opposing Force ',\n",
       " 'Margie ',\n",
       " 'The Sheriff of Fractured Jaw ',\n",
       " 'Trust Me ',\n",
       " \"Gunslinger's Revenge \",\n",
       " 'The Girl from 10th Avenue ',\n",
       " 'Heatstroke ',\n",
       " 'Stage Struck ',\n",
       " 'The Ghost of Yotsuya ',\n",
       " 'Fun on a Weekend ',\n",
       " 'Fist of Jesus ',\n",
       " 'A Yank at Eton ',\n",
       " 'Duffy ',\n",
       " 'The Court-Martial of Jackie Robinson',\n",
       " 'The Perils of Pauline ',\n",
       " 'The Fountain of Youth ',\n",
       " \"Filming 'The Trial' \",\n",
       " 'Port of Flowers ',\n",
       " 'The Living Magoroku ',\n",
       " 'Jubilation Street ',\n",
       " 'Morning for the Osone Family ',\n",
       " 'A Japanese Tragedy ',\n",
       " 'The River Fuefuki ',\n",
       " 'Immortal Love ',\n",
       " 'In Our Garden',\n",
       " 'Walker ',\n",
       " 'One Step Ahead of My Shadow ',\n",
       " 'Lad: A Dog ',\n",
       " 'Corruzione al palazzo di giustizia ',\n",
       " 'Season For Assassins ',\n",
       " 'Hard Luck Hero ',\n",
       " 'The Missouri Traveler ',\n",
       " 'The Deserter ',\n",
       " 'Le Grand Jeu ',\n",
       " 'Red Ensign ',\n",
       " 'El asombroso mundo de Borjamari y Pocholo ',\n",
       " 'FBI: Frikis buscan incordiar ',\n",
       " 'Isi & Disi: Amor a lo bestia ',\n",
       " 'Achtung! The Desert Tigers ',\n",
       " 'Time in the Minors ',\n",
       " 'Stars Above ',\n",
       " \"Santa's Pocket Watch \",\n",
       " 'Björk at the Royal Opera House ',\n",
       " 'Christmas Comes but Once a Year ',\n",
       " 'Curb Dance ',\n",
       " 'Fright to the Finish ',\n",
       " \"It's a Bird \",\n",
       " 'Stephen Fry In America - New World',\n",
       " 'Surprise ',\n",
       " 'Vengeance: The Story of Tony Cimo ',\n",
       " 'Corn on the Cop ',\n",
       " 'Marilyn in Manhattan ',\n",
       " 'Queen - Rock Montreal ',\n",
       " 'Act Da Fool ',\n",
       " 'En rachâchant ',\n",
       " 'The Flower ',\n",
       " 'Boo to You Too! Winnie the Pooh ',\n",
       " 'Halloween ',\n",
       " 'The 3 Rs ',\n",
       " 'Holiday for Drumsticks ',\n",
       " 'Suur Tõll ',\n",
       " 'We Can Be Heroes ',\n",
       " \"Bob's Birthday \",\n",
       " 'Summer Heights High ',\n",
       " 'Haunted House ',\n",
       " 'How They Get There ',\n",
       " 'Istanbul ',\n",
       " 'Hen, his wife ',\n",
       " 'Snowballs ',\n",
       " 'Beastie Boys: Sabotage ',\n",
       " 'Special Delivery ',\n",
       " 'Meilleur espoir féminin ',\n",
       " 'Mr Reliable ',\n",
       " 'Nom de code : Rose ',\n",
       " 'The Sex and Violence Family Hour ',\n",
       " 'Minotaur, the Wild Beast of Crete ',\n",
       " \"L'isola delle svedesi \",\n",
       " 'Chains ',\n",
       " 'La bravata ',\n",
       " 'Fährmann Maria ',\n",
       " 'Thank You, Jeeves! ',\n",
       " 'Homework ',\n",
       " 'Double Or Nothing ',\n",
       " 'Subliminal Seduction ',\n",
       " 'Virtual Combat ',\n",
       " 'Night Eyes Three ',\n",
       " 'Love Steaks ',\n",
       " 'Kocken ',\n",
       " 'The Blue Knight ',\n",
       " 'Bit by Bit ',\n",
       " 'Bert - Den siste oskulden ',\n",
       " 'En på miljonen ',\n",
       " 'The Nude Princess ',\n",
       " 'When Evening Falls on Bucharest or Metabolism ',\n",
       " 'Two Shots Fired ',\n",
       " 'Finisterrae ',\n",
       " 'The Distance ',\n",
       " 'Ten Minutes Older ',\n",
       " 'Small Roads ',\n",
       " 'Strange Voyage ',\n",
       " 'Light Is Calling ',\n",
       " 'The Private Life of a Cat ',\n",
       " 'Letter from Siberia ',\n",
       " 'Soundtracker ',\n",
       " 'Kamome Diner ',\n",
       " 'Dream Land ',\n",
       " 'Remonstrance ',\n",
       " 'The Gardener ',\n",
       " 'The Girl from the Marsh Croft ',\n",
       " 'Karin Daughter of Ingmar ',\n",
       " '1000 Journals ',\n",
       " 'Documentarian ',\n",
       " 'A Year Along the Abandoned Road',\n",
       " 'The Shoe ',\n",
       " 'Min så kallade pappa ',\n",
       " 'Blue Mountains, or Unbelievable Story ',\n",
       " 'Private Worlds ',\n",
       " 'Go, Johnny, Go! ',\n",
       " 'Downtown: A Street Tale ',\n",
       " 'Sartana Does Not Forgive ',\n",
       " 'I Am Sartana, Trade Your Guns for a Coffin ',\n",
       " 'Sartana in the Valley of Death ',\n",
       " 'My Name is Texas Bill ',\n",
       " \"The Castro's Abbess \",\n",
       " \"You're Jinxed, Friend, You've Met Sacramento \",\n",
       " 'Greetings from Tim Buckley ',\n",
       " 'Return to Macon County ',\n",
       " 'Stormy Weather ',\n",
       " 'Brothers Karamazov ',\n",
       " 'The Maddening ',\n",
       " 'The Count of Monte Cristo ',\n",
       " 'Beck - Öga för öga ',\n",
       " 'Halleluja to Vera Cruz ',\n",
       " 'Mark Shoots First ',\n",
       " 'Highway Racer ',\n",
       " 'The Iron Commissioner ',\n",
       " 'Hunted City ',\n",
       " 'Speed Driver ',\n",
       " 'Balkan Runner ',\n",
       " 'Blood Story ',\n",
       " 'Goodbye and Amen ',\n",
       " \"Eurocrime! The Italian Cop and Gangster Films That Ruled the '70s \",\n",
       " 'Agent 3S3: Passport to Hell ',\n",
       " 'Devil in the Brain ',\n",
       " 'La tigre è ancora viva: Sandokan alla riscossa! ',\n",
       " 'Lasa y Zabala ',\n",
       " 'We Cause Scenes ',\n",
       " 'Sacred Heart ',\n",
       " 'Hits ',\n",
       " 'Alla älskar Alice ',\n",
       " 'Lilla Jönssonligan på styva linan ',\n",
       " 'Ixcanul Volcano ',\n",
       " 'As We Were Dreaming ',\n",
       " 'Petting Zoo ',\n",
       " 'General Spanky ',\n",
       " 'Wiseguy ',\n",
       " 'Casting Couch ',\n",
       " 'Sputnik ',\n",
       " 'Grizzly Falls ',\n",
       " 'Bizarre ',\n",
       " 'La Tribu ',\n",
       " 'Blue Hell ',\n",
       " 'The Boy Soldier ',\n",
       " 'La clé sur la porte ',\n",
       " 'Mad Enough to Kill ',\n",
       " 'The Assassination ',\n",
       " 'Schneller als das Auge ',\n",
       " 'Tennessee Nights ',\n",
       " 'The Day and the Hour ',\n",
       " 'This Angry Age ',\n",
       " 'Monsieur Ripois ',\n",
       " 'The Walls of Malapaga ',\n",
       " 'Scandali nudi ',\n",
       " 'Blood and Diamonds ',\n",
       " 'Sesso in testa ',\n",
       " 'Amarsi male ',\n",
       " 'Women in Cellblock 9 ',\n",
       " 'Lost and Found ',\n",
       " 'What Other Couples Do ',\n",
       " 'Tokyo Fiancée ',\n",
       " 'The Testimony ',\n",
       " 'Lost Youth ',\n",
       " 'The Sea That Thinks ',\n",
       " 'Memphis ',\n",
       " 'Jet Storm ',\n",
       " 'The Argyle Secrets ',\n",
       " 'Superfast! ',\n",
       " \"Je m'appelle Elisabeth \",\n",
       " 'Slingshot Hip Hop ',\n",
       " 'Code Name Coq Rouge ',\n",
       " 'The Third Reich: The Rise & Fall',\n",
       " 'A Black Ribbon for Deborah ',\n",
       " 'Scandalo in Famiglia ',\n",
       " 'We Always Lie to Strangers ',\n",
       " 'Lady Dynamite ',\n",
       " 'Who Killed the Prosecutor and Why? ',\n",
       " 'My Own Man',\n",
       " 'Cose da pazzi ',\n",
       " 'Unchained ',\n",
       " 'The Children of Sanchez ',\n",
       " 'Violence for Kicks ',\n",
       " 'Covert Action ',\n",
       " 'Tamango ',\n",
       " 'Capturing Mary ',\n",
       " 'Somewhere Under the Broad Sky ',\n",
       " 'Old Man Drinking a Glass of Beer ',\n",
       " 'Dickson Greeting ',\n",
       " 'Hallucination Strip ',\n",
       " 'Like Rabid Dogs ',\n",
       " 'Snapshot of a Crime ',\n",
       " 'My Wife, A Body to Love ',\n",
       " 'Pigs with a P.38 ',\n",
       " \"Clap, You're Dead \",\n",
       " 'Orders Signed in White ',\n",
       " 'Il cappotto di legno ',\n",
       " 'Le ultime ore di una vergine ',\n",
       " 'Moving Alan',\n",
       " 'Sex of the Witch ',\n",
       " 'Butterflies Have No Memories ',\n",
       " 'The Dependent ',\n",
       " 'Nazareno Cruz and the Wolf ',\n",
       " 'El Escarabajo de Oro ',\n",
       " 'Autohystoria ',\n",
       " 'La Morte Rouge ',\n",
       " 'Asthma ',\n",
       " 'Password: Uccidete agente Gordon ',\n",
       " 'The incredible Paris Incident ',\n",
       " 'One Man Against the Organization ',\n",
       " 'Des fleurs pour Algernon ',\n",
       " 'Crazy Beautiful You ',\n",
       " 'A Girl, A Guy, And A Gob ',\n",
       " 'Babe Ruth ',\n",
       " 'Les grandes chaleurs ',\n",
       " 'Hooray for Love ',\n",
       " 'Juggernaut ',\n",
       " 'Patty Hearst ',\n",
       " 'Standoff ',\n",
       " 'With or Without You ',\n",
       " 'Wild Thing ',\n",
       " 'Warriors Five ',\n",
       " 'The Case of the Velvet Claws ',\n",
       " 'The Discoverers ',\n",
       " 'Thunder Alley ',\n",
       " 'A Fight For ',\n",
       " 'Pot v raj ',\n",
       " 'The Strength of Water ',\n",
       " 'Ice Poison ',\n",
       " 'Men in White ',\n",
       " \"Foolin' Around \",\n",
       " \"Three into Two Won't Go \",\n",
       " 'Akenfield ',\n",
       " 'The Coconut Revolution ',\n",
       " 'Michael Laudrup - en Fodboldspiller',\n",
       " 'Among the Living ',\n",
       " 'Baby Snakes ',\n",
       " 'Laissons Lucie faire ! ',\n",
       " 'Venus & Fleur ',\n",
       " 'I giorni contati ',\n",
       " 'Get Christie Love! ',\n",
       " 'Shark Kill ',\n",
       " 'Daddy, Darling ',\n",
       " 'The Thunder Kick ',\n",
       " 'Little Girl, Big Tease ',\n",
       " \"Slumber Party '57 \",\n",
       " 'Cheerleaders Beach Party ',\n",
       " 'Lunar Cop ',\n",
       " 'Dutch Treat ',\n",
       " 'Shablul ',\n",
       " 'Love Lies Bleeding ',\n",
       " 'Deadly Illusion ',\n",
       " 'Wild 90 ',\n",
       " 'Maidstone ',\n",
       " 'Midnight Ride ',\n",
       " 'Manifesto ',\n",
       " 'Street Knight ',\n",
       " 'Dancers ',\n",
       " 'The Birthday Party ',\n",
       " 'Brothers on the Line ',\n",
       " 'Monaco Forever ',\n",
       " 'Gorilla Bathes at Noon ',\n",
       " 'Children of Rage ',\n",
       " 'Doppelgänger Paul ',\n",
       " \"McCinsey's Island \",\n",
       " 'Gospel According to Harry ',\n",
       " 'Tiffany Jones ',\n",
       " 'The Four Dimensions of Greta ',\n",
       " 'School for Sex ',\n",
       " 'Musikanten ',\n",
       " 'Champions ',\n",
       " 'Filmistaan ',\n",
       " 'Mara und der Feuerbringer ',\n",
       " 'La liga no es cosa de hombres ',\n",
       " 'Benjamin Blümchen - Seine schönsten Abenteuer ',\n",
       " 'The Fearless Four ',\n",
       " 'Closed Curtain ',\n",
       " 'The Living Corpse ',\n",
       " 'A Dream of Kings ',\n",
       " 'Blueberry Hill',\n",
       " 'Compound Fracture ',\n",
       " 'Plague ',\n",
       " 'Pleasure Palace',\n",
       " 'Rentun Ruusu ',\n",
       " 'Hotline ',\n",
       " 'Terror on the 40th Floor',\n",
       " 'The Odd Angry Shot ',\n",
       " 'Breaking Point - Pornografisk Thriller ',\n",
       " 'Fort Yuma ',\n",
       " 'Somebody Killed Her Husband ',\n",
       " \"You'll Like My Mother \",\n",
       " 'A Covenant with Death ',\n",
       " 'Safe at Home! ',\n",
       " 'The Honkers ',\n",
       " 'The young Rajah ',\n",
       " 'Wyoming Outlaw ',\n",
       " 'Natural Sciences ',\n",
       " 'The Face ',\n",
       " 'Balnearios ',\n",
       " 'The Black Cat ',\n",
       " 'Tunnel Under the World ',\n",
       " 'Inside ',\n",
       " 'Vavien ',\n",
       " 'Room 514 ',\n",
       " '14 Going on 30 ',\n",
       " \"My Boyfriend's Back\",\n",
       " 'California Hot Wax ',\n",
       " 'Wimps ',\n",
       " 'Stud Life ',\n",
       " 'The Village ',\n",
       " 'Computer Beach Party ',\n",
       " 'Summer Job ',\n",
       " 'Crash Course ',\n",
       " \"Goin' All the Way! \",\n",
       " 'Dream Trap ',\n",
       " 'Hot Resort ',\n",
       " 'Boxers and Ballerinas ',\n",
       " 'Senior Week ',\n",
       " 'Mr. Civil Rights: Thurgood Marshall and the NAACP ',\n",
       " 'Malibu Hot Summer ',\n",
       " 'Hot Splash ',\n",
       " 'The Big Bet ',\n",
       " \"The Postman's White Nights \",\n",
       " 'Ryaba, My Chicken ',\n",
       " 'An Afghan Love Story ',\n",
       " 'Les mauvaises têtes ',\n",
       " 'Toutes les Filles sont Folles ',\n",
       " 'Hollywood Hot Tubs 2: Educating Crystal ',\n",
       " 'Rebel High ',\n",
       " 'Party Plane ',\n",
       " 'Party Camp ',\n",
       " 'Can It Be Love ',\n",
       " 'Private Duty Nurses ',\n",
       " \"Let's Do It! \",\n",
       " 'De feu et de glace ',\n",
       " 'Breaking All the Rules ',\n",
       " 'Off the Mark ',\n",
       " 'A nous les Garçons ',\n",
       " 'Princess Academy ',\n",
       " 'Teen Lust ',\n",
       " 'The Vals ',\n",
       " 'Ballerina ',\n",
       " 'And the Oscar Goes To... ',\n",
       " 'Bob le magnifique ',\n",
       " 'Let It Be Me ',\n",
       " 'Ramon the Mexican ',\n",
       " 'Sentence of God ',\n",
       " 'Kamikaze Taxi ',\n",
       " 'The Rubber Gun ',\n",
       " 'Ape ',\n",
       " 'The Bitter Buddha ',\n",
       " 'Troppo rischio per un uomo solo ',\n",
       " 'Bop Girl Goes Calypso ',\n",
       " 'Final Voyage ',\n",
       " 'Man from Del Rio ',\n",
       " 'The Visual Bible: Matthew ',\n",
       " 'The Brave Bulls ',\n",
       " 'The Duke Is Tops ',\n",
       " 'The Maltese Bippy ',\n",
       " 'The Outsider ',\n",
       " 'Three Hours to Kill ',\n",
       " 'Vagabond Lady ',\n",
       " 'Yellow Jack ',\n",
       " 'From Inside ',\n",
       " 'Aging Out ',\n",
       " 'Banning ',\n",
       " 'To Find a Man ',\n",
       " 'Hotel Colonial ',\n",
       " 'Table For Five ',\n",
       " 'Einstein ',\n",
       " \"I'm Afraid \",\n",
       " 'Grandma ',\n",
       " 'I prosseneti ',\n",
       " 'Magic Beyond Words: The JK Rowling Story ',\n",
       " '21 Years: Richard Linklater ',\n",
       " \"Johnny Doesn't Live Here Anymore \",\n",
       " 'Kidnapped ',\n",
       " \"Public Enemy's Wife \",\n",
       " 'The Cisco Kid ',\n",
       " 'The Cisco Kid ',\n",
       " 'The Crowd Roars ',\n",
       " 'All Screwed Up ',\n",
       " 'Blood Feud ',\n",
       " 'Summer Night, with Greek Profile, Almond Eyes and Scent of Basil ',\n",
       " 'On a Moonlit Night ',\n",
       " 'Francesca e Nunziata ',\n",
       " \"Too Much Romance... It's Time for Stuffed Peppers \",\n",
       " 'The Daring Dobermans ',\n",
       " 'Escape by Night ',\n",
       " \"Gangster's Boy \",\n",
       " 'The Sinner ',\n",
       " 'La ragazza fuoristrada ',\n",
       " 'The Body ',\n",
       " 'Neapolitan Mystery ',\n",
       " 'Amore libero - Free Love ',\n",
       " \"Guns Don't Argue \",\n",
       " 'I Am A Criminal ',\n",
       " 'The Stars and the Water Carriers ',\n",
       " 'Springtime in the Rockies ',\n",
       " 'Toto and his Sisters ',\n",
       " 'Made in Argentina ',\n",
       " 'Pelota ',\n",
       " 'Néa ',\n",
       " 'Doli Saja Ke Rakhna',\n",
       " 'Sarfarosh ',\n",
       " 'Vikingo ',\n",
       " 'Crowsnest ',\n",
       " 'Bridge to Hell ',\n",
       " 'Wild Team ',\n",
       " 'Ironmaster ',\n",
       " 'Cicciabomba ',\n",
       " 'Brothers Till We Die ',\n",
       " 'Free Hand for a Tough Cop ',\n",
       " 'Violent Naples ',\n",
       " 'Manhunt in the City ',\n",
       " 'Orgasmo ',\n",
       " \"Ringo, It's Massacre Time \",\n",
       " 'The Casual Vacancy ',\n",
       " 'How Sherlock Changed the World ',\n",
       " 'Doug Stanhope: Before Turning the Gun on Himself ',\n",
       " 'The Who: The Who at Kilburn 1977 ',\n",
       " 'Cocaine Blues ',\n",
       " 'Court ',\n",
       " 'Call + Response ',\n",
       " 'Charlie Bubbles ',\n",
       " 'Genius on Hold ',\n",
       " 'Tar Creek ',\n",
       " 'Exile Nation: The Plastic People ',\n",
       " 'The Young Nurses ',\n",
       " 'Macondo ',\n",
       " 'Barnum! ',\n",
       " 'Long Lasting Days ',\n",
       " 'Carambola ',\n",
       " 'The Prince and the Pauper ',\n",
       " 'Supermen Against the Orient ',\n",
       " 'Three Supermen in the Jungle ',\n",
       " 'I guappi non si toccano ',\n",
       " 'Love Hotel ',\n",
       " 'That Certain Feeling ',\n",
       " 'Target of an Assassin ',\n",
       " 'Joshua Then and Now ',\n",
       " 'Tiara Tahiti ',\n",
       " 'The Little Chaos ',\n",
       " 'Miss Pacific Fleet ',\n",
       " 'Rembrandt ',\n",
       " 'Tank Force ',\n",
       " 'The Iron Sheriff ',\n",
       " 'The Life of Vergie Winters ',\n",
       " 'Two-Fisted Law ',\n",
       " 'Usain Bolt, La Légende ',\n",
       " 'Anthrax ',\n",
       " 'The Backwater Gospel ',\n",
       " 'Garpastum ',\n",
       " \"Susie's Hope \",\n",
       " 'Kokoko ',\n",
       " 'Solo para dos ',\n",
       " 'Mistrial ',\n",
       " 'Just About Famous ',\n",
       " 'Rita da Cascia ',\n",
       " '20th Century Oz ',\n",
       " 'A Fish in the Bathtub ',\n",
       " 'Balalaika ',\n",
       " 'Mankillers ',\n",
       " 'Henry Goes Arizona ',\n",
       " 'Piccadilly Jim ',\n",
       " 'Shakedown ',\n",
       " 'The Disappearance of Garcia Lorca ',\n",
       " 'Up the Creek ',\n",
       " \"You Can't Run Away from It \",\n",
       " 'The Girl with the Hat Box ',\n",
       " 'Open Secret ',\n",
       " 'War-Time Romance ',\n",
       " \"Perché non facciamo l' amore \",\n",
       " 'Due cuori, una cappella ',\n",
       " 'Halleluja for Django ',\n",
       " 'My Name Is Pecos ',\n",
       " 'Uncle Vanya ',\n",
       " 'Gardens in Autumn ',\n",
       " 'The Stroll ',\n",
       " 'Malabimba ',\n",
       " 'White Pop Jesus ',\n",
       " 'Crash Landing ',\n",
       " \"Don't Knock The Rock \",\n",
       " 'The Yellow Balloon ',\n",
       " 'Rangeela ',\n",
       " \"C'mon, Let's Live a Little\",\n",
       " 'Poliisin Poika ',\n",
       " 'To Kill a Stranger ',\n",
       " 'Where Is Parsifal? ',\n",
       " 'Good Luck, Miss Wyckoff ',\n",
       " 'Journey Into Fear ',\n",
       " 'Barry McKenzie Holds His Own ',\n",
       " 'No Love for Johnnie ',\n",
       " 'La maquina de bailar ',\n",
       " 'Bombay Talkies ',\n",
       " 'Ek Ajnabee ',\n",
       " 'Samay: When Time Strikes ',\n",
       " 'Virasat ',\n",
       " 'È arrivato mio fratello ',\n",
       " '7 Kilos in 7 Days ',\n",
       " 'Noi uomini duri ',\n",
       " 'Roba da ricchi ',\n",
       " 'Da grande ',\n",
       " 'Piedipiatti ',\n",
       " 'Infelici e contenti ',\n",
       " 'Le nuove comiche ',\n",
       " 'Io tigro tu tigri egli tigra ',\n",
       " 'Sturmtruppen ',\n",
       " 'Luna di miele in tre ',\n",
       " 'Paolo Barca, maestro elementare, praticamente nudista ',\n",
       " 'La poliziotta ',\n",
       " 'The Bonesetter ',\n",
       " 'The Offspring ',\n",
       " 'The Alley Tramp ',\n",
       " 'The Cheating Pact ',\n",
       " 'Pudhupettai ',\n",
       " 'The Lion’s Mouth Opens ',\n",
       " 'Man of the Story ',\n",
       " \"Arabella, the pirate's daughter \",\n",
       " 'Blind Rage ',\n",
       " 'The Passenger ',\n",
       " 'Time Of My Life ',\n",
       " 'Heaven and Earth Magic ',\n",
       " 'The Golden Bat ',\n",
       " 'The Prospects ',\n",
       " 'Love in the Time of Civil War ',\n",
       " 'Trevor Noah: African American ',\n",
       " 'Fair of the Dove ',\n",
       " \"Satan's Baby Doll \",\n",
       " 'Fasthand ',\n",
       " 'For a Book of Dollars',\n",
       " 'Kill the Poker Player ',\n",
       " 'To Forget Venice ',\n",
       " 'Tulips of Haarlem ',\n",
       " 'Gros câlin ',\n",
       " 'Il giocattolo ',\n",
       " 'Nudo di donna ',\n",
       " 'Quelle strane occasioni ',\n",
       " 'Attenti al buffone ',\n",
       " 'Vedo nudo ',\n",
       " 'Straziami, ma di baci saziami ',\n",
       " 'Me, Me, Me... and the Others ',\n",
       " 'The Bachelor ',\n",
       " 'Gli innamorati ',\n",
       " 'Herbie Hancock: Possibilities ',\n",
       " 'De Vliegende Hollander ',\n",
       " 'In nome del popolo sovrano ',\n",
       " 'Complexes ',\n",
       " 'High Infidelity ',\n",
       " 'La Parmigiana ',\n",
       " 'I Motorizzati ',\n",
       " 'Anni ruggenti ',\n",
       " 'The Last Judgment ',\n",
       " 'Adorabili e bugiarde ',\n",
       " 'Box Elder ',\n",
       " 'The Drunk ',\n",
       " 'Forced Entry ',\n",
       " 'Prime Suspect: Scent of Darkness ',\n",
       " 'Hamari Adhuri Kahaani ',\n",
       " 'Johnny Appleweed ',\n",
       " \"Eddie's Million Dollar Cook Off \",\n",
       " 'Chicks ',\n",
       " 'The Unfaithfuls ',\n",
       " 'Hard Times For Vampires ',\n",
       " 'Heroes of the West ',\n",
       " 'Twins from Texas',\n",
       " 'La feldmarescialla ',\n",
       " 'Il vichingo venuto dal sud ',\n",
       " 'Dottor Jekyll e gentile signora ',\n",
       " 'Sballato, gasato, completamente fuso ',\n",
       " 'The Last White Knight ',\n",
       " 'Spies of Mississippi ',\n",
       " 'Fantastic Beasts and Where to Find Them 2 ',\n",
       " 'Pablo ',\n",
       " \"Mom's Got a Date With a Vampire \",\n",
       " 'Kaaka Muttai ',\n",
       " 'Aurora ',\n",
       " 'The Loretta Claiborne Story ',\n",
       " \"Frank Capra's American Dream \",\n",
       " \"Fultah Fisher's Boarding House \",\n",
       " 'Cabin by the Lake ',\n",
       " 'Bhoot ',\n",
       " 'Raising Waylon ',\n",
       " 'Peeping Toms ',\n",
       " 'The Disappointments Room ',\n",
       " 'Tipping Point ',\n",
       " 'The Voyage of Captain Fracassa ',\n",
       " 'People of Rome ',\n",
       " 'Señorita Justice',\n",
       " 'Outside Chance ',\n",
       " 'Jungle ',\n",
       " 'Prahaar: The Final Attack ',\n",
       " 'Zakhm ',\n",
       " 'Koyla ',\n",
       " 'Shool ',\n",
       " 'Ghayal ',\n",
       " 'Gadar: Ek Prem Katha ',\n",
       " 'Josh ',\n",
       " 'Raakh ',\n",
       " 'Shaolin Vs Lama ',\n",
       " 'The Valley Below ',\n",
       " 'Candy Stripe Nurses ',\n",
       " 'Hound-Dog Man ',\n",
       " 'The Spiral Road ',\n",
       " 'A la legión le gustan las mujeres... y a las mujeres, les gusta la legión ',\n",
       " 'Dance Me to My Song ',\n",
       " 'Herman U.S.A. ',\n",
       " 'Flash and Firecat',\n",
       " 'The Couples ',\n",
       " 'The Flying Saucer ',\n",
       " 'Il maestro di Vigevano ',\n",
       " 'Il vigile ',\n",
       " 'Costa Azzurra ',\n",
       " \"Nella città l'inferno \",\n",
       " 'Policarpo, ufficiale di scrittura ',\n",
       " \"Vacanze d'inverno \",\n",
       " 'Under the Sun of Rome ',\n",
       " 'The Sign of Venus ',\n",
       " 'The Anatomy of Love ',\n",
       " 'The Brass Bottle ',\n",
       " 'Il tassinaro ',\n",
       " 'Io so che tu sai che io so ',\n",
       " 'Dove vai in vacanza? ',\n",
       " \"My Date with the President's Daughter \",\n",
       " 'Quints ',\n",
       " 'Slap the Monster on Page One ',\n",
       " 'Bisturi, la mafia bianca ',\n",
       " \"Una questione d'onore \",\n",
       " 'Woman of Rome ',\n",
       " 'Processo alla città ',\n",
       " 'Anni difficili ',\n",
       " 'Vivere in pace ',\n",
       " 'I Am Afraid ',\n",
       " 'How to Play Football ',\n",
       " \"Pluto's Blue Note \",\n",
       " 'The Amityville Playhouse ',\n",
       " 'Thunder In Paradise ',\n",
       " 'Shelter Island ',\n",
       " 'I viaggiatori della sera ',\n",
       " 'The Thirteenth Year ',\n",
       " 'Freaky Friday ',\n",
       " 'Le chant du Styrène ',\n",
       " 'Charlotte and Her Boyfriend ',\n",
       " 'Clerks: The Lost Scene ',\n",
       " 'Cinema of Vengeance ',\n",
       " 'Parole sante ',\n",
       " 'Faith of Our Fathers ',\n",
       " \"Un'estate al mare \",\n",
       " 'Sweet Dreams ',\n",
       " 'Transatlantic Coffee ',\n",
       " 'My Mother the Mermaid ',\n",
       " 'Christian Mingle ',\n",
       " \"L'erba proibita \",\n",
       " 'Punishment Room ',\n",
       " 'Ray of Sunshine ',\n",
       " 'The Price of Life ',\n",
       " 'Who Killed Captain Alex? ',\n",
       " 'The Temple ',\n",
       " 'Zapatlela ',\n",
       " 'Natarang ',\n",
       " 'The Village Had No Walls ',\n",
       " 'Paradh ',\n",
       " 'Vaastupurush',\n",
       " 'Taryanche Bait ',\n",
       " 'Murder Without Motive: The Edmund Perry Story ',\n",
       " \"My Life's in Turnaround \",\n",
       " \"When He Didn't Come Home \",\n",
       " 'Best Friends ',\n",
       " 'Dangerous Child ',\n",
       " 'Perfect High ',\n",
       " 'The Secretary ',\n",
       " '...And the Earth Did Not Swallow Him ',\n",
       " 'La nuit la plus longue ',\n",
       " 'The Virginian ',\n",
       " 'Grow Up, Tony Phillips ',\n",
       " 'Being Us ',\n",
       " 'Blue Ridge ',\n",
       " 'Shoot the Messenger ',\n",
       " 'The Climb ',\n",
       " 'Beside Still Waters ',\n",
       " 'Justice Is Mind ',\n",
       " 'Hiding Victoria ',\n",
       " 'No Place Like Home ',\n",
       " \"Boppin' at the Glue Factory \",\n",
       " 'The Last Movie ',\n",
       " 'Spilt Milk ',\n",
       " 'Chain Link ',\n",
       " 'Gemini ',\n",
       " 'The Lawyer ',\n",
       " \"Sierra Leone's Refugee All Stars\",\n",
       " \"L'uomo della carità\",\n",
       " 'Heaven Knows What ',\n",
       " 'An Optical Poem ',\n",
       " '37 ',\n",
       " '3 of a Kind ',\n",
       " 'Double Parked ',\n",
       " 'Clutter ',\n",
       " 'Lowlife ',\n",
       " 'Success Is the Best Revenge ',\n",
       " 'The Killing Mind ',\n",
       " 'No Greater Love ',\n",
       " 'Son of a Lion ',\n",
       " 'Through Naked Eyes ',\n",
       " 'All Together Now ',\n",
       " 'Once Upon a Summer ',\n",
       " 'Le coup du berger ',\n",
       " \"Le laboratoire de l'angoisse \",\n",
       " \"Vingt-quatre heures de la vie d'un clown \",\n",
       " 'Syksyllä kaikki on toisin ',\n",
       " 'Helsinki, Forever ',\n",
       " 'Klunkerz ',\n",
       " 'Dog Star Man: Prelude ',\n",
       " 'Dog Star Man: Part II ',\n",
       " 'Dog Star Man: Part III ',\n",
       " 'Dog Star Man: Part IV ',\n",
       " 'Alien Express ',\n",
       " 'Mystery Woman ',\n",
       " 'Nitrate Base ',\n",
       " 'The House of Smiles ',\n",
       " 'Her Harem ',\n",
       " 'The Man with the Balloons ',\n",
       " 'El Pisito ',\n",
       " 'Los Chicos ',\n",
       " 'The Black Kung Fu Experience ',\n",
       " 'A Matter of Sex ',\n",
       " 'The Worst Year of My Life ',\n",
       " 'The Nostradamus Kid ',\n",
       " 'Ink & Steel ',\n",
       " 'Il cielo è sempre più blu ',\n",
       " 'Virgil Bliss ',\n",
       " 'Five Seconds to Spare ',\n",
       " '5 Hour Friends ',\n",
       " 'Exile ',\n",
       " 'To Jennifer ',\n",
       " 'Amazon Falls',\n",
       " \"F. Scott Fitzgerald and 'The Last of the Belles' \",\n",
       " 'Terraces ',\n",
       " 'Stonemouth ',\n",
       " 'Rag. Arturo De Fanti, Bancario Precario ',\n",
       " 'Alla mia cara mamma nel giorno del suo compleanno ',\n",
       " 'Basta guardarla ',\n",
       " 'Bombay Velvet ',\n",
       " 'Cross Current ',\n",
       " \"Sistemo l'America e torno \",\n",
       " 'The Unspoken Truth ',\n",
       " 'Keeping Track ',\n",
       " 'Strange Fruit ',\n",
       " 'Jack Brown: Genius ',\n",
       " 'Suicide Dolls ',\n",
       " 'Mambo Café ',\n",
       " 'Dark Tides',\n",
       " 'Muirhouse ',\n",
       " 'New Year ',\n",
       " 'Michael Jackson: Dangerous Tour ',\n",
       " 'Michael Jackson: Number Ones ',\n",
       " 'The Ritual',\n",
       " 'Lovespell ',\n",
       " \"River's End \",\n",
       " \"Stephanie's Image \",\n",
       " 'The Expedition',\n",
       " 'Fetish ',\n",
       " 'All Eyes And Ears ',\n",
       " 'Roxie ',\n",
       " 'The Livingston Gardener ',\n",
       " 'Pretty Rosebud ',\n",
       " 'Greg Fitzsimmons: Life on Stage ',\n",
       " 'Spectral ',\n",
       " 'Meet Him And Die ',\n",
       " 'The Town That Was ',\n",
       " 'The Perfect Getaway ',\n",
       " 'Thelma, Louise et Chantal ',\n",
       " 'Unlikely Revolutionaries ',\n",
       " 'The Commander and the Stork ',\n",
       " 'Il rosso e il blu ',\n",
       " 'The White Space ',\n",
       " \"Saimir's decision \",\n",
       " 'Tutto parla di te ',\n",
       " 'Noi credevamo ',\n",
       " 'Che ne sarà di noi ',\n",
       " 'Il portaborse ',\n",
       " 'Break Free ',\n",
       " 'La seconda notte di nozze ',\n",
       " 'Just a Father ',\n",
       " 'Chinese Boxes',\n",
       " 'BitterSweet ',\n",
       " 'Black Field ',\n",
       " \"Dennis Rodman's Big Bang in PyongYang \",\n",
       " 'Heart of the North ',\n",
       " 'Blind Man ',\n",
       " 'What Comes Around ',\n",
       " 'Haunting of Cellblock 11 ',\n",
       " 'Cupid ',\n",
       " ...]"
      ]
     },
     "execution_count": 154,
     "metadata": {},
     "output_type": "execute_result"
    }
   ],
   "source": [
    "# Iteerating through the data and getting the first index of the arrays of titles\n",
    "english_version = [i[0] for i in split_titles]\n",
    "english_version"
   ]
  },
  {
   "cell_type": "markdown",
   "metadata": {},
   "source": [
    "using the function `get_genre()` we get the  genre of each movie in the database if the name of the movie is not recorgnized in the database it assigns null to it, using the english version of the movie's title"
   ]
  },
  {
   "cell_type": "code",
   "execution_count": 166,
   "metadata": {},
   "outputs": [],
   "source": [
    "eng_genre = [get_genre2(i) for i in english_version]"
   ]
  },
  {
   "cell_type": "markdown",
   "metadata": {},
   "source": [
    "Getting the second index of the `split_title` in order to get the French version (title) of the movie, so to get the genre if the movie title is indeed in the database, else we need to clean the data manually of each title not available"
   ]
  },
  {
   "cell_type": "code",
   "execution_count": 22,
   "metadata": {},
   "outputs": [
    {
     "data": {
      "text/plain": [
       "['San tiao ren) ',\n",
       " 'Glitterbug ',\n",
       " 'A Idade da Terra) ',\n",
       " 'Veredas) ',\n",
       " 'Tejút) ',\n",
       " 'Tanczacy jastrzab) ',\n",
       " 'Pont de Varsòvia) ',\n",
       " 'Ella Lola, a la Trilby ',\n",
       " 'Yukcheui yaksok) ',\n",
       " 'Nocturno 29 ',\n",
       " 'Les hautes solitudes ',\n",
       " 'Primus Hallucino-Genetics Live 2004 ',\n",
       " 'La cravate ',\n",
       " 'Study in Choreography for Camera, A ',\n",
       " \"It's My Mother's Birthday Today \",\n",
       " 'Spare Bed-Room ',\n",
       " 'Madame Bovary ',\n",
       " 'Christmas Oranges ',\n",
       " 'Clockwork Mice ',\n",
       " 'Lettera Amorosa ',\n",
       " 'Passeio com Johnny Guitar ',\n",
       " 'Conserva Acabada ',\n",
       " 'Complicit ',\n",
       " 'Conquest of Cochise ',\n",
       " 'Crime and Punishment, USA ',\n",
       " 'Danger Zone ',\n",
       " 'Ecstasy in Entropy ',\n",
       " \"Let's Spend the Night Together \",\n",
       " 'Say It with Songs ',\n",
       " 'Zanjeer ',\n",
       " 'Whoregasm ',\n",
       " 'Kiss Me Goodbye ',\n",
       " 'Thrust in Me ',\n",
       " 'The Wild World of Lydia Lunch ',\n",
       " 'Fillmore ',\n",
       " 'The Forgotten Faces ',\n",
       " 'T,O,U,C,H,I,N,G ',\n",
       " 'Little Hamlet ',\n",
       " 'The Menacing Eye ',\n",
       " 'In Order Not to Be Here ',\n",
       " 'The Hearts of Age ',\n",
       " 'A True Mob Story ',\n",
       " 'Un centesimo di secondo ',\n",
       " 'Sekirei ',\n",
       " \"Solomon Northup's Odyssey \",\n",
       " \"If I'm Lucky \",\n",
       " 'Blablablá ',\n",
       " 'Where Do We Go from Here? ',\n",
       " 'Sally ',\n",
       " 'Howling VI: The Freaks ',\n",
       " 'American Black Beauty ',\n",
       " 'The Wrong Woman ',\n",
       " 'Expecting Amish ',\n",
       " 'Night Song ',\n",
       " 'Two Tickets to Broadway ',\n",
       " 'The First Traveling Saleslady ',\n",
       " 'Nana ',\n",
       " 'John Goldfarb, Please Come Home! ',\n",
       " 'Black Horizon ',\n",
       " 'Oliver Twist ',\n",
       " 'The Substitute 3: Winner Takes All ',\n",
       " 'The Last Flight ',\n",
       " 'Starlift ',\n",
       " 'Ben-hur ',\n",
       " 'Pirates of the Caribbean: Dead Men Tell No Tales ',\n",
       " 'The Trans-Atlantic Mystery ',\n",
       " 'Someone To Love ',\n",
       " 'Hammersmith Is Out ',\n",
       " 'The Racers ',\n",
       " 'Stalingrad ',\n",
       " 'No Greater Glory ',\n",
       " 'Goodbye, Mr. President ',\n",
       " 'Red Dust ',\n",
       " 'Left for Dead ',\n",
       " 'The American Success Company ',\n",
       " 'Street Girl ',\n",
       " 'The Divine Woman ',\n",
       " 'Lease of Life ',\n",
       " 'The Great Man ',\n",
       " 'State Fair ',\n",
       " 'Katherine ',\n",
       " 'Conspiracy: The Trial of the Chicago 8 ',\n",
       " 'Crown Heights ',\n",
       " 'Lucrèce Borgia ',\n",
       " 'Tower of Nesle ',\n",
       " \"Cyrano et D'Artagnan \",\n",
       " 'Heatseeker ',\n",
       " 'Struggle in the Valley ',\n",
       " 'Lotte from Gadgetville ',\n",
       " 'Poster Girl ',\n",
       " 'Newlyweeds ',\n",
       " 'Wuthering Heights ',\n",
       " 'Certain Fury ',\n",
       " 'Family of Spies ',\n",
       " 'Hell Below ',\n",
       " 'While the City Sleeps ',\n",
       " 'Spitfire ',\n",
       " \"Maybe I'll Come Home in the Spring \",\n",
       " 'The Night That Panicked America ',\n",
       " 'Goldengirl ',\n",
       " 'Memorial Day ',\n",
       " 'Terrible Joe Moran',\n",
       " 'The Karen Carpenter Story ',\n",
       " 'Caroline? ',\n",
       " 'The Brigand of Kandahar ',\n",
       " 'Looking For Love ',\n",
       " \"The Munsters' Revenge \",\n",
       " 'Love Is Better Than Ever ',\n",
       " 'Lily Boy ',\n",
       " 'Stranded ',\n",
       " 'High Pressure ',\n",
       " 'The Quest: The Longest Drive ',\n",
       " 'Long Pants ',\n",
       " 'The Conquering Power ',\n",
       " 'The Great Sioux Massacre ',\n",
       " 'Le port du désir ',\n",
       " 'The Black Klansman ',\n",
       " 'Astro-Zombies M3: Cloned ',\n",
       " 'Red Skies of Montana ',\n",
       " \"I'd Climb the Highest Mountain \",\n",
       " 'Operation Delta Force 4: Deep Fault ',\n",
       " 'Touched By Love ',\n",
       " 'When a Woman Meddles ',\n",
       " 'The Rosebud Beach Hotel ',\n",
       " 'Le blanc et le noir ',\n",
       " 'Gribouille ',\n",
       " 'Entrée des artistes ',\n",
       " \"Lady Chatterley's Lover \",\n",
       " 'St. Giuseppe Moscati: Doctor to the Poor ',\n",
       " \"Women Aren't Funny \",\n",
       " 'Erotikon ',\n",
       " 'Spike of Bensonhurst ',\n",
       " 'Maker of Men ',\n",
       " 'Murder in the Fleet ',\n",
       " 'I Love Lucy: The Movie ',\n",
       " 'Sea Devils ',\n",
       " 'The Green Hornet ',\n",
       " 'Never a Dull Moment ',\n",
       " 'Return of the Frontiersman ',\n",
       " 'Switch ',\n",
       " 'The Gallant Hours ',\n",
       " 'Spring Madness ',\n",
       " 'The Bugle Sounds ',\n",
       " 'Song of the Open Road ',\n",
       " 'Burning Down the House ',\n",
       " 'Josephine And Men ',\n",
       " 'The Moving Finger ',\n",
       " 'Hotel Berlin ',\n",
       " 'One More Tomorrow ',\n",
       " 'Hard Contract ',\n",
       " 'Lady by Choice ',\n",
       " \"She's Working Her Way Through College \",\n",
       " 'Skeleton Key 2: 667 Neighbor of the Beast ',\n",
       " 'Last of the Comanches ',\n",
       " 'Forty Deuce ',\n",
       " 'Viva Max! ',\n",
       " 'Iceberg Slim: Portrait of a Pimp ',\n",
       " 'Outward Bound ',\n",
       " 'The Life of Jimmy Dolan ',\n",
       " 'Our Town ',\n",
       " 'The Hoodlum ',\n",
       " 'The Last of the Finest ',\n",
       " 'Rock Around the Clock ',\n",
       " 'Sånt är livet ',\n",
       " 'Le joli mai ',\n",
       " 'Onionhead ',\n",
       " 'The Midnight Game ',\n",
       " 'The Law ',\n",
       " 'Sally Hemings: An American Scandal ',\n",
       " 'The Day Mars Invaded Earth ',\n",
       " 'The Irish in Us ',\n",
       " 'Mysterious Island, The ',\n",
       " 'The Lost Squadron ',\n",
       " 'The Divine Lady ',\n",
       " 'Men of the Fighting Lady ',\n",
       " \"Jay And Silent Bob's Super Groovy Cartoon Movie \",\n",
       " 'Melody for a Street Organ ',\n",
       " 'Willow and Wind ',\n",
       " \"House Party: Tonight's the Night \",\n",
       " 'The Fine Art of Love: Mine Ha-Ha ',\n",
       " 'Splendor ',\n",
       " \"Sittin' on a Backyard Fence \",\n",
       " 'The Feminine Touch ',\n",
       " 'Voyna i mir III. - Borogyino ',\n",
       " 'Safety Patrol ',\n",
       " 'War and Peace ',\n",
       " 'Playdate ',\n",
       " 'Tenchu! ',\n",
       " 'Richard Pryor: Omit the Logic ',\n",
       " 'The Student Prince ',\n",
       " 'Opposing Force ',\n",
       " 'Margie ',\n",
       " 'The Sheriff of Fractured Jaw ',\n",
       " 'Trust Me ',\n",
       " \"Gunslinger's Revenge \",\n",
       " 'The Girl from 10th Avenue ',\n",
       " 'Heatstroke ',\n",
       " 'Stage Struck ',\n",
       " 'The Ghost of Yotsuya ',\n",
       " 'Fun on a Weekend ',\n",
       " 'Fist of Jesus ',\n",
       " 'A Yank at Eton ',\n",
       " 'Duffy ',\n",
       " 'The Court-Martial of Jackie Robinson',\n",
       " 'The Perils of Pauline ',\n",
       " 'The Fountain of Youth ',\n",
       " \"Filming 'The Trial' \",\n",
       " 'Port of Flowers ',\n",
       " 'The Living Magoroku ',\n",
       " 'Jubilation Street ',\n",
       " 'Morning for the Osone Family ',\n",
       " 'A Japanese Tragedy ',\n",
       " 'The River Fuefuki ',\n",
       " 'Immortal Love ',\n",
       " 'In Our Garden',\n",
       " 'Walker ',\n",
       " 'One Step Ahead of My Shadow ',\n",
       " 'Lad: A Dog ',\n",
       " 'Corruzione al palazzo di giustizia ',\n",
       " 'Season For Assassins ',\n",
       " 'Hard Luck Hero ',\n",
       " 'The Missouri Traveler ',\n",
       " 'The Deserter ',\n",
       " 'Le Grand Jeu ',\n",
       " 'Red Ensign ',\n",
       " 'El asombroso mundo de Borjamari y Pocholo ',\n",
       " 'FBI: Frikis buscan incordiar ',\n",
       " 'Isi & Disi: Amor a lo bestia ',\n",
       " 'Achtung! The Desert Tigers ',\n",
       " 'Time in the Minors ',\n",
       " 'Stars Above ',\n",
       " \"Santa's Pocket Watch \",\n",
       " 'Björk at the Royal Opera House ',\n",
       " 'Christmas Comes but Once a Year ',\n",
       " 'Curb Dance ',\n",
       " 'Fright to the Finish ',\n",
       " \"It's a Bird \",\n",
       " 'Stephen Fry In America - New World',\n",
       " 'Surprise ',\n",
       " 'Vengeance: The Story of Tony Cimo ',\n",
       " 'Corn on the Cop ',\n",
       " 'Marilyn in Manhattan ',\n",
       " 'Queen - Rock Montreal ',\n",
       " 'Act Da Fool ',\n",
       " 'En rachâchant ',\n",
       " 'The Flower ',\n",
       " 'Boo to You Too! Winnie the Pooh ',\n",
       " 'Halloween ',\n",
       " 'The 3 Rs ',\n",
       " 'Holiday for Drumsticks ',\n",
       " 'Suur Tõll ',\n",
       " 'We Can Be Heroes ',\n",
       " \"Bob's Birthday \",\n",
       " 'Summer Heights High ',\n",
       " 'Haunted House ',\n",
       " 'How They Get There ',\n",
       " 'Istanbul ',\n",
       " 'Hen, his wife ',\n",
       " 'Snowballs ',\n",
       " 'Beastie Boys: Sabotage ',\n",
       " 'Special Delivery ',\n",
       " 'Meilleur espoir féminin ',\n",
       " 'Mr Reliable ',\n",
       " 'Nom de code : Rose ',\n",
       " 'The Sex and Violence Family Hour ',\n",
       " 'Minotaur, the Wild Beast of Crete ',\n",
       " \"L'isola delle svedesi \",\n",
       " 'Chains ',\n",
       " 'La bravata ',\n",
       " 'Fährmann Maria ',\n",
       " 'Thank You, Jeeves! ',\n",
       " 'Homework ',\n",
       " 'Double Or Nothing ',\n",
       " 'Subliminal Seduction ',\n",
       " 'Virtual Combat ',\n",
       " 'Night Eyes Three ',\n",
       " 'Love Steaks ',\n",
       " 'Kocken ',\n",
       " 'The Blue Knight ',\n",
       " 'Bit by Bit ',\n",
       " 'Bert - Den siste oskulden ',\n",
       " 'En på miljonen ',\n",
       " 'The Nude Princess ',\n",
       " 'When Evening Falls on Bucharest or Metabolism ',\n",
       " 'Two Shots Fired ',\n",
       " 'Finisterrae ',\n",
       " 'The Distance ',\n",
       " 'Ten Minutes Older ',\n",
       " 'Small Roads ',\n",
       " 'Strange Voyage ',\n",
       " 'Light Is Calling ',\n",
       " 'The Private Life of a Cat ',\n",
       " 'Letter from Siberia ',\n",
       " 'Soundtracker ',\n",
       " 'Kamome Diner ',\n",
       " 'Dream Land ',\n",
       " 'Remonstrance ',\n",
       " 'The Gardener ',\n",
       " 'The Girl from the Marsh Croft ',\n",
       " 'Karin Daughter of Ingmar ',\n",
       " '1000 Journals ',\n",
       " 'Documentarian ',\n",
       " 'A Year Along the Abandoned Road',\n",
       " 'The Shoe ',\n",
       " 'Min så kallade pappa ',\n",
       " 'Blue Mountains, or Unbelievable Story ',\n",
       " 'Private Worlds ',\n",
       " 'Go, Johnny, Go! ',\n",
       " 'Downtown: A Street Tale ',\n",
       " 'Sartana Does Not Forgive ',\n",
       " 'I Am Sartana, Trade Your Guns for a Coffin ',\n",
       " 'Sartana in the Valley of Death ',\n",
       " 'My Name is Texas Bill ',\n",
       " \"The Castro's Abbess \",\n",
       " \"You're Jinxed, Friend, You've Met Sacramento \",\n",
       " 'Greetings from Tim Buckley ',\n",
       " 'Return to Macon County ',\n",
       " 'Stormy Weather ',\n",
       " 'Brothers Karamazov ',\n",
       " 'The Maddening ',\n",
       " 'The Count of Monte Cristo ',\n",
       " 'Beck - Öga för öga ',\n",
       " 'Halleluja to Vera Cruz ',\n",
       " 'Mark Shoots First ',\n",
       " 'Highway Racer ',\n",
       " 'The Iron Commissioner ',\n",
       " 'Hunted City ',\n",
       " 'Speed Driver ',\n",
       " 'Balkan Runner ',\n",
       " 'Blood Story ',\n",
       " 'Goodbye and Amen ',\n",
       " \"Eurocrime! The Italian Cop and Gangster Films That Ruled the '70s \",\n",
       " 'Agent 3S3: Passport to Hell ',\n",
       " 'Devil in the Brain ',\n",
       " 'La tigre è ancora viva: Sandokan alla riscossa! ',\n",
       " 'Lasa y Zabala ',\n",
       " 'We Cause Scenes ',\n",
       " 'Sacred Heart ',\n",
       " 'Hits ',\n",
       " 'Alla älskar Alice ',\n",
       " 'Lilla Jönssonligan på styva linan ',\n",
       " 'Ixcanul Volcano ',\n",
       " 'As We Were Dreaming ',\n",
       " 'Petting Zoo ',\n",
       " 'General Spanky ',\n",
       " 'Wiseguy ',\n",
       " 'Casting Couch ',\n",
       " 'Sputnik ',\n",
       " 'Grizzly Falls ',\n",
       " 'Bizarre ',\n",
       " 'La Tribu ',\n",
       " 'Blue Hell ',\n",
       " 'The Boy Soldier ',\n",
       " 'La clé sur la porte ',\n",
       " 'Mad Enough to Kill ',\n",
       " 'The Assassination ',\n",
       " 'Schneller als das Auge ',\n",
       " 'Tennessee Nights ',\n",
       " 'The Day and the Hour ',\n",
       " 'This Angry Age ',\n",
       " 'Monsieur Ripois ',\n",
       " 'The Walls of Malapaga ',\n",
       " 'Scandali nudi ',\n",
       " 'Blood and Diamonds ',\n",
       " 'Sesso in testa ',\n",
       " 'Amarsi male ',\n",
       " 'Women in Cellblock 9 ',\n",
       " 'Lost and Found ',\n",
       " 'What Other Couples Do ',\n",
       " 'Tokyo Fiancée ',\n",
       " 'The Testimony ',\n",
       " 'Lost Youth ',\n",
       " 'The Sea That Thinks ',\n",
       " 'Memphis ',\n",
       " 'Jet Storm ',\n",
       " 'The Argyle Secrets ',\n",
       " 'Superfast! ',\n",
       " \"Je m'appelle Elisabeth \",\n",
       " 'Slingshot Hip Hop ',\n",
       " 'Code Name Coq Rouge ',\n",
       " 'The Third Reich: The Rise & Fall',\n",
       " 'A Black Ribbon for Deborah ',\n",
       " 'Scandalo in Famiglia ',\n",
       " 'We Always Lie to Strangers ',\n",
       " 'Lady Dynamite ',\n",
       " 'Who Killed the Prosecutor and Why? ',\n",
       " 'My Own Man',\n",
       " 'Cose da pazzi ',\n",
       " 'Unchained ',\n",
       " 'The Children of Sanchez ',\n",
       " 'Violence for Kicks ',\n",
       " 'Covert Action ',\n",
       " 'Tamango ',\n",
       " 'Capturing Mary ',\n",
       " 'Somewhere Under the Broad Sky ',\n",
       " 'Old Man Drinking a Glass of Beer ',\n",
       " 'Dickson Greeting ',\n",
       " 'Hallucination Strip ',\n",
       " 'Like Rabid Dogs ',\n",
       " 'Snapshot of a Crime ',\n",
       " 'My Wife, A Body to Love ',\n",
       " 'Pigs with a P.38 ',\n",
       " \"Clap, You're Dead \",\n",
       " 'Orders Signed in White ',\n",
       " 'Il cappotto di legno ',\n",
       " 'Le ultime ore di una vergine ',\n",
       " 'Moving Alan',\n",
       " 'Sex of the Witch ',\n",
       " 'Butterflies Have No Memories ',\n",
       " 'The Dependent ',\n",
       " 'Nazareno Cruz and the Wolf ',\n",
       " 'El Escarabajo de Oro ',\n",
       " 'Autohystoria ',\n",
       " 'La Morte Rouge ',\n",
       " 'Asthma ',\n",
       " 'Password: Uccidete agente Gordon ',\n",
       " 'The incredible Paris Incident ',\n",
       " 'One Man Against the Organization ',\n",
       " 'Des fleurs pour Algernon ',\n",
       " 'Crazy Beautiful You ',\n",
       " 'A Girl, A Guy, And A Gob ',\n",
       " 'Babe Ruth ',\n",
       " 'Les grandes chaleurs ',\n",
       " 'Hooray for Love ',\n",
       " 'Juggernaut ',\n",
       " 'Patty Hearst ',\n",
       " 'Standoff ',\n",
       " 'With or Without You ',\n",
       " 'Wild Thing ',\n",
       " 'Warriors Five ',\n",
       " 'The Case of the Velvet Claws ',\n",
       " 'The Discoverers ',\n",
       " 'Thunder Alley ',\n",
       " 'A Fight For ',\n",
       " 'Pot v raj ',\n",
       " 'The Strength of Water ',\n",
       " 'Ice Poison ',\n",
       " 'Men in White ',\n",
       " \"Foolin' Around \",\n",
       " \"Three into Two Won't Go \",\n",
       " 'Akenfield ',\n",
       " 'The Coconut Revolution ',\n",
       " 'Michael Laudrup - en Fodboldspiller',\n",
       " 'Among the Living ',\n",
       " 'Baby Snakes ',\n",
       " 'Laissons Lucie faire ! ',\n",
       " 'Venus & Fleur ',\n",
       " 'I giorni contati ',\n",
       " 'Get Christie Love! ',\n",
       " 'Shark Kill ',\n",
       " 'Daddy, Darling ',\n",
       " 'The Thunder Kick ',\n",
       " 'Little Girl, Big Tease ',\n",
       " \"Slumber Party '57 \",\n",
       " 'Cheerleaders Beach Party ',\n",
       " 'Lunar Cop ',\n",
       " 'Dutch Treat ',\n",
       " 'Shablul ',\n",
       " 'Love Lies Bleeding ',\n",
       " 'Deadly Illusion ',\n",
       " 'Wild 90 ',\n",
       " 'Maidstone ',\n",
       " 'Midnight Ride ',\n",
       " 'Manifesto ',\n",
       " 'Street Knight ',\n",
       " 'Dancers ',\n",
       " 'The Birthday Party ',\n",
       " 'Brothers on the Line ',\n",
       " 'Monaco Forever ',\n",
       " 'Gorilla Bathes at Noon ',\n",
       " 'Children of Rage ',\n",
       " 'Doppelgänger Paul ',\n",
       " \"McCinsey's Island \",\n",
       " 'Gospel According to Harry ',\n",
       " 'Tiffany Jones ',\n",
       " 'The Four Dimensions of Greta ',\n",
       " 'School for Sex ',\n",
       " 'Musikanten ',\n",
       " 'Champions ',\n",
       " 'Filmistaan ',\n",
       " 'Mara und der Feuerbringer ',\n",
       " 'La liga no es cosa de hombres ',\n",
       " 'Benjamin Blümchen - Seine schönsten Abenteuer ',\n",
       " 'The Fearless Four ',\n",
       " 'Closed Curtain ',\n",
       " 'The Living Corpse ',\n",
       " 'A Dream of Kings ',\n",
       " 'Blueberry Hill',\n",
       " 'Compound Fracture ',\n",
       " 'Plague ',\n",
       " 'Pleasure Palace',\n",
       " 'Rentun Ruusu ',\n",
       " 'Hotline ',\n",
       " 'Terror on the 40th Floor',\n",
       " 'The Odd Angry Shot ',\n",
       " 'Breaking Point - Pornografisk Thriller ',\n",
       " 'Fort Yuma ',\n",
       " 'Somebody Killed Her Husband ',\n",
       " \"You'll Like My Mother \",\n",
       " 'A Covenant with Death ',\n",
       " 'Safe at Home! ',\n",
       " 'The Honkers ',\n",
       " 'The young Rajah ',\n",
       " 'Wyoming Outlaw ',\n",
       " 'Natural Sciences ',\n",
       " 'The Face ',\n",
       " 'Balnearios ',\n",
       " 'The Black Cat ',\n",
       " 'Tunnel Under the World ',\n",
       " 'Inside ',\n",
       " 'Vavien ',\n",
       " 'Room 514 ',\n",
       " '14 Going on 30 ',\n",
       " \"My Boyfriend's Back\",\n",
       " 'California Hot Wax ',\n",
       " 'Wimps ',\n",
       " 'Stud Life ',\n",
       " 'The Village ',\n",
       " 'Computer Beach Party ',\n",
       " 'Summer Job ',\n",
       " 'Crash Course ',\n",
       " \"Goin' All the Way! \",\n",
       " 'Dream Trap ',\n",
       " 'Hot Resort ',\n",
       " 'Boxers and Ballerinas ',\n",
       " 'Senior Week ',\n",
       " 'Mr. Civil Rights: Thurgood Marshall and the NAACP ',\n",
       " 'Malibu Hot Summer ',\n",
       " 'Hot Splash ',\n",
       " 'The Big Bet ',\n",
       " \"The Postman's White Nights \",\n",
       " 'Ryaba, My Chicken ',\n",
       " 'An Afghan Love Story ',\n",
       " 'Les mauvaises têtes ',\n",
       " 'Toutes les Filles sont Folles ',\n",
       " 'Hollywood Hot Tubs 2: Educating Crystal ',\n",
       " 'Rebel High ',\n",
       " 'Party Plane ',\n",
       " 'Party Camp ',\n",
       " 'Can It Be Love ',\n",
       " 'Private Duty Nurses ',\n",
       " \"Let's Do It! \",\n",
       " 'De feu et de glace ',\n",
       " 'Breaking All the Rules ',\n",
       " 'Off the Mark ',\n",
       " 'A nous les Garçons ',\n",
       " 'Princess Academy ',\n",
       " 'Teen Lust ',\n",
       " 'The Vals ',\n",
       " 'Ballerina ',\n",
       " 'And the Oscar Goes To... ',\n",
       " 'Bob le magnifique ',\n",
       " 'Let It Be Me ',\n",
       " 'Ramon the Mexican ',\n",
       " 'Sentence of God ',\n",
       " 'Kamikaze Taxi ',\n",
       " 'The Rubber Gun ',\n",
       " 'Ape ',\n",
       " 'The Bitter Buddha ',\n",
       " 'Troppo rischio per un uomo solo ',\n",
       " 'Bop Girl Goes Calypso ',\n",
       " 'Final Voyage ',\n",
       " 'Man from Del Rio ',\n",
       " 'The Visual Bible: Matthew ',\n",
       " 'The Brave Bulls ',\n",
       " 'The Duke Is Tops ',\n",
       " 'The Maltese Bippy ',\n",
       " 'The Outsider ',\n",
       " 'Three Hours to Kill ',\n",
       " 'Vagabond Lady ',\n",
       " 'Yellow Jack ',\n",
       " 'From Inside ',\n",
       " 'Aging Out ',\n",
       " 'Banning ',\n",
       " 'To Find a Man ',\n",
       " 'Hotel Colonial ',\n",
       " 'Table For Five ',\n",
       " 'Einstein ',\n",
       " \"I'm Afraid \",\n",
       " 'Grandma ',\n",
       " 'I prosseneti ',\n",
       " 'Magic Beyond Words: The JK Rowling Story ',\n",
       " '21 Years: Richard Linklater ',\n",
       " \"Johnny Doesn't Live Here Anymore \",\n",
       " 'Kidnapped ',\n",
       " \"Public Enemy's Wife \",\n",
       " 'The Cisco Kid ',\n",
       " 'The Cisco Kid ',\n",
       " 'The Crowd Roars ',\n",
       " 'All Screwed Up ',\n",
       " 'Blood Feud ',\n",
       " 'Summer Night, with Greek Profile, Almond Eyes and Scent of Basil ',\n",
       " 'On a Moonlit Night ',\n",
       " 'Francesca e Nunziata ',\n",
       " \"Too Much Romance... It's Time for Stuffed Peppers \",\n",
       " 'The Daring Dobermans ',\n",
       " 'Escape by Night ',\n",
       " \"Gangster's Boy \",\n",
       " 'The Sinner ',\n",
       " 'La ragazza fuoristrada ',\n",
       " 'The Body ',\n",
       " 'Neapolitan Mystery ',\n",
       " 'Amore libero - Free Love ',\n",
       " \"Guns Don't Argue \",\n",
       " 'I Am A Criminal ',\n",
       " 'The Stars and the Water Carriers ',\n",
       " 'Springtime in the Rockies ',\n",
       " 'Toto and his Sisters ',\n",
       " 'Made in Argentina ',\n",
       " 'Pelota ',\n",
       " 'Néa ',\n",
       " 'Doli Saja Ke Rakhna',\n",
       " 'Sarfarosh ',\n",
       " 'Vikingo ',\n",
       " 'Crowsnest ',\n",
       " 'Bridge to Hell ',\n",
       " 'Wild Team ',\n",
       " 'Ironmaster ',\n",
       " 'Cicciabomba ',\n",
       " 'Brothers Till We Die ',\n",
       " 'Free Hand for a Tough Cop ',\n",
       " 'Violent Naples ',\n",
       " 'Manhunt in the City ',\n",
       " 'Orgasmo ',\n",
       " \"Ringo, It's Massacre Time \",\n",
       " 'The Casual Vacancy ',\n",
       " 'How Sherlock Changed the World ',\n",
       " 'Doug Stanhope: Before Turning the Gun on Himself ',\n",
       " 'The Who: The Who at Kilburn 1977 ',\n",
       " 'Cocaine Blues ',\n",
       " 'Court ',\n",
       " 'Call + Response ',\n",
       " 'Charlie Bubbles ',\n",
       " 'Genius on Hold ',\n",
       " 'Tar Creek ',\n",
       " 'Exile Nation: The Plastic People ',\n",
       " 'The Young Nurses ',\n",
       " 'Macondo ',\n",
       " 'Barnum! ',\n",
       " 'Long Lasting Days ',\n",
       " 'Carambola ',\n",
       " 'The Prince and the Pauper ',\n",
       " 'Supermen Against the Orient ',\n",
       " 'Three Supermen in the Jungle ',\n",
       " 'I guappi non si toccano ',\n",
       " 'Love Hotel ',\n",
       " 'That Certain Feeling ',\n",
       " 'Target of an Assassin ',\n",
       " 'Joshua Then and Now ',\n",
       " 'Tiara Tahiti ',\n",
       " 'The Little Chaos ',\n",
       " 'Miss Pacific Fleet ',\n",
       " 'Rembrandt ',\n",
       " 'Tank Force ',\n",
       " 'The Iron Sheriff ',\n",
       " 'The Life of Vergie Winters ',\n",
       " 'Two-Fisted Law ',\n",
       " 'Usain Bolt, La Légende ',\n",
       " 'Anthrax ',\n",
       " 'The Backwater Gospel ',\n",
       " 'Garpastum ',\n",
       " \"Susie's Hope \",\n",
       " 'Kokoko ',\n",
       " 'Solo para dos ',\n",
       " 'Mistrial ',\n",
       " 'Just About Famous ',\n",
       " 'Rita da Cascia ',\n",
       " '20th Century Oz ',\n",
       " 'A Fish in the Bathtub ',\n",
       " 'Balalaika ',\n",
       " 'Mankillers ',\n",
       " 'Henry Goes Arizona ',\n",
       " 'Piccadilly Jim ',\n",
       " 'Shakedown ',\n",
       " 'The Disappearance of Garcia Lorca ',\n",
       " 'Up the Creek ',\n",
       " \"You Can't Run Away from It \",\n",
       " 'The Girl with the Hat Box ',\n",
       " 'Open Secret ',\n",
       " 'War-Time Romance ',\n",
       " \"Perché non facciamo l' amore \",\n",
       " 'Due cuori, una cappella ',\n",
       " 'Halleluja for Django ',\n",
       " 'My Name Is Pecos ',\n",
       " 'Uncle Vanya ',\n",
       " 'Gardens in Autumn ',\n",
       " 'The Stroll ',\n",
       " 'Malabimba ',\n",
       " 'White Pop Jesus ',\n",
       " 'Crash Landing ',\n",
       " \"Don't Knock The Rock \",\n",
       " 'The Yellow Balloon ',\n",
       " 'Rangeela ',\n",
       " \"C'mon, Let's Live a Little\",\n",
       " 'Poliisin Poika ',\n",
       " 'To Kill a Stranger ',\n",
       " 'Where Is Parsifal? ',\n",
       " 'Good Luck, Miss Wyckoff ',\n",
       " 'Journey Into Fear ',\n",
       " 'Barry McKenzie Holds His Own ',\n",
       " 'No Love for Johnnie ',\n",
       " 'La maquina de bailar ',\n",
       " 'Bombay Talkies ',\n",
       " 'Ek Ajnabee ',\n",
       " 'Samay: When Time Strikes ',\n",
       " 'Virasat ',\n",
       " 'È arrivato mio fratello ',\n",
       " '7 Kilos in 7 Days ',\n",
       " 'Noi uomini duri ',\n",
       " 'Roba da ricchi ',\n",
       " 'Da grande ',\n",
       " 'Piedipiatti ',\n",
       " 'Infelici e contenti ',\n",
       " 'Le nuove comiche ',\n",
       " 'Io tigro tu tigri egli tigra ',\n",
       " 'Sturmtruppen ',\n",
       " 'Luna di miele in tre ',\n",
       " 'Paolo Barca, maestro elementare, praticamente nudista ',\n",
       " 'La poliziotta ',\n",
       " 'The Bonesetter ',\n",
       " 'The Offspring ',\n",
       " 'The Alley Tramp ',\n",
       " 'The Cheating Pact ',\n",
       " 'Pudhupettai ',\n",
       " 'The Lion’s Mouth Opens ',\n",
       " 'Man of the Story ',\n",
       " \"Arabella, the pirate's daughter \",\n",
       " 'Blind Rage ',\n",
       " 'The Passenger ',\n",
       " 'Time Of My Life ',\n",
       " 'Heaven and Earth Magic ',\n",
       " 'The Golden Bat ',\n",
       " 'The Prospects ',\n",
       " 'Love in the Time of Civil War ',\n",
       " 'Trevor Noah: African American ',\n",
       " 'Fair of the Dove ',\n",
       " \"Satan's Baby Doll \",\n",
       " 'Fasthand ',\n",
       " 'For a Book of Dollars',\n",
       " 'Kill the Poker Player ',\n",
       " 'To Forget Venice ',\n",
       " 'Tulips of Haarlem ',\n",
       " 'Gros câlin ',\n",
       " 'Il giocattolo ',\n",
       " 'Nudo di donna ',\n",
       " 'Quelle strane occasioni ',\n",
       " 'Attenti al buffone ',\n",
       " 'Vedo nudo ',\n",
       " 'Straziami, ma di baci saziami ',\n",
       " 'Me, Me, Me... and the Others ',\n",
       " 'The Bachelor ',\n",
       " 'Gli innamorati ',\n",
       " 'Herbie Hancock: Possibilities ',\n",
       " 'De Vliegende Hollander ',\n",
       " 'In nome del popolo sovrano ',\n",
       " 'Complexes ',\n",
       " 'High Infidelity ',\n",
       " 'La Parmigiana ',\n",
       " 'I Motorizzati ',\n",
       " 'Anni ruggenti ',\n",
       " 'The Last Judgment ',\n",
       " 'Adorabili e bugiarde ',\n",
       " 'Box Elder ',\n",
       " 'The Drunk ',\n",
       " 'Forced Entry ',\n",
       " 'Prime Suspect: Scent of Darkness ',\n",
       " 'Hamari Adhuri Kahaani ',\n",
       " 'Johnny Appleweed ',\n",
       " \"Eddie's Million Dollar Cook Off \",\n",
       " 'Chicks ',\n",
       " 'The Unfaithfuls ',\n",
       " 'Hard Times For Vampires ',\n",
       " 'Heroes of the West ',\n",
       " 'Twins from Texas',\n",
       " 'La feldmarescialla ',\n",
       " 'Il vichingo venuto dal sud ',\n",
       " 'Dottor Jekyll e gentile signora ',\n",
       " 'Sballato, gasato, completamente fuso ',\n",
       " 'The Last White Knight ',\n",
       " 'Spies of Mississippi ',\n",
       " 'Fantastic Beasts and Where to Find Them 2 ',\n",
       " 'Pablo ',\n",
       " \"Mom's Got a Date With a Vampire \",\n",
       " 'Kaaka Muttai ',\n",
       " 'Aurora ',\n",
       " 'The Loretta Claiborne Story ',\n",
       " \"Frank Capra's American Dream \",\n",
       " \"Fultah Fisher's Boarding House \",\n",
       " 'Cabin by the Lake ',\n",
       " 'Bhoot ',\n",
       " 'Raising Waylon ',\n",
       " 'Peeping Toms ',\n",
       " 'The Disappointments Room ',\n",
       " 'Tipping Point ',\n",
       " 'The Voyage of Captain Fracassa ',\n",
       " 'People of Rome ',\n",
       " 'Señorita Justice',\n",
       " 'Outside Chance ',\n",
       " 'Jungle ',\n",
       " 'Prahaar: The Final Attack ',\n",
       " 'Zakhm ',\n",
       " 'Koyla ',\n",
       " 'Shool ',\n",
       " 'Ghayal ',\n",
       " 'Gadar: Ek Prem Katha ',\n",
       " 'Josh ',\n",
       " 'Raakh ',\n",
       " 'Shaolin Vs Lama ',\n",
       " 'The Valley Below ',\n",
       " 'Candy Stripe Nurses ',\n",
       " 'Hound-Dog Man ',\n",
       " 'The Spiral Road ',\n",
       " 'A la legión le gustan las mujeres... y a las mujeres, les gusta la legión ',\n",
       " 'Dance Me to My Song ',\n",
       " 'Herman U.S.A. ',\n",
       " 'Flash and Firecat',\n",
       " 'The Couples ',\n",
       " 'The Flying Saucer ',\n",
       " 'Il maestro di Vigevano ',\n",
       " 'Il vigile ',\n",
       " 'Costa Azzurra ',\n",
       " \"Nella città l'inferno \",\n",
       " 'Policarpo, ufficiale di scrittura ',\n",
       " \"Vacanze d'inverno \",\n",
       " 'Under the Sun of Rome ',\n",
       " 'The Sign of Venus ',\n",
       " 'The Anatomy of Love ',\n",
       " 'The Brass Bottle ',\n",
       " 'Il tassinaro ',\n",
       " 'Io so che tu sai che io so ',\n",
       " 'Dove vai in vacanza? ',\n",
       " \"My Date with the President's Daughter \",\n",
       " 'Quints ',\n",
       " 'Slap the Monster on Page One ',\n",
       " 'Bisturi, la mafia bianca ',\n",
       " \"Una questione d'onore \",\n",
       " 'Woman of Rome ',\n",
       " 'Processo alla città ',\n",
       " 'Anni difficili ',\n",
       " 'Vivere in pace ',\n",
       " 'I Am Afraid ',\n",
       " 'How to Play Football ',\n",
       " \"Pluto's Blue Note \",\n",
       " 'The Amityville Playhouse ',\n",
       " 'Thunder In Paradise ',\n",
       " 'Shelter Island ',\n",
       " 'I viaggiatori della sera ',\n",
       " 'The Thirteenth Year ',\n",
       " 'Freaky Friday ',\n",
       " 'Le chant du Styrène ',\n",
       " 'Charlotte and Her Boyfriend ',\n",
       " 'Clerks: The Lost Scene ',\n",
       " 'Cinema of Vengeance ',\n",
       " 'Parole sante ',\n",
       " 'Faith of Our Fathers ',\n",
       " \"Un'estate al mare \",\n",
       " 'Sweet Dreams ',\n",
       " 'Transatlantic Coffee ',\n",
       " 'My Mother the Mermaid ',\n",
       " 'Christian Mingle ',\n",
       " \"L'erba proibita \",\n",
       " 'Punishment Room ',\n",
       " 'Ray of Sunshine ',\n",
       " 'The Price of Life ',\n",
       " 'Who Killed Captain Alex? ',\n",
       " 'The Temple ',\n",
       " 'Zapatlela ',\n",
       " 'Natarang ',\n",
       " 'The Village Had No Walls ',\n",
       " 'Paradh ',\n",
       " 'Vaastupurush',\n",
       " 'Taryanche Bait ',\n",
       " 'Murder Without Motive: The Edmund Perry Story ',\n",
       " \"My Life's in Turnaround \",\n",
       " \"When He Didn't Come Home \",\n",
       " 'Best Friends ',\n",
       " 'Dangerous Child ',\n",
       " 'Perfect High ',\n",
       " 'The Secretary ',\n",
       " '...And the Earth Did Not Swallow Him ',\n",
       " 'La nuit la plus longue ',\n",
       " 'The Virginian ',\n",
       " 'Grow Up, Tony Phillips ',\n",
       " 'Being Us ',\n",
       " 'Blue Ridge ',\n",
       " 'Shoot the Messenger ',\n",
       " 'The Climb ',\n",
       " 'Beside Still Waters ',\n",
       " 'Justice Is Mind ',\n",
       " 'Hiding Victoria ',\n",
       " 'No Place Like Home ',\n",
       " \"Boppin' at the Glue Factory \",\n",
       " 'The Last Movie ',\n",
       " 'Spilt Milk ',\n",
       " 'Chain Link ',\n",
       " 'Gemini ',\n",
       " 'The Lawyer ',\n",
       " \"Sierra Leone's Refugee All Stars\",\n",
       " \"L'uomo della carità\",\n",
       " 'Heaven Knows What ',\n",
       " 'An Optical Poem ',\n",
       " '37 ',\n",
       " '3 of a Kind ',\n",
       " 'Double Parked ',\n",
       " 'Clutter ',\n",
       " 'Lowlife ',\n",
       " 'Success Is the Best Revenge ',\n",
       " 'The Killing Mind ',\n",
       " 'No Greater Love ',\n",
       " 'Son of a Lion ',\n",
       " 'Through Naked Eyes ',\n",
       " 'All Together Now ',\n",
       " 'Once Upon a Summer ',\n",
       " 'Le coup du berger ',\n",
       " \"Le laboratoire de l'angoisse \",\n",
       " \"Vingt-quatre heures de la vie d'un clown \",\n",
       " 'Syksyllä kaikki on toisin ',\n",
       " 'Helsinki, Forever ',\n",
       " 'Klunkerz ',\n",
       " 'Dog Star Man: Prelude ',\n",
       " 'Dog Star Man: Part II ',\n",
       " 'Dog Star Man: Part III ',\n",
       " 'Dog Star Man: Part IV ',\n",
       " 'Alien Express ',\n",
       " 'Mystery Woman ',\n",
       " 'Nitrate Base ',\n",
       " 'The House of Smiles ',\n",
       " 'Her Harem ',\n",
       " 'The Man with the Balloons ',\n",
       " 'El Pisito ',\n",
       " 'Los Chicos ',\n",
       " 'The Black Kung Fu Experience ',\n",
       " 'A Matter of Sex ',\n",
       " 'The Worst Year of My Life ',\n",
       " 'The Nostradamus Kid ',\n",
       " 'Ink & Steel ',\n",
       " 'Il cielo è sempre più blu ',\n",
       " 'Virgil Bliss ',\n",
       " 'Five Seconds to Spare ',\n",
       " '5 Hour Friends ',\n",
       " 'Exile ',\n",
       " 'To Jennifer ',\n",
       " 'Amazon Falls',\n",
       " \"F. Scott Fitzgerald and 'The Last of the Belles' \",\n",
       " 'Terraces ',\n",
       " 'Stonemouth ',\n",
       " 'Rag. Arturo De Fanti, Bancario Precario ',\n",
       " 'Alla mia cara mamma nel giorno del suo compleanno ',\n",
       " 'Basta guardarla ',\n",
       " 'Bombay Velvet ',\n",
       " 'Cross Current ',\n",
       " \"Sistemo l'America e torno \",\n",
       " 'The Unspoken Truth ',\n",
       " 'Keeping Track ',\n",
       " 'Strange Fruit ',\n",
       " 'Jack Brown: Genius ',\n",
       " 'Suicide Dolls ',\n",
       " 'Mambo Café ',\n",
       " 'Dark Tides',\n",
       " 'Muirhouse ',\n",
       " 'New Year ',\n",
       " 'Bucharest, 1992) ',\n",
       " 'Michael Jackson: Number Ones ',\n",
       " 'The Ritual',\n",
       " 'Lovespell ',\n",
       " \"River's End \",\n",
       " \"Stephanie's Image \",\n",
       " 'The Expedition',\n",
       " 'Fetish ',\n",
       " 'All Eyes And Ears ',\n",
       " 'Roxie ',\n",
       " 'The Livingston Gardener ',\n",
       " 'Pretty Rosebud ',\n",
       " 'Greg Fitzsimmons: Life on Stage ',\n",
       " 'Spectral ',\n",
       " 'Meet Him And Die ',\n",
       " 'The Town That Was ',\n",
       " 'The Perfect Getaway ',\n",
       " 'Thelma, Louise et Chantal ',\n",
       " 'Unlikely Revolutionaries ',\n",
       " 'The Commander and the Stork ',\n",
       " 'Il rosso e il blu ',\n",
       " 'The White Space ',\n",
       " \"Saimir's decision \",\n",
       " 'Tutto parla di te ',\n",
       " 'Noi credevamo ',\n",
       " 'Che ne sarà di noi ',\n",
       " 'Il portaborse ',\n",
       " 'Break Free ',\n",
       " 'La seconda notte di nozze ',\n",
       " 'Just a Father ',\n",
       " 'Chinese Boxes',\n",
       " 'BitterSweet ',\n",
       " 'Black Field ',\n",
       " \"Dennis Rodman's Big Bang in PyongYang \",\n",
       " 'Heart of the North ',\n",
       " 'Blind Man ',\n",
       " 'What Comes Around ',\n",
       " 'Haunting of Cellblock 11 ',\n",
       " 'Cupid ',\n",
       " ...]"
      ]
     },
     "execution_count": 22,
     "metadata": {},
     "output_type": "execute_result"
    }
   ],
   "source": [
    "french_version = [i[1] if len(i) == 3 else i[0] for i in split_titles ]\n",
    "french_version"
   ]
  },
  {
   "cell_type": "markdown",
   "metadata": {},
   "source": [
    "Getting the genre of movies using the French version of the title, being aware of the duplicates that might appear just avoiding index mixup"
   ]
  },
  {
   "cell_type": "code",
   "execution_count": 165,
   "metadata": {},
   "outputs": [],
   "source": [
    "french_genre = [get_genre2(i) for i in french_version]"
   ]
  },
  {
   "cell_type": "code",
   "execution_count": null,
   "metadata": {},
   "outputs": [],
   "source": [
    "len(eng_genre)"
   ]
  },
  {
   "cell_type": "markdown",
   "metadata": {},
   "source": [
    "Creating a dataframe for the genres in both languages"
   ]
  },
  {
   "cell_type": "code",
   "execution_count": 170,
   "metadata": {},
   "outputs": [],
   "source": [
    "genres_df = pd.DataFrame(french_genre, columns = ['French'])"
   ]
  },
  {
   "cell_type": "code",
   "execution_count": 176,
   "metadata": {},
   "outputs": [],
   "source": [
    "genres_df['title'] = [i for i in no_genres['title']]"
   ]
  },
  {
   "cell_type": "code",
   "execution_count": 205,
   "metadata": {},
   "outputs": [
    {
     "data": {
      "text/html": [
       "<div>\n",
       "<style scoped>\n",
       "    .dataframe tbody tr th:only-of-type {\n",
       "        vertical-align: middle;\n",
       "    }\n",
       "\n",
       "    .dataframe tbody tr th {\n",
       "        vertical-align: top;\n",
       "    }\n",
       "\n",
       "    .dataframe thead th {\n",
       "        text-align: right;\n",
       "    }\n",
       "</style>\n",
       "<table border=\"1\" class=\"dataframe\">\n",
       "  <thead>\n",
       "    <tr style=\"text-align: right;\">\n",
       "      <th></th>\n",
       "      <th>French</th>\n",
       "      <th>english</th>\n",
       "      <th>title</th>\n",
       "    </tr>\n",
       "  </thead>\n",
       "  <tbody>\n",
       "    <tr>\n",
       "      <th>0</th>\n",
       "      <td>Comedy Drama</td>\n",
       "      <td>NaN</td>\n",
       "      <td>Away with Words (San tiao ren) (1999)</td>\n",
       "    </tr>\n",
       "    <tr>\n",
       "      <th>1</th>\n",
       "      <td>Music TV Movie Documentary</td>\n",
       "      <td>Music TV Movie Documentary</td>\n",
       "      <td>Glitterbug (1994)</td>\n",
       "    </tr>\n",
       "    <tr>\n",
       "      <th>2</th>\n",
       "      <td>Drama</td>\n",
       "      <td>NaN</td>\n",
       "      <td>Age of the Earth, The (A Idade da Terra) (1980)</td>\n",
       "    </tr>\n",
       "    <tr>\n",
       "      <th>3</th>\n",
       "      <td>Drama Fantasy</td>\n",
       "      <td>Drama Documentary Adventure</td>\n",
       "      <td>Trails (Veredas) (1978)</td>\n",
       "    </tr>\n",
       "    <tr>\n",
       "      <th>4</th>\n",
       "      <td>NaN</td>\n",
       "      <td>Family Documentary</td>\n",
       "      <td>Milky Way (Tejút) (2007)</td>\n",
       "    </tr>\n",
       "  </tbody>\n",
       "</table>\n",
       "</div>"
      ],
      "text/plain": [
       "                       French                      english  \\\n",
       "0                Comedy Drama                          NaN   \n",
       "1  Music TV Movie Documentary   Music TV Movie Documentary   \n",
       "2                       Drama                          NaN   \n",
       "3               Drama Fantasy  Drama Documentary Adventure   \n",
       "4                         NaN           Family Documentary   \n",
       "\n",
       "                                             title  \n",
       "0            Away with Words (San tiao ren) (1999)  \n",
       "1                                Glitterbug (1994)  \n",
       "2  Age of the Earth, The (A Idade da Terra) (1980)  \n",
       "3                          Trails (Veredas) (1978)  \n",
       "4                         Milky Way (Tejút) (2007)  "
      ]
     },
     "execution_count": 205,
     "metadata": {},
     "output_type": "execute_result"
    }
   ],
   "source": [
    "genres_df.head(5)"
   ]
  },
  {
   "cell_type": "markdown",
   "metadata": {},
   "source": [
    "Looking at the data that got no genres from the Database and see what might be the cause of this error"
   ]
  },
  {
   "cell_type": "code",
   "execution_count": 191,
   "metadata": {},
   "outputs": [
    {
     "data": {
      "text/html": [
       "<div>\n",
       "<style scoped>\n",
       "    .dataframe tbody tr th:only-of-type {\n",
       "        vertical-align: middle;\n",
       "    }\n",
       "\n",
       "    .dataframe tbody tr th {\n",
       "        vertical-align: top;\n",
       "    }\n",
       "\n",
       "    .dataframe thead th {\n",
       "        text-align: right;\n",
       "    }\n",
       "</style>\n",
       "<table border=\"1\" class=\"dataframe\">\n",
       "  <thead>\n",
       "    <tr style=\"text-align: right;\">\n",
       "      <th></th>\n",
       "      <th>French</th>\n",
       "      <th>english</th>\n",
       "      <th>title</th>\n",
       "    </tr>\n",
       "  </thead>\n",
       "  <tbody>\n",
       "    <tr>\n",
       "      <th>7</th>\n",
       "      <td>NaN</td>\n",
       "      <td>NaN</td>\n",
       "      <td>Ella Lola, a la Trilby (1898)</td>\n",
       "    </tr>\n",
       "    <tr>\n",
       "      <th>11</th>\n",
       "      <td>NaN</td>\n",
       "      <td>NaN</td>\n",
       "      <td>Primus Hallucino-Genetics Live 2004 (2004)</td>\n",
       "    </tr>\n",
       "    <tr>\n",
       "      <th>13</th>\n",
       "      <td>NaN</td>\n",
       "      <td>NaN</td>\n",
       "      <td>Study in Choreography for Camera, A (1945)</td>\n",
       "    </tr>\n",
       "    <tr>\n",
       "      <th>14</th>\n",
       "      <td>NaN</td>\n",
       "      <td>NaN</td>\n",
       "      <td>It's My Mother's Birthday Today (2008)</td>\n",
       "    </tr>\n",
       "    <tr>\n",
       "      <th>19</th>\n",
       "      <td>NaN</td>\n",
       "      <td>NaN</td>\n",
       "      <td>Lettera Amorosa (1995)</td>\n",
       "    </tr>\n",
       "    <tr>\n",
       "      <th>...</th>\n",
       "      <td>...</td>\n",
       "      <td>...</td>\n",
       "      <td>...</td>\n",
       "    </tr>\n",
       "    <tr>\n",
       "      <th>5044</th>\n",
       "      <td>NaN</td>\n",
       "      <td>NaN</td>\n",
       "      <td>Whoopi Goldberg: Direct from Broadway (1985)</td>\n",
       "    </tr>\n",
       "    <tr>\n",
       "      <th>5046</th>\n",
       "      <td>NaN</td>\n",
       "      <td>NaN</td>\n",
       "      <td>Indian Day School (1898)</td>\n",
       "    </tr>\n",
       "    <tr>\n",
       "      <th>5047</th>\n",
       "      <td>NaN</td>\n",
       "      <td>NaN</td>\n",
       "      <td>The Magic Book (1900)</td>\n",
       "    </tr>\n",
       "    <tr>\n",
       "      <th>5053</th>\n",
       "      <td>NaN</td>\n",
       "      <td>NaN</td>\n",
       "      <td>The Prep School Negro (2012)</td>\n",
       "    </tr>\n",
       "    <tr>\n",
       "      <th>5056</th>\n",
       "      <td>NaN</td>\n",
       "      <td>NaN</td>\n",
       "      <td>An Impossible Balancing Feat (1902)</td>\n",
       "    </tr>\n",
       "  </tbody>\n",
       "</table>\n",
       "<p>1052 rows × 3 columns</p>\n",
       "</div>"
      ],
      "text/plain": [
       "     French english                                         title\n",
       "7       NaN     NaN                 Ella Lola, a la Trilby (1898)\n",
       "11      NaN     NaN    Primus Hallucino-Genetics Live 2004 (2004)\n",
       "13      NaN     NaN    Study in Choreography for Camera, A (1945)\n",
       "14      NaN     NaN        It's My Mother's Birthday Today (2008)\n",
       "19      NaN     NaN                        Lettera Amorosa (1995)\n",
       "...     ...     ...                                           ...\n",
       "5044    NaN     NaN  Whoopi Goldberg: Direct from Broadway (1985)\n",
       "5046    NaN     NaN                      Indian Day School (1898)\n",
       "5047    NaN     NaN                         The Magic Book (1900)\n",
       "5053    NaN     NaN                  The Prep School Negro (2012)\n",
       "5056    NaN     NaN           An Impossible Balancing Feat (1902)\n",
       "\n",
       "[1052 rows x 3 columns]"
      ]
     },
     "execution_count": 191,
     "metadata": {},
     "output_type": "execute_result"
    }
   ],
   "source": [
    "genres_df[(genres_df['French'].isnull()) & (genres_df['english'].isnull())]"
   ]
  },
  {
   "cell_type": "markdown",
   "metadata": {},
   "source": [
    "Let us see the number of missing genres now"
   ]
  },
  {
   "cell_type": "code",
   "execution_count": 215,
   "metadata": {},
   "outputs": [
    {
     "data": {
      "text/plain": [
       "'Music'"
      ]
     },
     "execution_count": 215,
     "metadata": {},
     "output_type": "execute_result"
    }
   ],
   "source": [
    "get_genre2('Primus Hallucino-Genetics')"
   ]
  },
  {
   "cell_type": "markdown",
   "metadata": {},
   "source": [
    "It appears some parts of the titles of the movies are the ones causing the error of null genres"
   ]
  },
  {
   "cell_type": "code",
   "execution_count": 192,
   "metadata": {},
   "outputs": [
    {
     "data": {
      "text/plain": [
       "1052"
      ]
     },
     "execution_count": 192,
     "metadata": {},
     "output_type": "execute_result"
    }
   ],
   "source": [
    "len(genres_df[(genres_df['French'].isnull()) & (genres_df['english'].isnull())])"
   ]
  },
  {
   "cell_type": "markdown",
   "metadata": {},
   "source": [
    "number of original missing data before the process of fetching data"
   ]
  },
  {
   "cell_type": "code",
   "execution_count": 193,
   "metadata": {},
   "outputs": [
    {
     "data": {
      "text/plain": [
       "5062"
      ]
     },
     "execution_count": 193,
     "metadata": {},
     "output_type": "execute_result"
    }
   ],
   "source": [
    "len(genres_df)"
   ]
  },
  {
   "cell_type": "markdown",
   "metadata": {},
   "source": [
    "This is quite an improvement to the total number of data that was missing"
   ]
  },
  {
   "cell_type": "code",
   "execution_count": 179,
   "metadata": {},
   "outputs": [],
   "source": [
    "#genres_df.to_csv('Genres_dataframe.csv', index = False)"
   ]
  },
  {
   "cell_type": "code",
   "execution_count": 179,
   "metadata": {},
   "outputs": [
    {
     "data": {
      "text/plain": [
       "(62423, 5)"
      ]
     },
     "execution_count": 179,
     "metadata": {},
     "output_type": "execute_result"
    }
   ],
   "source": [
    "movies_data.shape"
   ]
  },
  {
   "cell_type": "code",
   "execution_count": 202,
   "metadata": {},
   "outputs": [
    {
     "name": "stdout",
     "output_type": "stream",
     "text": [
      "<class 'pandas.core.frame.DataFrame'>\n",
      "RangeIndex: 62423 entries, 0 to 62422\n",
      "Data columns (total 5 columns):\n",
      " #   Column        Non-Null Count  Dtype  \n",
      "---  ------        --------------  -----  \n",
      " 0   movieId       62423 non-null  int64  \n",
      " 1   title         62423 non-null  object \n",
      " 2   genres        62423 non-null  object \n",
      " 3   clean_titles  62423 non-null  object \n",
      " 4   year          62036 non-null  float64\n",
      "dtypes: float64(1), int64(1), object(3)\n",
      "memory usage: 2.4+ MB\n"
     ]
    }
   ],
   "source": [
    "movies_data.info()"
   ]
  },
  {
   "cell_type": "markdown",
   "metadata": {},
   "source": [
    "## Processing data to get clean name and year\n",
    "\n",
    "looking at the movie distribution over the years"
   ]
  },
  {
   "cell_type": "code",
   "execution_count": 23,
   "metadata": {},
   "outputs": [],
   "source": [
    "name_list = [re.findall('[A-Za-z]+', i) for i in movies_data.title]\n",
    "names = [\" \".join(i) for i in name_list]\n",
    "movies_data['clean_titles'] = names"
   ]
  },
  {
   "cell_type": "code",
   "execution_count": 24,
   "metadata": {},
   "outputs": [],
   "source": [
    "years_list = [re.findall('([0-9])', i) for i in movies_data.title]\n",
    "years = [\"\".join(i) for i in years_list]\n",
    "year = [i[-4:] for i in years]\n",
    "movies_data['year'] = year"
   ]
  },
  {
   "cell_type": "code",
   "execution_count": 25,
   "metadata": {},
   "outputs": [
    {
     "data": {
      "text/html": [
       "<div>\n",
       "<style scoped>\n",
       "    .dataframe tbody tr th:only-of-type {\n",
       "        vertical-align: middle;\n",
       "    }\n",
       "\n",
       "    .dataframe tbody tr th {\n",
       "        vertical-align: top;\n",
       "    }\n",
       "\n",
       "    .dataframe thead th {\n",
       "        text-align: right;\n",
       "    }\n",
       "</style>\n",
       "<table border=\"1\" class=\"dataframe\">\n",
       "  <thead>\n",
       "    <tr style=\"text-align: right;\">\n",
       "      <th></th>\n",
       "      <th>movieId</th>\n",
       "      <th>title</th>\n",
       "      <th>genres</th>\n",
       "      <th>clean_titles</th>\n",
       "      <th>year</th>\n",
       "    </tr>\n",
       "  </thead>\n",
       "  <tbody>\n",
       "    <tr>\n",
       "      <th>0</th>\n",
       "      <td>1</td>\n",
       "      <td>Toy Story (1995)</td>\n",
       "      <td>Adventure|Animation|Children|Comedy|Fantasy</td>\n",
       "      <td>Toy Story</td>\n",
       "      <td>1995</td>\n",
       "    </tr>\n",
       "  </tbody>\n",
       "</table>\n",
       "</div>"
      ],
      "text/plain": [
       "   movieId             title                                       genres  \\\n",
       "0        1  Toy Story (1995)  Adventure|Animation|Children|Comedy|Fantasy   \n",
       "\n",
       "  clean_titles  year  \n",
       "0    Toy Story  1995  "
      ]
     },
     "execution_count": 25,
     "metadata": {},
     "output_type": "execute_result"
    }
   ],
   "source": [
    "movies_data.head(1)"
   ]
  },
  {
   "cell_type": "code",
   "execution_count": 27,
   "metadata": {},
   "outputs": [
    {
     "data": {
      "image/png": "[encoded data removed]",
      "text/plain": [
       "<Figure size 1296x1296 with 1 Axes>"
      ]
     },
     "metadata": {},
     "output_type": "display_data"
    }
   ],
   "source": [
    "# we have movies only up to the year 2019\n",
    "import matplotlib.pyplot as plt\n",
    "movies_data.year.value_counts(dropna=False).sort_index().plot(kind='barh',figsize=(18,18))\n",
    "plt.show()"
   ]
  },
  {
   "cell_type": "markdown",
   "metadata": {},
   "source": [
    "From the graph it appears we have got a few movies which are not years and one which is a serious outlier `1013`, `1`, `103`, etc. so these values did not have a year assigned to them."
   ]
  },
  {
   "cell_type": "markdown",
   "metadata": {},
   "source": [
    "Change year data type to float instead of the object"
   ]
  },
  {
   "cell_type": "code",
   "execution_count": 18,
   "metadata": {},
   "outputs": [],
   "source": [
    " movies_data['year'] =  movies_data['year'].apply(pd.to_numeric)"
   ]
  },
  {
   "cell_type": "code",
   "execution_count": 149,
   "metadata": {},
   "outputs": [
    {
     "name": "stdout",
     "output_type": "stream",
     "text": [
      "plotly_mimetype+notebook\n"
     ]
    }
   ],
   "source": [
    "import plotly.io as pio\n",
    "print(pio.renderers.default)"
   ]
  },
  {
   "cell_type": "code",
   "execution_count": 148,
   "metadata": {},
   "outputs": [],
   "source": [
    "import plotly.io as pio\n",
    "pio.renderers.default = 'plotly_mimetype+notebook'"
   ]
  },
  {
   "cell_type": "code",
   "execution_count": null,
   "metadata": {},
   "outputs": [],
   "source": [
    "import plotly.express as px\n",
    "fig = px.bar(x = y_df.index , y = y_df.year)\n",
    "fig.show()"
   ]
  },
  {
   "cell_type": "markdown",
   "metadata": {},
   "source": [
    "## Exploring the Train data\n",
    "\n",
    "The train data set has one of the important columns, the rating which contains the ratings of each movie given by a user."
   ]
  },
  {
   "cell_type": "code",
   "execution_count": 28,
   "metadata": {},
   "outputs": [
    {
     "data": {
      "text/html": [
       "<div>\n",
       "<style scoped>\n",
       "    .dataframe tbody tr th:only-of-type {\n",
       "        vertical-align: middle;\n",
       "    }\n",
       "\n",
       "    .dataframe tbody tr th {\n",
       "        vertical-align: top;\n",
       "    }\n",
       "\n",
       "    .dataframe thead th {\n",
       "        text-align: right;\n",
       "    }\n",
       "</style>\n",
       "<table border=\"1\" class=\"dataframe\">\n",
       "  <thead>\n",
       "    <tr style=\"text-align: right;\">\n",
       "      <th></th>\n",
       "      <th>userId</th>\n",
       "      <th>movieId</th>\n",
       "      <th>rating</th>\n",
       "      <th>timestamp</th>\n",
       "    </tr>\n",
       "  </thead>\n",
       "  <tbody>\n",
       "    <tr>\n",
       "      <th>0</th>\n",
       "      <td>5163</td>\n",
       "      <td>57669</td>\n",
       "      <td>4.0</td>\n",
       "      <td>1518349992</td>\n",
       "    </tr>\n",
       "    <tr>\n",
       "      <th>1</th>\n",
       "      <td>106343</td>\n",
       "      <td>5</td>\n",
       "      <td>4.5</td>\n",
       "      <td>1206238739</td>\n",
       "    </tr>\n",
       "    <tr>\n",
       "      <th>2</th>\n",
       "      <td>146790</td>\n",
       "      <td>5459</td>\n",
       "      <td>5.0</td>\n",
       "      <td>1076215539</td>\n",
       "    </tr>\n",
       "    <tr>\n",
       "      <th>3</th>\n",
       "      <td>106362</td>\n",
       "      <td>32296</td>\n",
       "      <td>2.0</td>\n",
       "      <td>1423042565</td>\n",
       "    </tr>\n",
       "    <tr>\n",
       "      <th>4</th>\n",
       "      <td>9041</td>\n",
       "      <td>366</td>\n",
       "      <td>3.0</td>\n",
       "      <td>833375837</td>\n",
       "    </tr>\n",
       "  </tbody>\n",
       "</table>\n",
       "</div>"
      ],
      "text/plain": [
       "   userId  movieId  rating   timestamp\n",
       "0    5163    57669     4.0  1518349992\n",
       "1  106343        5     4.5  1206238739\n",
       "2  146790     5459     5.0  1076215539\n",
       "3  106362    32296     2.0  1423042565\n",
       "4    9041      366     3.0   833375837"
      ]
     },
     "execution_count": 28,
     "metadata": {},
     "output_type": "execute_result"
    }
   ],
   "source": [
    "# get train data\n",
    "train_data.head()"
   ]
  },
  {
   "cell_type": "code",
   "execution_count": 29,
   "metadata": {},
   "outputs": [
    {
     "data": {
      "text/plain": [
       "(10000038, 4)"
      ]
     },
     "execution_count": 29,
     "metadata": {},
     "output_type": "execute_result"
    }
   ],
   "source": [
    "train_data.shape"
   ]
  },
  {
   "cell_type": "markdown",
   "metadata": {},
   "source": [
    "Let us look at the distribution of the rating, which rating is mostly given by users"
   ]
  },
  {
   "cell_type": "code",
   "execution_count": 24,
   "metadata": {},
   "outputs": [
    {
     "name": "stdout",
     "output_type": "stream",
     "text": [
      "Average rating in dataset: 3.5333951730983424\n"
     ]
    },
    {
     "data": {
      "image/png": "[encoded data removed]",
      "text/plain": [
       "<Figure size 720x360 with 1 Axes>"
      ]
     },
     "metadata": {},
     "output_type": "display_data"
    }
   ],
   "source": [
    "with sns.axes_style('white'):\n",
    "    g = sns.factorplot(\"rating\", data=train_data, aspect=2.0,kind='count')\n",
    "    g.set_ylabels(\"Total number of ratings\")\n",
    "print (f'Average rating in dataset: {np.mean(train_data[\"rating\"])}')"
   ]
  },
  {
   "cell_type": "markdown",
   "metadata": {},
   "source": [
    "From the distribution of the ratings the most rating are above the mean, with a rating of 4.0 and the mean of the data is 3.5 that is the average rating in the data, which means the highest number  of ratings is above average."
   ]
  },
  {
   "cell_type": "markdown",
   "metadata": {},
   "source": [
    "we need to know the number of unique movies that were rated which is 48213"
   ]
  },
  {
   "cell_type": "code",
   "execution_count": 25,
   "metadata": {},
   "outputs": [
    {
     "data": {
      "text/plain": [
       "48213"
      ]
     },
     "execution_count": 25,
     "metadata": {},
     "output_type": "execute_result"
    }
   ],
   "source": [
    "len(train_data.movieId.unique())"
   ]
  },
  {
   "cell_type": "markdown",
   "metadata": {},
   "source": [
    "We also would like to know how many users rated the movies in the table which  is 162541"
   ]
  },
  {
   "cell_type": "code",
   "execution_count": 30,
   "metadata": {},
   "outputs": [
    {
     "data": {
      "text/plain": [
       "162541"
      ]
     },
     "execution_count": 30,
     "metadata": {},
     "output_type": "execute_result"
    }
   ],
   "source": [
    "len(train_data.userId.unique())"
   ]
  },
  {
   "cell_type": "code",
   "execution_count": 31,
   "metadata": {},
   "outputs": [
    {
     "data": {
      "text/html": [
       "<div>\n",
       "<style scoped>\n",
       "    .dataframe tbody tr th:only-of-type {\n",
       "        vertical-align: middle;\n",
       "    }\n",
       "\n",
       "    .dataframe tbody tr th {\n",
       "        vertical-align: top;\n",
       "    }\n",
       "\n",
       "    .dataframe thead th {\n",
       "        text-align: right;\n",
       "    }\n",
       "</style>\n",
       "<table border=\"1\" class=\"dataframe\">\n",
       "  <thead>\n",
       "    <tr style=\"text-align: right;\">\n",
       "      <th></th>\n",
       "      <th>userId</th>\n",
       "      <th>movieId</th>\n",
       "      <th>rating</th>\n",
       "      <th>timestamp</th>\n",
       "    </tr>\n",
       "  </thead>\n",
       "  <tbody>\n",
       "    <tr>\n",
       "      <th>10000036</th>\n",
       "      <td>85805</td>\n",
       "      <td>327</td>\n",
       "      <td>4.0</td>\n",
       "      <td>1479921530</td>\n",
       "    </tr>\n",
       "    <tr>\n",
       "      <th>10000037</th>\n",
       "      <td>139457</td>\n",
       "      <td>1009</td>\n",
       "      <td>4.0</td>\n",
       "      <td>858984862</td>\n",
       "    </tr>\n",
       "  </tbody>\n",
       "</table>\n",
       "</div>"
      ],
      "text/plain": [
       "          userId  movieId  rating   timestamp\n",
       "10000036   85805      327     4.0  1479921530\n",
       "10000037  139457     1009     4.0   858984862"
      ]
     },
     "execution_count": 31,
     "metadata": {},
     "output_type": "execute_result"
    }
   ],
   "source": [
    "train_data.tail(2)"
   ]
  },
  {
   "cell_type": "markdown",
   "metadata": {},
   "source": [
    "Let us see the mean distribution of each movie in the train_data"
   ]
  },
  {
   "cell_type": "code",
   "execution_count": 32,
   "metadata": {},
   "outputs": [],
   "source": [
    "movie_mean_ratings = train_data.groupby('movieId')[['rating']].mean()"
   ]
  },
  {
   "cell_type": "code",
   "execution_count": 34,
   "metadata": {},
   "outputs": [
    {
     "data": {
      "text/html": [
       "<div>\n",
       "<style scoped>\n",
       "    .dataframe tbody tr th:only-of-type {\n",
       "        vertical-align: middle;\n",
       "    }\n",
       "\n",
       "    .dataframe tbody tr th {\n",
       "        vertical-align: top;\n",
       "    }\n",
       "\n",
       "    .dataframe thead th {\n",
       "        text-align: right;\n",
       "    }\n",
       "</style>\n",
       "<table border=\"1\" class=\"dataframe\">\n",
       "  <thead>\n",
       "    <tr style=\"text-align: right;\">\n",
       "      <th></th>\n",
       "      <th>rating</th>\n",
       "    </tr>\n",
       "    <tr>\n",
       "      <th>movieId</th>\n",
       "      <th></th>\n",
       "    </tr>\n",
       "  </thead>\n",
       "  <tbody>\n",
       "    <tr>\n",
       "      <th>1</th>\n",
       "      <td>3.889971</td>\n",
       "    </tr>\n",
       "    <tr>\n",
       "      <th>2</th>\n",
       "      <td>3.263414</td>\n",
       "    </tr>\n",
       "    <tr>\n",
       "      <th>3</th>\n",
       "      <td>3.132325</td>\n",
       "    </tr>\n",
       "    <tr>\n",
       "      <th>4</th>\n",
       "      <td>2.878099</td>\n",
       "    </tr>\n",
       "    <tr>\n",
       "      <th>5</th>\n",
       "      <td>3.059165</td>\n",
       "    </tr>\n",
       "  </tbody>\n",
       "</table>\n",
       "</div>"
      ],
      "text/plain": [
       "           rating\n",
       "movieId          \n",
       "1        3.889971\n",
       "2        3.263414\n",
       "3        3.132325\n",
       "4        2.878099\n",
       "5        3.059165"
      ]
     },
     "execution_count": 34,
     "metadata": {},
     "output_type": "execute_result"
    }
   ],
   "source": [
    "movie_mean_ratings.head()"
   ]
  },
  {
   "cell_type": "markdown",
   "metadata": {},
   "source": [
    "also have a look at the sorted version of the data frame"
   ]
  },
  {
   "cell_type": "code",
   "execution_count": 35,
   "metadata": {},
   "outputs": [],
   "source": [
    "sorted_movie_mean_ratings = movie_mean_ratings['rating'].sort_values(ascending = False)"
   ]
  },
  {
   "cell_type": "markdown",
   "metadata": {},
   "source": [
    "To confirm if each movie has it's own correct mean rating and the correct number of rantings count, let us have a look at each of them close just the two movieId's will be enough"
   ]
  },
  {
   "cell_type": "code",
   "execution_count": 36,
   "metadata": {},
   "outputs": [
    {
     "data": {
      "text/plain": [
       "movieId\n",
       "1    3.889971\n",
       "Name: rating, dtype: float64"
      ]
     },
     "execution_count": 36,
     "metadata": {},
     "output_type": "execute_result"
    }
   ],
   "source": [
    "# looking at mean average of the first movie\n",
    "sorted_movie_mean_ratings[sorted_movie_mean_ratings.index == 1]"
   ]
  },
  {
   "cell_type": "code",
   "execution_count": 38,
   "metadata": {},
   "outputs": [
    {
     "data": {
      "text/plain": [
       "movieId\n",
       "2    3.263414\n",
       "Name: rating, dtype: float64"
      ]
     },
     "execution_count": 38,
     "metadata": {},
     "output_type": "execute_result"
    }
   ],
   "source": [
    "# looking at mean average of the second movie\n",
    "sorted_movie_mean_ratings[sorted_movie_mean_ratings.index == 2]"
   ]
  },
  {
   "cell_type": "markdown",
   "metadata": {},
   "source": [
    "Let us see the count of users who rated that movie regardles of the rating of that movie, so to see the if the movie mean is really affected by the number of users who actually rated that movie"
   ]
  },
  {
   "cell_type": "code",
   "execution_count": 39,
   "metadata": {},
   "outputs": [],
   "source": [
    "number_of_ratings = train_data[train_data['movieId'] == 1]"
   ]
  },
  {
   "cell_type": "code",
   "execution_count": 40,
   "metadata": {},
   "outputs": [
    {
     "data": {
      "text/plain": [
       "23062"
      ]
     },
     "execution_count": 40,
     "metadata": {},
     "output_type": "execute_result"
    }
   ],
   "source": [
    "len(number_of_ratings)"
   ]
  },
  {
   "cell_type": "markdown",
   "metadata": {},
   "source": [
    "The above count shows the number of times the movieId appears in the table and it is indeed the count we see below, in the data frame `movie_rating_count`"
   ]
  },
  {
   "cell_type": "code",
   "execution_count": 43,
   "metadata": {},
   "outputs": [],
   "source": [
    "movie_rating_count = train_data.groupby('movieId')[['rating']].count()"
   ]
  },
  {
   "cell_type": "code",
   "execution_count": 44,
   "metadata": {},
   "outputs": [
    {
     "data": {
      "text/html": [
       "<div>\n",
       "<style scoped>\n",
       "    .dataframe tbody tr th:only-of-type {\n",
       "        vertical-align: middle;\n",
       "    }\n",
       "\n",
       "    .dataframe tbody tr th {\n",
       "        vertical-align: top;\n",
       "    }\n",
       "\n",
       "    .dataframe thead th {\n",
       "        text-align: right;\n",
       "    }\n",
       "</style>\n",
       "<table border=\"1\" class=\"dataframe\">\n",
       "  <thead>\n",
       "    <tr style=\"text-align: right;\">\n",
       "      <th></th>\n",
       "      <th>rating</th>\n",
       "    </tr>\n",
       "    <tr>\n",
       "      <th>movieId</th>\n",
       "      <th></th>\n",
       "    </tr>\n",
       "  </thead>\n",
       "  <tbody>\n",
       "    <tr>\n",
       "      <th>1</th>\n",
       "      <td>23062</td>\n",
       "    </tr>\n",
       "    <tr>\n",
       "      <th>2</th>\n",
       "      <td>9654</td>\n",
       "    </tr>\n",
       "  </tbody>\n",
       "</table>\n",
       "</div>"
      ],
      "text/plain": [
       "         rating\n",
       "movieId        \n",
       "1         23062\n",
       "2          9654"
      ]
     },
     "execution_count": 44,
     "metadata": {},
     "output_type": "execute_result"
    }
   ],
   "source": [
    "movie_rating_count.head(2)"
   ]
  },
  {
   "cell_type": "markdown",
   "metadata": {},
   "source": [
    "Let us create a data frame for both the mean and the count of rating  given to each movie"
   ]
  },
  {
   "cell_type": "code",
   "execution_count": 46,
   "metadata": {},
   "outputs": [],
   "source": [
    "# Create a data frame\n",
    "mean_rating_count = pd.DataFrame()"
   ]
  },
  {
   "cell_type": "code",
   "execution_count": 47,
   "metadata": {},
   "outputs": [],
   "source": [
    "# create a colmn with mean ratings of movies\n",
    "mean_rating_count['mean_rating'] = sorted_movie_mean_ratings"
   ]
  },
  {
   "cell_type": "code",
   "execution_count": 48,
   "metadata": {},
   "outputs": [],
   "source": [
    "# Create a column with the count of movies\n",
    "mean_rating_count['rating_count'] = movie_rating_count"
   ]
  },
  {
   "cell_type": "code",
   "execution_count": 49,
   "metadata": {},
   "outputs": [
    {
     "data": {
      "text/html": [
       "<div>\n",
       "<style scoped>\n",
       "    .dataframe tbody tr th:only-of-type {\n",
       "        vertical-align: middle;\n",
       "    }\n",
       "\n",
       "    .dataframe tbody tr th {\n",
       "        vertical-align: top;\n",
       "    }\n",
       "\n",
       "    .dataframe thead th {\n",
       "        text-align: right;\n",
       "    }\n",
       "</style>\n",
       "<table border=\"1\" class=\"dataframe\">\n",
       "  <thead>\n",
       "    <tr style=\"text-align: right;\">\n",
       "      <th></th>\n",
       "      <th>mean_rating</th>\n",
       "      <th>rating_count</th>\n",
       "    </tr>\n",
       "    <tr>\n",
       "      <th>movieId</th>\n",
       "      <th></th>\n",
       "      <th></th>\n",
       "    </tr>\n",
       "  </thead>\n",
       "  <tbody>\n",
       "    <tr>\n",
       "      <th>186117</th>\n",
       "      <td>5.0</td>\n",
       "      <td>1</td>\n",
       "    </tr>\n",
       "    <tr>\n",
       "      <th>165199</th>\n",
       "      <td>5.0</td>\n",
       "      <td>1</td>\n",
       "    </tr>\n",
       "    <tr>\n",
       "      <th>179607</th>\n",
       "      <td>5.0</td>\n",
       "      <td>1</td>\n",
       "    </tr>\n",
       "    <tr>\n",
       "      <th>120258</th>\n",
       "      <td>5.0</td>\n",
       "      <td>1</td>\n",
       "    </tr>\n",
       "    <tr>\n",
       "      <th>120272</th>\n",
       "      <td>5.0</td>\n",
       "      <td>1</td>\n",
       "    </tr>\n",
       "  </tbody>\n",
       "</table>\n",
       "</div>"
      ],
      "text/plain": [
       "         mean_rating  rating_count\n",
       "movieId                           \n",
       "186117           5.0             1\n",
       "165199           5.0             1\n",
       "179607           5.0             1\n",
       "120258           5.0             1\n",
       "120272           5.0             1"
      ]
     },
     "execution_count": 49,
     "metadata": {},
     "output_type": "execute_result"
    }
   ],
   "source": [
    "mean_rating_count.head()"
   ]
  },
  {
   "cell_type": "code",
   "execution_count": 50,
   "metadata": {},
   "outputs": [
    {
     "data": {
      "text/plain": [
       "(48213, 2)"
      ]
     },
     "execution_count": 50,
     "metadata": {},
     "output_type": "execute_result"
    }
   ],
   "source": [
    "mean_rating_count.shape"
   ]
  },
  {
   "cell_type": "code",
   "execution_count": 51,
   "metadata": {},
   "outputs": [
    {
     "data": {
      "text/html": [
       "<div>\n",
       "<style scoped>\n",
       "    .dataframe tbody tr th:only-of-type {\n",
       "        vertical-align: middle;\n",
       "    }\n",
       "\n",
       "    .dataframe tbody tr th {\n",
       "        vertical-align: top;\n",
       "    }\n",
       "\n",
       "    .dataframe thead th {\n",
       "        text-align: right;\n",
       "    }\n",
       "</style>\n",
       "<table border=\"1\" class=\"dataframe\">\n",
       "  <thead>\n",
       "    <tr style=\"text-align: right;\">\n",
       "      <th></th>\n",
       "      <th>mean_rating</th>\n",
       "      <th>rating_count</th>\n",
       "    </tr>\n",
       "    <tr>\n",
       "      <th>movieId</th>\n",
       "      <th></th>\n",
       "      <th></th>\n",
       "    </tr>\n",
       "  </thead>\n",
       "  <tbody>\n",
       "    <tr>\n",
       "      <th>1</th>\n",
       "      <td>3.889971</td>\n",
       "      <td>23062</td>\n",
       "    </tr>\n",
       "  </tbody>\n",
       "</table>\n",
       "</div>"
      ],
      "text/plain": [
       "         mean_rating  rating_count\n",
       "movieId                           \n",
       "1           3.889971         23062"
      ]
     },
     "execution_count": 51,
     "metadata": {},
     "output_type": "execute_result"
    }
   ],
   "source": [
    "# Checking the correspondence of mean vakue and count value\n",
    "mean_rating_count[mean_rating_count.index == 1]"
   ]
  },
  {
   "cell_type": "code",
   "execution_count": 52,
   "metadata": {},
   "outputs": [
    {
     "data": {
      "text/html": [
       "<div>\n",
       "<style scoped>\n",
       "    .dataframe tbody tr th:only-of-type {\n",
       "        vertical-align: middle;\n",
       "    }\n",
       "\n",
       "    .dataframe tbody tr th {\n",
       "        vertical-align: top;\n",
       "    }\n",
       "\n",
       "    .dataframe thead th {\n",
       "        text-align: right;\n",
       "    }\n",
       "</style>\n",
       "<table border=\"1\" class=\"dataframe\">\n",
       "  <thead>\n",
       "    <tr style=\"text-align: right;\">\n",
       "      <th></th>\n",
       "      <th>mean_rating</th>\n",
       "      <th>rating_count</th>\n",
       "    </tr>\n",
       "    <tr>\n",
       "      <th>movieId</th>\n",
       "      <th></th>\n",
       "      <th></th>\n",
       "    </tr>\n",
       "  </thead>\n",
       "  <tbody>\n",
       "    <tr>\n",
       "      <th>2</th>\n",
       "      <td>3.263414</td>\n",
       "      <td>9654</td>\n",
       "    </tr>\n",
       "  </tbody>\n",
       "</table>\n",
       "</div>"
      ],
      "text/plain": [
       "         mean_rating  rating_count\n",
       "movieId                           \n",
       "2           3.263414          9654"
      ]
     },
     "execution_count": 52,
     "metadata": {},
     "output_type": "execute_result"
    }
   ],
   "source": [
    "# Checking the correspondence of mean vakue and count value\n",
    "mean_rating_count[mean_rating_count.index == 2]"
   ]
  },
  {
   "cell_type": "code",
   "execution_count": 54,
   "metadata": {},
   "outputs": [
    {
     "data": {
      "text/html": [
       "<div>\n",
       "<style scoped>\n",
       "    .dataframe tbody tr th:only-of-type {\n",
       "        vertical-align: middle;\n",
       "    }\n",
       "\n",
       "    .dataframe tbody tr th {\n",
       "        vertical-align: top;\n",
       "    }\n",
       "\n",
       "    .dataframe thead th {\n",
       "        text-align: right;\n",
       "    }\n",
       "</style>\n",
       "<table border=\"1\" class=\"dataframe\">\n",
       "  <thead>\n",
       "    <tr style=\"text-align: right;\">\n",
       "      <th></th>\n",
       "      <th>mean_rating</th>\n",
       "      <th>rating_count</th>\n",
       "    </tr>\n",
       "    <tr>\n",
       "      <th>movieId</th>\n",
       "      <th></th>\n",
       "      <th></th>\n",
       "    </tr>\n",
       "  </thead>\n",
       "  <tbody>\n",
       "    <tr>\n",
       "      <th>186117</th>\n",
       "      <td>5.0</td>\n",
       "      <td>1</td>\n",
       "    </tr>\n",
       "    <tr>\n",
       "      <th>165199</th>\n",
       "      <td>5.0</td>\n",
       "      <td>1</td>\n",
       "    </tr>\n",
       "  </tbody>\n",
       "</table>\n",
       "</div>"
      ],
      "text/plain": [
       "         mean_rating  rating_count\n",
       "movieId                           \n",
       "186117           5.0             1\n",
       "165199           5.0             1"
      ]
     },
     "execution_count": 54,
     "metadata": {},
     "output_type": "execute_result"
    }
   ],
   "source": [
    "mean_rating_count.head(2)"
   ]
  },
  {
   "cell_type": "code",
   "execution_count": null,
   "metadata": {},
   "outputs": [],
   "source": [
    "Let us see the diatribution of the counts of movie ratings "
   ]
  },
  {
   "cell_type": "code",
   "execution_count": 56,
   "metadata": {},
   "outputs": [
    {
     "name": "stdout",
     "output_type": "stream",
     "text": [
      "The mean count of the number of ratings per movie is 207.41372658826458\n"
     ]
    },
    {
     "data": {
      "image/png": "[encoded data removed]",
      "text/plain": [
       "<Figure size 720x648 with 1 Axes>"
      ]
     },
     "metadata": {},
     "output_type": "display_data"
    }
   ],
   "source": [
    "plt.figure(figsize = (10,9))\n",
    "plt.xlabel('Number of counts')\n",
    "plt.ylabel('Number of movies')\n",
    "plt.title('The number of Counts Vs the number of movies')\n",
    "mean_rating_count['rating_count'].hist(bins = 100)\n",
    "print('The mean count of the number of ratings per movie is ' + str(mean_rating_count['rating_count'].mean()))"
   ]
  },
  {
   "cell_type": "markdown",
   "metadata": {},
   "source": [
    "From our distribution most of the movies are rated less than 5000 times this might call on the implicit rating approach to come in place. The average number of count per movie is `207` which means the data has too much outliers. one of wich we saw was `23000` which means most movies are rated by a few people "
   ]
  },
  {
   "cell_type": "code",
   "execution_count": null,
   "metadata": {},
   "outputs": [],
   "source": []
  },
  {
   "cell_type": "markdown",
   "metadata": {},
   "source": [
    "Now to see the ratings of the movies and their count, actually to see what number of movies are rated a certain score. We need to see the distribution of the ratings."
   ]
  },
  {
   "cell_type": "code",
   "execution_count": 57,
   "metadata": {},
   "outputs": [
    {
     "name": "stdout",
     "output_type": "stream",
     "text": [
      "The mean count of the number of ratings per movie is 3.100321797644897\n"
     ]
    },
    {
     "data": {
      "image/png": "[encoded data removed]",
      "text/plain": [
       "<Figure size 720x648 with 1 Axes>"
      ]
     },
     "metadata": {},
     "output_type": "display_data"
    }
   ],
   "source": [
    "plt.figure(figsize = (10,9))\n",
    "plt.xlabel('Ratings')\n",
    "plt.ylabel('Number of movies rated')\n",
    "plt.title('The Rating Vs the number of movies rated')\n",
    "mean_rating_count['mean_rating'].hist(bins = 100)\n",
    "print('The mean count of the number of ratings per movie is ' + str(mean_rating_count['mean_rating'].mean()))"
   ]
  },
  {
   "cell_type": "markdown",
   "metadata": {},
   "source": [
    "most movies are rated below the average of 3.1 and the high peaks from the integer ratings might mean users do not like rating in decimals. Interestingly less than 1000 movies got a rating of 5."
   ]
  },
  {
   "cell_type": "markdown",
   "metadata": {},
   "source": [
    "Now To see which movies have a high rating and a less number of ratings count we will use the joint plot to see exactly which movies have a high rating and a high number of users rating that movie."
   ]
  },
  {
   "cell_type": "code",
   "execution_count": 58,
   "metadata": {},
   "outputs": [
    {
     "data": {
      "text/plain": [
       "<seaborn.axisgrid.JointGrid at 0x25017aae7c0>"
      ]
     },
     "execution_count": 58,
     "metadata": {},
     "output_type": "execute_result"
    },
    {
     "data": {
      "image/png": "[encoded data removed]",
      "text/plain": [
       "<Figure size 432x432 with 3 Axes>"
      ]
     },
     "metadata": {},
     "output_type": "display_data"
    }
   ],
   "source": [
    "sns.jointplot(x = 'mean_rating', y = 'rating_count', data = mean_rating_count)"
   ]
  },
  {
   "cell_type": "markdown",
   "metadata": {},
   "source": [
    "The average count of ratings for each of the movies seems to go higher as the mean rate increases, meaning a movie that is rated good also seems to be rated by many people, while the movies rated bad, seems to also have a low number of users rating that movie."
   ]
  },
  {
   "cell_type": "markdown",
   "metadata": {},
   "source": [
    "## Exploring the tags Data \n",
    "\n",
    "The Tags data has tags which are the users way of describing the movie after they have watched it, which might help another user with getting the same movie using the tag."
   ]
  },
  {
   "cell_type": "code",
   "execution_count": 59,
   "metadata": {},
   "outputs": [
    {
     "data": {
      "text/html": [
       "<div>\n",
       "<style scoped>\n",
       "    .dataframe tbody tr th:only-of-type {\n",
       "        vertical-align: middle;\n",
       "    }\n",
       "\n",
       "    .dataframe tbody tr th {\n",
       "        vertical-align: top;\n",
       "    }\n",
       "\n",
       "    .dataframe thead th {\n",
       "        text-align: right;\n",
       "    }\n",
       "</style>\n",
       "<table border=\"1\" class=\"dataframe\">\n",
       "  <thead>\n",
       "    <tr style=\"text-align: right;\">\n",
       "      <th></th>\n",
       "      <th>userId</th>\n",
       "      <th>movieId</th>\n",
       "      <th>tag</th>\n",
       "      <th>timestamp</th>\n",
       "    </tr>\n",
       "  </thead>\n",
       "  <tbody>\n",
       "    <tr>\n",
       "      <th>0</th>\n",
       "      <td>3</td>\n",
       "      <td>260</td>\n",
       "      <td>classic</td>\n",
       "      <td>1439472355</td>\n",
       "    </tr>\n",
       "    <tr>\n",
       "      <th>1</th>\n",
       "      <td>3</td>\n",
       "      <td>260</td>\n",
       "      <td>sci-fi</td>\n",
       "      <td>1439472256</td>\n",
       "    </tr>\n",
       "    <tr>\n",
       "      <th>2</th>\n",
       "      <td>4</td>\n",
       "      <td>1732</td>\n",
       "      <td>dark comedy</td>\n",
       "      <td>1573943598</td>\n",
       "    </tr>\n",
       "    <tr>\n",
       "      <th>3</th>\n",
       "      <td>4</td>\n",
       "      <td>1732</td>\n",
       "      <td>great dialogue</td>\n",
       "      <td>1573943604</td>\n",
       "    </tr>\n",
       "    <tr>\n",
       "      <th>4</th>\n",
       "      <td>4</td>\n",
       "      <td>7569</td>\n",
       "      <td>so bad it's good</td>\n",
       "      <td>1573943455</td>\n",
       "    </tr>\n",
       "    <tr>\n",
       "      <th>5</th>\n",
       "      <td>4</td>\n",
       "      <td>44665</td>\n",
       "      <td>unreliable narrators</td>\n",
       "      <td>1573943619</td>\n",
       "    </tr>\n",
       "    <tr>\n",
       "      <th>6</th>\n",
       "      <td>4</td>\n",
       "      <td>115569</td>\n",
       "      <td>tense</td>\n",
       "      <td>1573943077</td>\n",
       "    </tr>\n",
       "    <tr>\n",
       "      <th>7</th>\n",
       "      <td>4</td>\n",
       "      <td>115713</td>\n",
       "      <td>artificial intelligence</td>\n",
       "      <td>1573942979</td>\n",
       "    </tr>\n",
       "    <tr>\n",
       "      <th>8</th>\n",
       "      <td>4</td>\n",
       "      <td>115713</td>\n",
       "      <td>philosophical</td>\n",
       "      <td>1573943033</td>\n",
       "    </tr>\n",
       "    <tr>\n",
       "      <th>9</th>\n",
       "      <td>4</td>\n",
       "      <td>115713</td>\n",
       "      <td>tense</td>\n",
       "      <td>1573943042</td>\n",
       "    </tr>\n",
       "  </tbody>\n",
       "</table>\n",
       "</div>"
      ],
      "text/plain": [
       "   userId  movieId                      tag   timestamp\n",
       "0       3      260                  classic  1439472355\n",
       "1       3      260                   sci-fi  1439472256\n",
       "2       4     1732              dark comedy  1573943598\n",
       "3       4     1732           great dialogue  1573943604\n",
       "4       4     7569         so bad it's good  1573943455\n",
       "5       4    44665     unreliable narrators  1573943619\n",
       "6       4   115569                    tense  1573943077\n",
       "7       4   115713  artificial intelligence  1573942979\n",
       "8       4   115713            philosophical  1573943033\n",
       "9       4   115713                    tense  1573943042"
      ]
     },
     "execution_count": 59,
     "metadata": {},
     "output_type": "execute_result"
    }
   ],
   "source": [
    "# get tags\n",
    "tags_data.head(10)"
   ]
  },
  {
   "cell_type": "code",
   "execution_count": 60,
   "metadata": {},
   "outputs": [
    {
     "data": {
      "text/plain": [
       "(1093360, 4)"
      ]
     },
     "execution_count": 60,
     "metadata": {},
     "output_type": "execute_result"
    }
   ],
   "source": [
    "tags_data.shape"
   ]
  },
  {
   "cell_type": "markdown",
   "metadata": {},
   "source": [
    "## Exploring The Genome Tags Data \n",
    "\n",
    "The Tags data has tags which are the users way of describing the movie after they have watched it, which might help another user with getting the same movie using the tag."
   ]
  },
  {
   "cell_type": "code",
   "execution_count": 38,
   "metadata": {},
   "outputs": [
    {
     "data": {
      "text/html": [
       "<div>\n",
       "<style scoped>\n",
       "    .dataframe tbody tr th:only-of-type {\n",
       "        vertical-align: middle;\n",
       "    }\n",
       "\n",
       "    .dataframe tbody tr th {\n",
       "        vertical-align: top;\n",
       "    }\n",
       "\n",
       "    .dataframe thead th {\n",
       "        text-align: right;\n",
       "    }\n",
       "</style>\n",
       "<table border=\"1\" class=\"dataframe\">\n",
       "  <thead>\n",
       "    <tr style=\"text-align: right;\">\n",
       "      <th></th>\n",
       "      <th>tagId</th>\n",
       "      <th>tag</th>\n",
       "    </tr>\n",
       "  </thead>\n",
       "  <tbody>\n",
       "    <tr>\n",
       "      <th>0</th>\n",
       "      <td>1</td>\n",
       "      <td>007</td>\n",
       "    </tr>\n",
       "    <tr>\n",
       "      <th>1</th>\n",
       "      <td>2</td>\n",
       "      <td>007 (series)</td>\n",
       "    </tr>\n",
       "    <tr>\n",
       "      <th>2</th>\n",
       "      <td>3</td>\n",
       "      <td>18th century</td>\n",
       "    </tr>\n",
       "    <tr>\n",
       "      <th>3</th>\n",
       "      <td>4</td>\n",
       "      <td>1920s</td>\n",
       "    </tr>\n",
       "    <tr>\n",
       "      <th>4</th>\n",
       "      <td>5</td>\n",
       "      <td>1930s</td>\n",
       "    </tr>\n",
       "    <tr>\n",
       "      <th>5</th>\n",
       "      <td>6</td>\n",
       "      <td>1950s</td>\n",
       "    </tr>\n",
       "    <tr>\n",
       "      <th>6</th>\n",
       "      <td>7</td>\n",
       "      <td>1960s</td>\n",
       "    </tr>\n",
       "    <tr>\n",
       "      <th>7</th>\n",
       "      <td>8</td>\n",
       "      <td>1970s</td>\n",
       "    </tr>\n",
       "    <tr>\n",
       "      <th>8</th>\n",
       "      <td>9</td>\n",
       "      <td>1980s</td>\n",
       "    </tr>\n",
       "    <tr>\n",
       "      <th>9</th>\n",
       "      <td>10</td>\n",
       "      <td>19th century</td>\n",
       "    </tr>\n",
       "  </tbody>\n",
       "</table>\n",
       "</div>"
      ],
      "text/plain": [
       "   tagId           tag\n",
       "0      1           007\n",
       "1      2  007 (series)\n",
       "2      3  18th century\n",
       "3      4         1920s\n",
       "4      5         1930s\n",
       "5      6         1950s\n",
       "6      7         1960s\n",
       "7      8         1970s\n",
       "8      9         1980s\n",
       "9     10  19th century"
      ]
     },
     "execution_count": 38,
     "metadata": {},
     "output_type": "execute_result"
    }
   ],
   "source": [
    "# genome tags\n",
    "genome_tags_data.head(10)"
   ]
  },
  {
   "cell_type": "code",
   "execution_count": 10,
   "metadata": {},
   "outputs": [
    {
     "data": {
      "text/plain": [
       "(1128, 2)"
      ]
     },
     "execution_count": 10,
     "metadata": {},
     "output_type": "execute_result"
    }
   ],
   "source": [
    "genome_tags_data.shape"
   ]
  },
  {
   "cell_type": "markdown",
   "metadata": {},
   "source": [
    "## Exploring the Genome scores Data \n",
    "\n",
    "The Tags data has tags which are the users way of describing the movie after they have watched it, which might help another user with getting the same movie using the tag."
   ]
  },
  {
   "cell_type": "code",
   "execution_count": 61,
   "metadata": {},
   "outputs": [
    {
     "data": {
      "text/html": [
       "<div>\n",
       "<style scoped>\n",
       "    .dataframe tbody tr th:only-of-type {\n",
       "        vertical-align: middle;\n",
       "    }\n",
       "\n",
       "    .dataframe tbody tr th {\n",
       "        vertical-align: top;\n",
       "    }\n",
       "\n",
       "    .dataframe thead th {\n",
       "        text-align: right;\n",
       "    }\n",
       "</style>\n",
       "<table border=\"1\" class=\"dataframe\">\n",
       "  <thead>\n",
       "    <tr style=\"text-align: right;\">\n",
       "      <th></th>\n",
       "      <th>movieId</th>\n",
       "      <th>tagId</th>\n",
       "      <th>relevance</th>\n",
       "    </tr>\n",
       "  </thead>\n",
       "  <tbody>\n",
       "    <tr>\n",
       "      <th>0</th>\n",
       "      <td>1</td>\n",
       "      <td>1</td>\n",
       "      <td>0.02875</td>\n",
       "    </tr>\n",
       "    <tr>\n",
       "      <th>1</th>\n",
       "      <td>1</td>\n",
       "      <td>2</td>\n",
       "      <td>0.02375</td>\n",
       "    </tr>\n",
       "    <tr>\n",
       "      <th>2</th>\n",
       "      <td>1</td>\n",
       "      <td>3</td>\n",
       "      <td>0.06250</td>\n",
       "    </tr>\n",
       "    <tr>\n",
       "      <th>3</th>\n",
       "      <td>1</td>\n",
       "      <td>4</td>\n",
       "      <td>0.07575</td>\n",
       "    </tr>\n",
       "    <tr>\n",
       "      <th>4</th>\n",
       "      <td>1</td>\n",
       "      <td>5</td>\n",
       "      <td>0.14075</td>\n",
       "    </tr>\n",
       "  </tbody>\n",
       "</table>\n",
       "</div>"
      ],
      "text/plain": [
       "   movieId  tagId  relevance\n",
       "0        1      1    0.02875\n",
       "1        1      2    0.02375\n",
       "2        1      3    0.06250\n",
       "3        1      4    0.07575\n",
       "4        1      5    0.14075"
      ]
     },
     "execution_count": 61,
     "metadata": {},
     "output_type": "execute_result"
    }
   ],
   "source": [
    "# get genome scores\n",
    "genome_scores_data.head()"
   ]
  },
  {
   "cell_type": "code",
   "execution_count": 62,
   "metadata": {},
   "outputs": [
    {
     "data": {
      "text/plain": [
       "(15584448, 3)"
      ]
     },
     "execution_count": 62,
     "metadata": {},
     "output_type": "execute_result"
    }
   ],
   "source": [
    "genome_scores_data.shape"
   ]
  },
  {
   "cell_type": "code",
   "execution_count": 64,
   "metadata": {},
   "outputs": [
    {
     "data": {
      "text/plain": [
       "13816"
      ]
     },
     "execution_count": 64,
     "metadata": {},
     "output_type": "execute_result"
    }
   ],
   "source": [
    "# The number of unique movies in the table\n",
    "len(genome_scores_data['movieId'].unique())"
   ]
  },
  {
   "cell_type": "code",
   "execution_count": 138,
   "metadata": {},
   "outputs": [
    {
     "data": {
      "text/plain": [
       "1128"
      ]
     },
     "execution_count": 138,
     "metadata": {},
     "output_type": "execute_result"
    }
   ],
   "source": [
    "#number of unique tags in the table\n",
    "len(genome_scores_data['tagId'].unique())"
   ]
  },
  {
   "cell_type": "code",
   "execution_count": 32,
   "metadata": {},
   "outputs": [
    {
     "data": {
      "text/html": [
       "<div>\n",
       "<style scoped>\n",
       "    .dataframe tbody tr th:only-of-type {\n",
       "        vertical-align: middle;\n",
       "    }\n",
       "\n",
       "    .dataframe tbody tr th {\n",
       "        vertical-align: top;\n",
       "    }\n",
       "\n",
       "    .dataframe thead th {\n",
       "        text-align: right;\n",
       "    }\n",
       "</style>\n",
       "<table border=\"1\" class=\"dataframe\">\n",
       "  <thead>\n",
       "    <tr style=\"text-align: right;\">\n",
       "      <th></th>\n",
       "      <th>userId</th>\n",
       "      <th>movieId</th>\n",
       "    </tr>\n",
       "  </thead>\n",
       "  <tbody>\n",
       "    <tr>\n",
       "      <th>0</th>\n",
       "      <td>1</td>\n",
       "      <td>2011</td>\n",
       "    </tr>\n",
       "    <tr>\n",
       "      <th>1</th>\n",
       "      <td>1</td>\n",
       "      <td>4144</td>\n",
       "    </tr>\n",
       "    <tr>\n",
       "      <th>2</th>\n",
       "      <td>1</td>\n",
       "      <td>5767</td>\n",
       "    </tr>\n",
       "    <tr>\n",
       "      <th>3</th>\n",
       "      <td>1</td>\n",
       "      <td>6711</td>\n",
       "    </tr>\n",
       "    <tr>\n",
       "      <th>4</th>\n",
       "      <td>1</td>\n",
       "      <td>7318</td>\n",
       "    </tr>\n",
       "  </tbody>\n",
       "</table>\n",
       "</div>"
      ],
      "text/plain": [
       "   userId  movieId\n",
       "0       1     2011\n",
       "1       1     4144\n",
       "2       1     5767\n",
       "3       1     6711\n",
       "4       1     7318"
      ]
     },
     "execution_count": 32,
     "metadata": {},
     "output_type": "execute_result"
    }
   ],
   "source": [
    "test_data.head()"
   ]
  },
  {
   "cell_type": "code",
   "execution_count": 11,
   "metadata": {},
   "outputs": [
    {
     "data": {
      "text/plain": [
       "(5000019, 2)"
      ]
     },
     "execution_count": 11,
     "metadata": {},
     "output_type": "execute_result"
    }
   ],
   "source": [
    "test_data.shape"
   ]
  },
  {
   "cell_type": "code",
   "execution_count": 67,
   "metadata": {},
   "outputs": [
    {
     "data": {
      "text/plain": [
       "39643"
      ]
     },
     "execution_count": 67,
     "metadata": {},
     "output_type": "execute_result"
    }
   ],
   "source": [
    "len(test_data['movieId'].unique())"
   ]
  },
  {
   "cell_type": "markdown",
   "metadata": {},
   "source": [
    "It appears we will be using the text data to  predict for the content based model and we will be using the numerical data for the collaborative based method of prediction.\n",
    "\n",
    "this means the tables `imdb_data` and the `movies_data` table will be used for the formation of the training data set of the model, merge them to create a data that is concistant accross all movies\n",
    "\n",
    "for the collaborative based model we can use the "
   ]
  },
  {
   "cell_type": "markdown",
   "metadata": {},
   "source": [
    "## Collaborative Data analysis"
   ]
  },
  {
   "cell_type": "markdown",
   "metadata": {},
   "source": [
    "<a id=\"four\"></a>\n",
    "## 4. Data Preprocessing\n",
    "<a class=\"anchor\" id=\"1.1\"></a>\n",
    "<a href=#cont>Back to Table of Contents</a>\n",
    "\n",
    "Before we can do feature Engineering, Exploratory Data Analysis (EDA) in section 3, showed we need to ensure that our data is in a clean format that can actually be used. Since our data is in different formats and is also  used to make different models, both collaborative and content based models. Especially the Name of the movies are in both languages and if we are to recommend a movie a language in which it is \n",
    "\n",
    "Since we will create the content based model using the text data let us extract and vectorise our data. we will be removing the characters we will not be needing for the training of our model.\n",
    "\n",
    " - strokes .\n",
    " - $ .\n",
    "\n",
    "\n",
    "For the collaborative based we will be using the train_data table which contains the rating, userId and MovieId for every movie that was rated.\n",
    "\n",
    "\n"
   ]
  },
  {
   "cell_type": "markdown",
   "metadata": {},
   "source": [
    "## Content based Preprocessing"
   ]
  },
  {
   "cell_type": "code",
   "execution_count": 71,
   "metadata": {},
   "outputs": [
    {
     "data": {
      "text/html": [
       "<div>\n",
       "<style scoped>\n",
       "    .dataframe tbody tr th:only-of-type {\n",
       "        vertical-align: middle;\n",
       "    }\n",
       "\n",
       "    .dataframe tbody tr th {\n",
       "        vertical-align: top;\n",
       "    }\n",
       "\n",
       "    .dataframe thead th {\n",
       "        text-align: right;\n",
       "    }\n",
       "</style>\n",
       "<table border=\"1\" class=\"dataframe\">\n",
       "  <thead>\n",
       "    <tr style=\"text-align: right;\">\n",
       "      <th></th>\n",
       "      <th>movieId</th>\n",
       "      <th>title_cast</th>\n",
       "      <th>director</th>\n",
       "      <th>runtime</th>\n",
       "      <th>budget</th>\n",
       "      <th>plot_keywords</th>\n",
       "    </tr>\n",
       "  </thead>\n",
       "  <tbody>\n",
       "    <tr>\n",
       "      <th>0</th>\n",
       "      <td>1</td>\n",
       "      <td>tom hanks|tim allen|don rickles|jim varney|wal...</td>\n",
       "      <td>john lasseter</td>\n",
       "      <td>81.0</td>\n",
       "      <td>$30,000,000</td>\n",
       "      <td>toy|rivalry|cowboy|cgi animation</td>\n",
       "    </tr>\n",
       "    <tr>\n",
       "      <th>1</th>\n",
       "      <td>2</td>\n",
       "      <td>robin williams|jonathan hyde|kirsten dunst|bra...</td>\n",
       "      <td>jonathan hensleigh</td>\n",
       "      <td>104.0</td>\n",
       "      <td>$65,000,000</td>\n",
       "      <td>board game|adventurer|fight|game</td>\n",
       "    </tr>\n",
       "    <tr>\n",
       "      <th>2</th>\n",
       "      <td>3</td>\n",
       "      <td>walter matthau|jack lemmon|sophia loren|ann-ma...</td>\n",
       "      <td>mark steven johnson</td>\n",
       "      <td>101.0</td>\n",
       "      <td>$25,000,000</td>\n",
       "      <td>boat|lake|neighbor|rivalry</td>\n",
       "    </tr>\n",
       "    <tr>\n",
       "      <th>3</th>\n",
       "      <td>4</td>\n",
       "      <td>whitney houston|angela bassett|loretta devine|...</td>\n",
       "      <td>terry mcmillan</td>\n",
       "      <td>124.0</td>\n",
       "      <td>$16,000,000</td>\n",
       "      <td>black american|husband wife relationship|betra...</td>\n",
       "    </tr>\n",
       "    <tr>\n",
       "      <th>4</th>\n",
       "      <td>5</td>\n",
       "      <td>steve martin|diane keaton|martin short|kimberl...</td>\n",
       "      <td>albert hackett</td>\n",
       "      <td>106.0</td>\n",
       "      <td>$30,000,000</td>\n",
       "      <td>fatherhood|doberman|dog|mansion</td>\n",
       "    </tr>\n",
       "  </tbody>\n",
       "</table>\n",
       "</div>"
      ],
      "text/plain": [
       "   movieId                                         title_cast  \\\n",
       "0        1  tom hanks|tim allen|don rickles|jim varney|wal...   \n",
       "1        2  robin williams|jonathan hyde|kirsten dunst|bra...   \n",
       "2        3  walter matthau|jack lemmon|sophia loren|ann-ma...   \n",
       "3        4  whitney houston|angela bassett|loretta devine|...   \n",
       "4        5  steve martin|diane keaton|martin short|kimberl...   \n",
       "\n",
       "              director  runtime       budget  \\\n",
       "0        john lasseter     81.0  $30,000,000   \n",
       "1   jonathan hensleigh    104.0  $65,000,000   \n",
       "2  mark steven johnson    101.0  $25,000,000   \n",
       "3       terry mcmillan    124.0  $16,000,000   \n",
       "4       albert hackett    106.0  $30,000,000   \n",
       "\n",
       "                                       plot_keywords  \n",
       "0                   toy|rivalry|cowboy|cgi animation  \n",
       "1                   board game|adventurer|fight|game  \n",
       "2                         boat|lake|neighbor|rivalry  \n",
       "3  black american|husband wife relationship|betra...  \n",
       "4                    fatherhood|doberman|dog|mansion  "
      ]
     },
     "execution_count": 71,
     "metadata": {},
     "output_type": "execute_result"
    }
   ],
   "source": [
    "imdb_data.head()"
   ]
  },
  {
   "cell_type": "markdown",
   "metadata": {},
   "source": [
    "Lowering of the columns with text data to make all the words the same meaning and `Bad` is no different from `bad`"
   ]
  },
  {
   "cell_type": "code",
   "execution_count": 69,
   "metadata": {},
   "outputs": [],
   "source": [
    "imdb_data['title_cast'] = imdb_data['title_cast'].str.lower()\n",
    "imdb_data['director'] = imdb_data['director'].str.lower()\n",
    "imdb_data['plot_keywords'] = imdb_data['plot_keywords'].str.lower()"
   ]
  },
  {
   "cell_type": "code",
   "execution_count": 70,
   "metadata": {},
   "outputs": [
    {
     "data": {
      "text/html": [
       "<div>\n",
       "<style scoped>\n",
       "    .dataframe tbody tr th:only-of-type {\n",
       "        vertical-align: middle;\n",
       "    }\n",
       "\n",
       "    .dataframe tbody tr th {\n",
       "        vertical-align: top;\n",
       "    }\n",
       "\n",
       "    .dataframe thead th {\n",
       "        text-align: right;\n",
       "    }\n",
       "</style>\n",
       "<table border=\"1\" class=\"dataframe\">\n",
       "  <thead>\n",
       "    <tr style=\"text-align: right;\">\n",
       "      <th></th>\n",
       "      <th>movieId</th>\n",
       "      <th>title</th>\n",
       "      <th>genres</th>\n",
       "      <th>clean_titles</th>\n",
       "      <th>year</th>\n",
       "    </tr>\n",
       "  </thead>\n",
       "  <tbody>\n",
       "    <tr>\n",
       "      <th>0</th>\n",
       "      <td>1</td>\n",
       "      <td>Toy Story (1995)</td>\n",
       "      <td>Adventure|Animation|Children|Comedy|Fantasy</td>\n",
       "      <td>Toy Story</td>\n",
       "      <td>1995</td>\n",
       "    </tr>\n",
       "    <tr>\n",
       "      <th>1</th>\n",
       "      <td>2</td>\n",
       "      <td>Jumanji (1995)</td>\n",
       "      <td>Adventure|Children|Fantasy</td>\n",
       "      <td>Jumanji</td>\n",
       "      <td>1995</td>\n",
       "    </tr>\n",
       "  </tbody>\n",
       "</table>\n",
       "</div>"
      ],
      "text/plain": [
       "   movieId             title                                       genres  \\\n",
       "0        1  Toy Story (1995)  Adventure|Animation|Children|Comedy|Fantasy   \n",
       "1        2    Jumanji (1995)                   Adventure|Children|Fantasy   \n",
       "\n",
       "  clean_titles  year  \n",
       "0    Toy Story  1995  \n",
       "1      Jumanji  1995  "
      ]
     },
     "execution_count": 70,
     "metadata": {},
     "output_type": "execute_result"
    }
   ],
   "source": [
    "movies_data.head(2)"
   ]
  },
  {
   "cell_type": "code",
   "execution_count": 130,
   "metadata": {},
   "outputs": [
    {
     "data": {
      "text/plain": [
       "(62423, 5)"
      ]
     },
     "execution_count": 130,
     "metadata": {},
     "output_type": "execute_result"
    }
   ],
   "source": [
    "movies_data.shape"
   ]
  },
  {
   "cell_type": "code",
   "execution_count": 131,
   "metadata": {},
   "outputs": [
    {
     "data": {
      "text/plain": [
       "(27278, 6)"
      ]
     },
     "execution_count": 131,
     "metadata": {},
     "output_type": "execute_result"
    }
   ],
   "source": [
    "imdb_data.shape"
   ]
  },
  {
   "cell_type": "code",
   "execution_count": 72,
   "metadata": {},
   "outputs": [],
   "source": [
    "movies_data['title'] = movies_data['title'].str.lower()\n",
    "movies_data['genres'] = movies_data['genres'].str.lower()\n",
    "movies_data['clean_titles'] = movies_data['clean_titles'].str.lower()"
   ]
  },
  {
   "cell_type": "code",
   "execution_count": 73,
   "metadata": {},
   "outputs": [],
   "source": [
    "new_movies = pd.merge( movies_data,imdb_data, how = 'left', on = 'movieId')"
   ]
  },
  {
   "cell_type": "code",
   "execution_count": 74,
   "metadata": {},
   "outputs": [
    {
     "data": {
      "text/html": [
       "<div>\n",
       "<style scoped>\n",
       "    .dataframe tbody tr th:only-of-type {\n",
       "        vertical-align: middle;\n",
       "    }\n",
       "\n",
       "    .dataframe tbody tr th {\n",
       "        vertical-align: top;\n",
       "    }\n",
       "\n",
       "    .dataframe thead th {\n",
       "        text-align: right;\n",
       "    }\n",
       "</style>\n",
       "<table border=\"1\" class=\"dataframe\">\n",
       "  <thead>\n",
       "    <tr style=\"text-align: right;\">\n",
       "      <th></th>\n",
       "      <th>movieId</th>\n",
       "      <th>title</th>\n",
       "      <th>genres</th>\n",
       "      <th>clean_titles</th>\n",
       "      <th>year</th>\n",
       "      <th>title_cast</th>\n",
       "      <th>director</th>\n",
       "      <th>runtime</th>\n",
       "      <th>budget</th>\n",
       "      <th>plot_keywords</th>\n",
       "    </tr>\n",
       "  </thead>\n",
       "  <tbody>\n",
       "    <tr>\n",
       "      <th>0</th>\n",
       "      <td>1</td>\n",
       "      <td>toy story (1995)</td>\n",
       "      <td>adventure|animation|children|comedy|fantasy</td>\n",
       "      <td>toy story</td>\n",
       "      <td>1995</td>\n",
       "      <td>tom hanks|tim allen|don rickles|jim varney|wal...</td>\n",
       "      <td>john lasseter</td>\n",
       "      <td>81.0</td>\n",
       "      <td>$30,000,000</td>\n",
       "      <td>toy|rivalry|cowboy|cgi animation</td>\n",
       "    </tr>\n",
       "    <tr>\n",
       "      <th>1</th>\n",
       "      <td>2</td>\n",
       "      <td>jumanji (1995)</td>\n",
       "      <td>adventure|children|fantasy</td>\n",
       "      <td>jumanji</td>\n",
       "      <td>1995</td>\n",
       "      <td>robin williams|jonathan hyde|kirsten dunst|bra...</td>\n",
       "      <td>jonathan hensleigh</td>\n",
       "      <td>104.0</td>\n",
       "      <td>$65,000,000</td>\n",
       "      <td>board game|adventurer|fight|game</td>\n",
       "    </tr>\n",
       "    <tr>\n",
       "      <th>2</th>\n",
       "      <td>3</td>\n",
       "      <td>grumpier old men (1995)</td>\n",
       "      <td>comedy|romance</td>\n",
       "      <td>grumpier old men</td>\n",
       "      <td>1995</td>\n",
       "      <td>walter matthau|jack lemmon|sophia loren|ann-ma...</td>\n",
       "      <td>mark steven johnson</td>\n",
       "      <td>101.0</td>\n",
       "      <td>$25,000,000</td>\n",
       "      <td>boat|lake|neighbor|rivalry</td>\n",
       "    </tr>\n",
       "    <tr>\n",
       "      <th>3</th>\n",
       "      <td>4</td>\n",
       "      <td>waiting to exhale (1995)</td>\n",
       "      <td>comedy|drama|romance</td>\n",
       "      <td>waiting to exhale</td>\n",
       "      <td>1995</td>\n",
       "      <td>whitney houston|angela bassett|loretta devine|...</td>\n",
       "      <td>terry mcmillan</td>\n",
       "      <td>124.0</td>\n",
       "      <td>$16,000,000</td>\n",
       "      <td>black american|husband wife relationship|betra...</td>\n",
       "    </tr>\n",
       "    <tr>\n",
       "      <th>4</th>\n",
       "      <td>5</td>\n",
       "      <td>father of the bride part ii (1995)</td>\n",
       "      <td>comedy</td>\n",
       "      <td>father of the bride part ii</td>\n",
       "      <td>1995</td>\n",
       "      <td>steve martin|diane keaton|martin short|kimberl...</td>\n",
       "      <td>albert hackett</td>\n",
       "      <td>106.0</td>\n",
       "      <td>$30,000,000</td>\n",
       "      <td>fatherhood|doberman|dog|mansion</td>\n",
       "    </tr>\n",
       "  </tbody>\n",
       "</table>\n",
       "</div>"
      ],
      "text/plain": [
       "   movieId                               title  \\\n",
       "0        1                    toy story (1995)   \n",
       "1        2                      jumanji (1995)   \n",
       "2        3             grumpier old men (1995)   \n",
       "3        4            waiting to exhale (1995)   \n",
       "4        5  father of the bride part ii (1995)   \n",
       "\n",
       "                                        genres                 clean_titles  \\\n",
       "0  adventure|animation|children|comedy|fantasy                    toy story   \n",
       "1                   adventure|children|fantasy                      jumanji   \n",
       "2                               comedy|romance             grumpier old men   \n",
       "3                         comedy|drama|romance            waiting to exhale   \n",
       "4                                       comedy  father of the bride part ii   \n",
       "\n",
       "   year                                         title_cast  \\\n",
       "0  1995  tom hanks|tim allen|don rickles|jim varney|wal...   \n",
       "1  1995  robin williams|jonathan hyde|kirsten dunst|bra...   \n",
       "2  1995  walter matthau|jack lemmon|sophia loren|ann-ma...   \n",
       "3  1995  whitney houston|angela bassett|loretta devine|...   \n",
       "4  1995  steve martin|diane keaton|martin short|kimberl...   \n",
       "\n",
       "              director  runtime       budget  \\\n",
       "0        john lasseter     81.0  $30,000,000   \n",
       "1   jonathan hensleigh    104.0  $65,000,000   \n",
       "2  mark steven johnson    101.0  $25,000,000   \n",
       "3       terry mcmillan    124.0  $16,000,000   \n",
       "4       albert hackett    106.0  $30,000,000   \n",
       "\n",
       "                                       plot_keywords  \n",
       "0                   toy|rivalry|cowboy|cgi animation  \n",
       "1                   board game|adventurer|fight|game  \n",
       "2                         boat|lake|neighbor|rivalry  \n",
       "3  black american|husband wife relationship|betra...  \n",
       "4                    fatherhood|doberman|dog|mansion  "
      ]
     },
     "execution_count": 74,
     "metadata": {},
     "output_type": "execute_result"
    }
   ],
   "source": [
    "new_movies.head()"
   ]
  },
  {
   "cell_type": "code",
   "execution_count": 75,
   "metadata": {},
   "outputs": [
    {
     "data": {
      "text/plain": [
       "(62423, 10)"
      ]
     },
     "execution_count": 75,
     "metadata": {},
     "output_type": "execute_result"
    }
   ],
   "source": [
    "new_movies.shape"
   ]
  },
  {
   "cell_type": "code",
   "execution_count": 76,
   "metadata": {},
   "outputs": [],
   "source": [
    "# spliting the cast names for each cast member\n",
    "casts = [i.split('|') if i is not np.nan else np.nan for i in new_movies['title_cast'] ]"
   ]
  },
  {
   "cell_type": "code",
   "execution_count": 77,
   "metadata": {},
   "outputs": [],
   "source": [
    "# taking the first three actors of the data \n",
    "three_casts = [i[:3] if i is not np.nan else np.nan for i in  casts]"
   ]
  },
  {
   "cell_type": "code",
   "execution_count": 78,
   "metadata": {},
   "outputs": [],
   "source": [
    "# taking each of the the cast names and removing the space between them to not make mistakes or decrese them\n",
    "name_array = []\n",
    "for array in three_casts:\n",
    "    if array is not np.nan:\n",
    "        new_names = [i.replace(\" \", \"\") if i is not np.nan else np.nan for i in array]\n",
    "        name_array.append(new_names)\n",
    "    else:\n",
    "        name_array.append(np.nan)\n",
    "        "
   ]
  },
  {
   "cell_type": "code",
   "execution_count": 79,
   "metadata": {},
   "outputs": [],
   "source": [
    "# Joining each of the three characters to make one string\n",
    "cast_join = [\" \".join(i) if i is not np.nan else np.nan for i in name_array]"
   ]
  },
  {
   "cell_type": "code",
   "execution_count": 80,
   "metadata": {},
   "outputs": [
    {
     "data": {
      "text/plain": [
       "62423"
      ]
     },
     "execution_count": 80,
     "metadata": {},
     "output_type": "execute_result"
    }
   ],
   "source": [
    "len(cast_join)"
   ]
  },
  {
   "cell_type": "code",
   "execution_count": 85,
   "metadata": {},
   "outputs": [],
   "source": [
    "# creates a column for the new created cast with only three cast members and a director\n",
    "new_movies['title_cast_short'] = cast_join"
   ]
  },
  {
   "cell_type": "code",
   "execution_count": 87,
   "metadata": {},
   "outputs": [],
   "source": [
    "# replacing the stroke of each genre and replacing it with a space\n",
    "new_movies['genres'] = new_movies['genres'].str.replace('|', \" \")\n",
    "\n",
    "# removing space from each direcors name\n",
    "new_movies['director'] = new_movies['director'].str.replace(' ', \"\")"
   ]
  },
  {
   "cell_type": "code",
   "execution_count": 82,
   "metadata": {},
   "outputs": [],
   "source": [
    "# replacing the stroke of each plot keyword and replacing it with a space\n",
    "new_movies['plot_keywords'] = new_movies['plot_keywords'].str.replace('|', \" \")"
   ]
  },
  {
   "cell_type": "code",
   "execution_count": 83,
   "metadata": {},
   "outputs": [],
   "source": [
    "new_movies['title'] = new_movies['title'].str.lower()"
   ]
  },
  {
   "cell_type": "code",
   "execution_count": 88,
   "metadata": {},
   "outputs": [
    {
     "data": {
      "text/html": [
       "<div>\n",
       "<style scoped>\n",
       "    .dataframe tbody tr th:only-of-type {\n",
       "        vertical-align: middle;\n",
       "    }\n",
       "\n",
       "    .dataframe tbody tr th {\n",
       "        vertical-align: top;\n",
       "    }\n",
       "\n",
       "    .dataframe thead th {\n",
       "        text-align: right;\n",
       "    }\n",
       "</style>\n",
       "<table border=\"1\" class=\"dataframe\">\n",
       "  <thead>\n",
       "    <tr style=\"text-align: right;\">\n",
       "      <th></th>\n",
       "      <th>movieId</th>\n",
       "      <th>title</th>\n",
       "      <th>genres</th>\n",
       "      <th>clean_titles</th>\n",
       "      <th>year</th>\n",
       "      <th>title_cast</th>\n",
       "      <th>director</th>\n",
       "      <th>runtime</th>\n",
       "      <th>budget</th>\n",
       "      <th>plot_keywords</th>\n",
       "      <th>title_cast_short</th>\n",
       "    </tr>\n",
       "  </thead>\n",
       "  <tbody>\n",
       "    <tr>\n",
       "      <th>0</th>\n",
       "      <td>1</td>\n",
       "      <td>toy story (1995)</td>\n",
       "      <td>adventure animation children comedy fantasy</td>\n",
       "      <td>toy story</td>\n",
       "      <td>1995</td>\n",
       "      <td>tom hanks|tim allen|don rickles|jim varney|wal...</td>\n",
       "      <td>johnlasseter</td>\n",
       "      <td>81.0</td>\n",
       "      <td>$30,000,000</td>\n",
       "      <td>toy rivalry cowboy cgi animation</td>\n",
       "      <td>tomhanks timallen donrickles</td>\n",
       "    </tr>\n",
       "    <tr>\n",
       "      <th>1</th>\n",
       "      <td>2</td>\n",
       "      <td>jumanji (1995)</td>\n",
       "      <td>adventure children fantasy</td>\n",
       "      <td>jumanji</td>\n",
       "      <td>1995</td>\n",
       "      <td>robin williams|jonathan hyde|kirsten dunst|bra...</td>\n",
       "      <td>jonathanhensleigh</td>\n",
       "      <td>104.0</td>\n",
       "      <td>$65,000,000</td>\n",
       "      <td>board game adventurer fight game</td>\n",
       "      <td>robinwilliams jonathanhyde kirstendunst</td>\n",
       "    </tr>\n",
       "    <tr>\n",
       "      <th>2</th>\n",
       "      <td>3</td>\n",
       "      <td>grumpier old men (1995)</td>\n",
       "      <td>comedy romance</td>\n",
       "      <td>grumpier old men</td>\n",
       "      <td>1995</td>\n",
       "      <td>walter matthau|jack lemmon|sophia loren|ann-ma...</td>\n",
       "      <td>markstevenjohnson</td>\n",
       "      <td>101.0</td>\n",
       "      <td>$25,000,000</td>\n",
       "      <td>boat lake neighbor rivalry</td>\n",
       "      <td>waltermatthau jacklemmon sophialoren</td>\n",
       "    </tr>\n",
       "    <tr>\n",
       "      <th>3</th>\n",
       "      <td>4</td>\n",
       "      <td>waiting to exhale (1995)</td>\n",
       "      <td>comedy drama romance</td>\n",
       "      <td>waiting to exhale</td>\n",
       "      <td>1995</td>\n",
       "      <td>whitney houston|angela bassett|loretta devine|...</td>\n",
       "      <td>terrymcmillan</td>\n",
       "      <td>124.0</td>\n",
       "      <td>$16,000,000</td>\n",
       "      <td>black american husband wife relationship betra...</td>\n",
       "      <td>whitneyhouston angelabassett lorettadevine</td>\n",
       "    </tr>\n",
       "    <tr>\n",
       "      <th>4</th>\n",
       "      <td>5</td>\n",
       "      <td>father of the bride part ii (1995)</td>\n",
       "      <td>comedy</td>\n",
       "      <td>father of the bride part ii</td>\n",
       "      <td>1995</td>\n",
       "      <td>steve martin|diane keaton|martin short|kimberl...</td>\n",
       "      <td>alberthackett</td>\n",
       "      <td>106.0</td>\n",
       "      <td>$30,000,000</td>\n",
       "      <td>fatherhood doberman dog mansion</td>\n",
       "      <td>stevemartin dianekeaton martinshort</td>\n",
       "    </tr>\n",
       "  </tbody>\n",
       "</table>\n",
       "</div>"
      ],
      "text/plain": [
       "   movieId                               title  \\\n",
       "0        1                    toy story (1995)   \n",
       "1        2                      jumanji (1995)   \n",
       "2        3             grumpier old men (1995)   \n",
       "3        4            waiting to exhale (1995)   \n",
       "4        5  father of the bride part ii (1995)   \n",
       "\n",
       "                                        genres                 clean_titles  \\\n",
       "0  adventure animation children comedy fantasy                    toy story   \n",
       "1                   adventure children fantasy                      jumanji   \n",
       "2                               comedy romance             grumpier old men   \n",
       "3                         comedy drama romance            waiting to exhale   \n",
       "4                                       comedy  father of the bride part ii   \n",
       "\n",
       "   year                                         title_cast           director  \\\n",
       "0  1995  tom hanks|tim allen|don rickles|jim varney|wal...       johnlasseter   \n",
       "1  1995  robin williams|jonathan hyde|kirsten dunst|bra...  jonathanhensleigh   \n",
       "2  1995  walter matthau|jack lemmon|sophia loren|ann-ma...  markstevenjohnson   \n",
       "3  1995  whitney houston|angela bassett|loretta devine|...      terrymcmillan   \n",
       "4  1995  steve martin|diane keaton|martin short|kimberl...      alberthackett   \n",
       "\n",
       "   runtime       budget                                      plot_keywords  \\\n",
       "0     81.0  $30,000,000                   toy rivalry cowboy cgi animation   \n",
       "1    104.0  $65,000,000                   board game adventurer fight game   \n",
       "2    101.0  $25,000,000                         boat lake neighbor rivalry   \n",
       "3    124.0  $16,000,000  black american husband wife relationship betra...   \n",
       "4    106.0  $30,000,000                    fatherhood doberman dog mansion   \n",
       "\n",
       "                             title_cast_short  \n",
       "0                tomhanks timallen donrickles  \n",
       "1     robinwilliams jonathanhyde kirstendunst  \n",
       "2        waltermatthau jacklemmon sophialoren  \n",
       "3  whitneyhouston angelabassett lorettadevine  \n",
       "4         stevemartin dianekeaton martinshort  "
      ]
     },
     "execution_count": 88,
     "metadata": {},
     "output_type": "execute_result"
    }
   ],
   "source": [
    "new_movies.head()"
   ]
  },
  {
   "cell_type": "markdown",
   "metadata": {},
   "source": [
    "Choosing the main features we gonna use for training our model"
   ]
  },
  {
   "cell_type": "code",
   "execution_count": 89,
   "metadata": {},
   "outputs": [],
   "source": [
    "features = ['movieId', 'title' ,'genres', 'director', 'plot_keywords', 'title_cast_short']"
   ]
  },
  {
   "cell_type": "code",
   "execution_count": 90,
   "metadata": {},
   "outputs": [],
   "source": [
    "training_data = new_movies[features]"
   ]
  },
  {
   "cell_type": "code",
   "execution_count": 91,
   "metadata": {},
   "outputs": [
    {
     "data": {
      "text/html": [
       "<div>\n",
       "<style scoped>\n",
       "    .dataframe tbody tr th:only-of-type {\n",
       "        vertical-align: middle;\n",
       "    }\n",
       "\n",
       "    .dataframe tbody tr th {\n",
       "        vertical-align: top;\n",
       "    }\n",
       "\n",
       "    .dataframe thead th {\n",
       "        text-align: right;\n",
       "    }\n",
       "</style>\n",
       "<table border=\"1\" class=\"dataframe\">\n",
       "  <thead>\n",
       "    <tr style=\"text-align: right;\">\n",
       "      <th></th>\n",
       "      <th>movieId</th>\n",
       "      <th>title</th>\n",
       "      <th>genres</th>\n",
       "      <th>director</th>\n",
       "      <th>plot_keywords</th>\n",
       "      <th>title_cast_short</th>\n",
       "    </tr>\n",
       "  </thead>\n",
       "  <tbody>\n",
       "    <tr>\n",
       "      <th>0</th>\n",
       "      <td>1</td>\n",
       "      <td>toy story (1995)</td>\n",
       "      <td>adventure animation children comedy fantasy</td>\n",
       "      <td>johnlasseter</td>\n",
       "      <td>toy rivalry cowboy cgi animation</td>\n",
       "      <td>tomhanks timallen donrickles</td>\n",
       "    </tr>\n",
       "    <tr>\n",
       "      <th>1</th>\n",
       "      <td>2</td>\n",
       "      <td>jumanji (1995)</td>\n",
       "      <td>adventure children fantasy</td>\n",
       "      <td>jonathanhensleigh</td>\n",
       "      <td>board game adventurer fight game</td>\n",
       "      <td>robinwilliams jonathanhyde kirstendunst</td>\n",
       "    </tr>\n",
       "    <tr>\n",
       "      <th>2</th>\n",
       "      <td>3</td>\n",
       "      <td>grumpier old men (1995)</td>\n",
       "      <td>comedy romance</td>\n",
       "      <td>markstevenjohnson</td>\n",
       "      <td>boat lake neighbor rivalry</td>\n",
       "      <td>waltermatthau jacklemmon sophialoren</td>\n",
       "    </tr>\n",
       "    <tr>\n",
       "      <th>3</th>\n",
       "      <td>4</td>\n",
       "      <td>waiting to exhale (1995)</td>\n",
       "      <td>comedy drama romance</td>\n",
       "      <td>terrymcmillan</td>\n",
       "      <td>black american husband wife relationship betra...</td>\n",
       "      <td>whitneyhouston angelabassett lorettadevine</td>\n",
       "    </tr>\n",
       "    <tr>\n",
       "      <th>4</th>\n",
       "      <td>5</td>\n",
       "      <td>father of the bride part ii (1995)</td>\n",
       "      <td>comedy</td>\n",
       "      <td>alberthackett</td>\n",
       "      <td>fatherhood doberman dog mansion</td>\n",
       "      <td>stevemartin dianekeaton martinshort</td>\n",
       "    </tr>\n",
       "  </tbody>\n",
       "</table>\n",
       "</div>"
      ],
      "text/plain": [
       "   movieId                               title  \\\n",
       "0        1                    toy story (1995)   \n",
       "1        2                      jumanji (1995)   \n",
       "2        3             grumpier old men (1995)   \n",
       "3        4            waiting to exhale (1995)   \n",
       "4        5  father of the bride part ii (1995)   \n",
       "\n",
       "                                        genres           director  \\\n",
       "0  adventure animation children comedy fantasy       johnlasseter   \n",
       "1                   adventure children fantasy  jonathanhensleigh   \n",
       "2                               comedy romance  markstevenjohnson   \n",
       "3                         comedy drama romance      terrymcmillan   \n",
       "4                                       comedy      alberthackett   \n",
       "\n",
       "                                       plot_keywords  \\\n",
       "0                   toy rivalry cowboy cgi animation   \n",
       "1                   board game adventurer fight game   \n",
       "2                         boat lake neighbor rivalry   \n",
       "3  black american husband wife relationship betra...   \n",
       "4                    fatherhood doberman dog mansion   \n",
       "\n",
       "                             title_cast_short  \n",
       "0                tomhanks timallen donrickles  \n",
       "1     robinwilliams jonathanhyde kirstendunst  \n",
       "2        waltermatthau jacklemmon sophialoren  \n",
       "3  whitneyhouston angelabassett lorettadevine  \n",
       "4         stevemartin dianekeaton martinshort  "
      ]
     },
     "execution_count": 91,
     "metadata": {},
     "output_type": "execute_result"
    }
   ],
   "source": [
    "training_data.head(5)"
   ]
  },
  {
   "cell_type": "code",
   "execution_count": 92,
   "metadata": {},
   "outputs": [
    {
     "data": {
      "text/plain": [
       "(62423, 6)"
      ]
     },
     "execution_count": 92,
     "metadata": {},
     "output_type": "execute_result"
    }
   ],
   "source": [
    "training_data.shape"
   ]
  },
  {
   "cell_type": "code",
   "execution_count": 93,
   "metadata": {},
   "outputs": [
    {
     "data": {
      "text/plain": [
       "movieId                 0\n",
       "title                   0\n",
       "genres               5062\n",
       "director            47076\n",
       "plot_keywords       48039\n",
       "title_cast_short    47222\n",
       "dtype: int64"
      ]
     },
     "execution_count": 93,
     "metadata": {},
     "output_type": "execute_result"
    }
   ],
   "source": [
    "training_data.isnull().sum()"
   ]
  },
  {
   "cell_type": "markdown",
   "metadata": {},
   "source": [
    "dropping all the null values from our table to make the data more ballanced "
   ]
  },
  {
   "cell_type": "code",
   "execution_count": 97,
   "metadata": {},
   "outputs": [],
   "source": [
    "no_null_training_data = training_data.dropna(0, how = 'any')"
   ]
  },
  {
   "cell_type": "code",
   "execution_count": 98,
   "metadata": {},
   "outputs": [
    {
     "data": {
      "text/html": [
       "<div>\n",
       "<style scoped>\n",
       "    .dataframe tbody tr th:only-of-type {\n",
       "        vertical-align: middle;\n",
       "    }\n",
       "\n",
       "    .dataframe tbody tr th {\n",
       "        vertical-align: top;\n",
       "    }\n",
       "\n",
       "    .dataframe thead th {\n",
       "        text-align: right;\n",
       "    }\n",
       "</style>\n",
       "<table border=\"1\" class=\"dataframe\">\n",
       "  <thead>\n",
       "    <tr style=\"text-align: right;\">\n",
       "      <th></th>\n",
       "      <th>movieId</th>\n",
       "      <th>title</th>\n",
       "      <th>genres</th>\n",
       "      <th>director</th>\n",
       "      <th>plot_keywords</th>\n",
       "      <th>title_cast_short</th>\n",
       "    </tr>\n",
       "  </thead>\n",
       "  <tbody>\n",
       "    <tr>\n",
       "      <th>0</th>\n",
       "      <td>1</td>\n",
       "      <td>toy story (1995)</td>\n",
       "      <td>adventure animation children comedy fantasy</td>\n",
       "      <td>johnlasseter</td>\n",
       "      <td>toy rivalry cowboy cgi animation</td>\n",
       "      <td>tomhanks timallen donrickles</td>\n",
       "    </tr>\n",
       "    <tr>\n",
       "      <th>1</th>\n",
       "      <td>2</td>\n",
       "      <td>jumanji (1995)</td>\n",
       "      <td>adventure children fantasy</td>\n",
       "      <td>jonathanhensleigh</td>\n",
       "      <td>board game adventurer fight game</td>\n",
       "      <td>robinwilliams jonathanhyde kirstendunst</td>\n",
       "    </tr>\n",
       "    <tr>\n",
       "      <th>2</th>\n",
       "      <td>3</td>\n",
       "      <td>grumpier old men (1995)</td>\n",
       "      <td>comedy romance</td>\n",
       "      <td>markstevenjohnson</td>\n",
       "      <td>boat lake neighbor rivalry</td>\n",
       "      <td>waltermatthau jacklemmon sophialoren</td>\n",
       "    </tr>\n",
       "    <tr>\n",
       "      <th>3</th>\n",
       "      <td>4</td>\n",
       "      <td>waiting to exhale (1995)</td>\n",
       "      <td>comedy drama romance</td>\n",
       "      <td>terrymcmillan</td>\n",
       "      <td>black american husband wife relationship betra...</td>\n",
       "      <td>whitneyhouston angelabassett lorettadevine</td>\n",
       "    </tr>\n",
       "    <tr>\n",
       "      <th>4</th>\n",
       "      <td>5</td>\n",
       "      <td>father of the bride part ii (1995)</td>\n",
       "      <td>comedy</td>\n",
       "      <td>alberthackett</td>\n",
       "      <td>fatherhood doberman dog mansion</td>\n",
       "      <td>stevemartin dianekeaton martinshort</td>\n",
       "    </tr>\n",
       "  </tbody>\n",
       "</table>\n",
       "</div>"
      ],
      "text/plain": [
       "   movieId                               title  \\\n",
       "0        1                    toy story (1995)   \n",
       "1        2                      jumanji (1995)   \n",
       "2        3             grumpier old men (1995)   \n",
       "3        4            waiting to exhale (1995)   \n",
       "4        5  father of the bride part ii (1995)   \n",
       "\n",
       "                                        genres           director  \\\n",
       "0  adventure animation children comedy fantasy       johnlasseter   \n",
       "1                   adventure children fantasy  jonathanhensleigh   \n",
       "2                               comedy romance  markstevenjohnson   \n",
       "3                         comedy drama romance      terrymcmillan   \n",
       "4                                       comedy      alberthackett   \n",
       "\n",
       "                                       plot_keywords  \\\n",
       "0                   toy rivalry cowboy cgi animation   \n",
       "1                   board game adventurer fight game   \n",
       "2                         boat lake neighbor rivalry   \n",
       "3  black american husband wife relationship betra...   \n",
       "4                    fatherhood doberman dog mansion   \n",
       "\n",
       "                             title_cast_short  \n",
       "0                tomhanks timallen donrickles  \n",
       "1     robinwilliams jonathanhyde kirstendunst  \n",
       "2        waltermatthau jacklemmon sophialoren  \n",
       "3  whitneyhouston angelabassett lorettadevine  \n",
       "4         stevemartin dianekeaton martinshort  "
      ]
     },
     "execution_count": 98,
     "metadata": {},
     "output_type": "execute_result"
    }
   ],
   "source": [
    "no_null_training_data.head()"
   ]
  },
  {
   "cell_type": "code",
   "execution_count": 100,
   "metadata": {},
   "outputs": [
    {
     "data": {
      "text/plain": [
       "(14180, 6)"
      ]
     },
     "execution_count": 100,
     "metadata": {},
     "output_type": "execute_result"
    }
   ],
   "source": [
    "no_null_training_data.shape"
   ]
  },
  {
   "cell_type": "code",
   "execution_count": 102,
   "metadata": {},
   "outputs": [
    {
     "data": {
      "text/plain": [
       "movieId             0\n",
       "title               0\n",
       "genres              0\n",
       "director            0\n",
       "plot_keywords       0\n",
       "title_cast_short    0\n",
       "dtype: int64"
      ]
     },
     "execution_count": 102,
     "metadata": {},
     "output_type": "execute_result"
    }
   ],
   "source": [
    "no_null_training_data.isnull().sum()"
   ]
  },
  {
   "cell_type": "code",
   "execution_count": 103,
   "metadata": {},
   "outputs": [],
   "source": [
    "#no_null_training_data.to_csv('no_null_training_data.csv', index = False)"
   ]
  },
  {
   "cell_type": "markdown",
   "metadata": {},
   "source": [
    "Since we do not have any missing data from our table we can now join all the columns to a single string which will be vectorised in the tfidf to create new features"
   ]
  },
  {
   "cell_type": "code",
   "execution_count": 364,
   "metadata": {},
   "outputs": [
    {
     "data": {
      "text/html": [
       "<div>\n",
       "<style scoped>\n",
       "    .dataframe tbody tr th:only-of-type {\n",
       "        vertical-align: middle;\n",
       "    }\n",
       "\n",
       "    .dataframe tbody tr th {\n",
       "        vertical-align: top;\n",
       "    }\n",
       "\n",
       "    .dataframe thead th {\n",
       "        text-align: right;\n",
       "    }\n",
       "</style>\n",
       "<table border=\"1\" class=\"dataframe\">\n",
       "  <thead>\n",
       "    <tr style=\"text-align: right;\">\n",
       "      <th></th>\n",
       "      <th>movieId</th>\n",
       "      <th>title</th>\n",
       "      <th>genres</th>\n",
       "      <th>director</th>\n",
       "      <th>plot_keywords</th>\n",
       "      <th>title_cast_short</th>\n",
       "      <th>combo_feature</th>\n",
       "    </tr>\n",
       "  </thead>\n",
       "  <tbody>\n",
       "    <tr>\n",
       "      <th>0</th>\n",
       "      <td>1</td>\n",
       "      <td>toy story (1995)</td>\n",
       "      <td>adventure animation children comedy fantasy</td>\n",
       "      <td>john lasseter</td>\n",
       "      <td>toy rivalry cowboy cgi animation</td>\n",
       "      <td>tomhanks timallen donrickles</td>\n",
       "      <td>adventure animation children comedy fantasy jo...</td>\n",
       "    </tr>\n",
       "    <tr>\n",
       "      <th>1</th>\n",
       "      <td>2</td>\n",
       "      <td>jumanji (1995)</td>\n",
       "      <td>adventure children fantasy</td>\n",
       "      <td>jonathan hensleigh</td>\n",
       "      <td>board game adventurer fight game</td>\n",
       "      <td>robinwilliams jonathanhyde kirstendunst</td>\n",
       "      <td>adventure children fantasy jonathan hensleigh ...</td>\n",
       "    </tr>\n",
       "  </tbody>\n",
       "</table>\n",
       "</div>"
      ],
      "text/plain": [
       "   movieId             title                                       genres  \\\n",
       "0        1  toy story (1995)  adventure animation children comedy fantasy   \n",
       "1        2    jumanji (1995)                   adventure children fantasy   \n",
       "\n",
       "             director                     plot_keywords  \\\n",
       "0       john lasseter  toy rivalry cowboy cgi animation   \n",
       "1  jonathan hensleigh  board game adventurer fight game   \n",
       "\n",
       "                          title_cast_short  \\\n",
       "0             tomhanks timallen donrickles   \n",
       "1  robinwilliams jonathanhyde kirstendunst   \n",
       "\n",
       "                                       combo_feature  \n",
       "0  adventure animation children comedy fantasy jo...  \n",
       "1  adventure children fantasy jonathan hensleigh ...  "
      ]
     },
     "execution_count": 364,
     "metadata": {},
     "output_type": "execute_result"
    }
   ],
   "source": [
    "no_null_training_data.head(2)"
   ]
  },
  {
   "cell_type": "markdown",
   "metadata": {},
   "source": [
    "Joining all of the features that describe the movie content in order to create a feature of all the columns combined"
   ]
  },
  {
   "cell_type": "code",
   "execution_count": 104,
   "metadata": {},
   "outputs": [],
   "source": [
    "all_features =  no_null_training_data['genres'] + ' ' + no_null_training_data['director'] + ' ' + no_null_training_data['plot_keywords'] + \" \" + no_null_training_data['title_cast_short'] "
   ]
  },
  {
   "cell_type": "code",
   "execution_count": 105,
   "metadata": {},
   "outputs": [
    {
     "data": {
      "text/plain": [
       "'drama fantasy thriller war amyjump occultism vomiting stones psychedelia folk horror julianbarratt peterferdinando richardglover'"
      ]
     },
     "execution_count": 105,
     "metadata": {},
     "output_type": "execute_result"
    }
   ],
   "source": [
    "all_features[20000]"
   ]
  },
  {
   "cell_type": "code",
   "execution_count": 106,
   "metadata": {},
   "outputs": [],
   "source": [
    "no_null_training_data['combo_feature'] = all_features"
   ]
  },
  {
   "cell_type": "code",
   "execution_count": 107,
   "metadata": {},
   "outputs": [
    {
     "data": {
      "text/html": [
       "<div>\n",
       "<style scoped>\n",
       "    .dataframe tbody tr th:only-of-type {\n",
       "        vertical-align: middle;\n",
       "    }\n",
       "\n",
       "    .dataframe tbody tr th {\n",
       "        vertical-align: top;\n",
       "    }\n",
       "\n",
       "    .dataframe thead th {\n",
       "        text-align: right;\n",
       "    }\n",
       "</style>\n",
       "<table border=\"1\" class=\"dataframe\">\n",
       "  <thead>\n",
       "    <tr style=\"text-align: right;\">\n",
       "      <th></th>\n",
       "      <th>movieId</th>\n",
       "      <th>title</th>\n",
       "      <th>genres</th>\n",
       "      <th>director</th>\n",
       "      <th>plot_keywords</th>\n",
       "      <th>title_cast_short</th>\n",
       "      <th>combo_feature</th>\n",
       "    </tr>\n",
       "  </thead>\n",
       "  <tbody>\n",
       "    <tr>\n",
       "      <th>0</th>\n",
       "      <td>1</td>\n",
       "      <td>toy story (1995)</td>\n",
       "      <td>adventure animation children comedy fantasy</td>\n",
       "      <td>johnlasseter</td>\n",
       "      <td>toy rivalry cowboy cgi animation</td>\n",
       "      <td>tomhanks timallen donrickles</td>\n",
       "      <td>adventure animation children comedy fantasy jo...</td>\n",
       "    </tr>\n",
       "    <tr>\n",
       "      <th>1</th>\n",
       "      <td>2</td>\n",
       "      <td>jumanji (1995)</td>\n",
       "      <td>adventure children fantasy</td>\n",
       "      <td>jonathanhensleigh</td>\n",
       "      <td>board game adventurer fight game</td>\n",
       "      <td>robinwilliams jonathanhyde kirstendunst</td>\n",
       "      <td>adventure children fantasy jonathanhensleigh b...</td>\n",
       "    </tr>\n",
       "    <tr>\n",
       "      <th>2</th>\n",
       "      <td>3</td>\n",
       "      <td>grumpier old men (1995)</td>\n",
       "      <td>comedy romance</td>\n",
       "      <td>markstevenjohnson</td>\n",
       "      <td>boat lake neighbor rivalry</td>\n",
       "      <td>waltermatthau jacklemmon sophialoren</td>\n",
       "      <td>comedy romance markstevenjohnson boat lake nei...</td>\n",
       "    </tr>\n",
       "    <tr>\n",
       "      <th>3</th>\n",
       "      <td>4</td>\n",
       "      <td>waiting to exhale (1995)</td>\n",
       "      <td>comedy drama romance</td>\n",
       "      <td>terrymcmillan</td>\n",
       "      <td>black american husband wife relationship betra...</td>\n",
       "      <td>whitneyhouston angelabassett lorettadevine</td>\n",
       "      <td>comedy drama romance terrymcmillan black ameri...</td>\n",
       "    </tr>\n",
       "    <tr>\n",
       "      <th>4</th>\n",
       "      <td>5</td>\n",
       "      <td>father of the bride part ii (1995)</td>\n",
       "      <td>comedy</td>\n",
       "      <td>alberthackett</td>\n",
       "      <td>fatherhood doberman dog mansion</td>\n",
       "      <td>stevemartin dianekeaton martinshort</td>\n",
       "      <td>comedy alberthackett fatherhood doberman dog m...</td>\n",
       "    </tr>\n",
       "  </tbody>\n",
       "</table>\n",
       "</div>"
      ],
      "text/plain": [
       "   movieId                               title  \\\n",
       "0        1                    toy story (1995)   \n",
       "1        2                      jumanji (1995)   \n",
       "2        3             grumpier old men (1995)   \n",
       "3        4            waiting to exhale (1995)   \n",
       "4        5  father of the bride part ii (1995)   \n",
       "\n",
       "                                        genres           director  \\\n",
       "0  adventure animation children comedy fantasy       johnlasseter   \n",
       "1                   adventure children fantasy  jonathanhensleigh   \n",
       "2                               comedy romance  markstevenjohnson   \n",
       "3                         comedy drama romance      terrymcmillan   \n",
       "4                                       comedy      alberthackett   \n",
       "\n",
       "                                       plot_keywords  \\\n",
       "0                   toy rivalry cowboy cgi animation   \n",
       "1                   board game adventurer fight game   \n",
       "2                         boat lake neighbor rivalry   \n",
       "3  black american husband wife relationship betra...   \n",
       "4                    fatherhood doberman dog mansion   \n",
       "\n",
       "                             title_cast_short  \\\n",
       "0                tomhanks timallen donrickles   \n",
       "1     robinwilliams jonathanhyde kirstendunst   \n",
       "2        waltermatthau jacklemmon sophialoren   \n",
       "3  whitneyhouston angelabassett lorettadevine   \n",
       "4         stevemartin dianekeaton martinshort   \n",
       "\n",
       "                                       combo_feature  \n",
       "0  adventure animation children comedy fantasy jo...  \n",
       "1  adventure children fantasy jonathanhensleigh b...  \n",
       "2  comedy romance markstevenjohnson boat lake nei...  \n",
       "3  comedy drama romance terrymcmillan black ameri...  \n",
       "4  comedy alberthackett fatherhood doberman dog m...  "
      ]
     },
     "execution_count": 107,
     "metadata": {},
     "output_type": "execute_result"
    }
   ],
   "source": [
    "no_null_training_data.head()"
   ]
  },
  {
   "cell_type": "markdown",
   "metadata": {},
   "source": [
    "Now we have a combo feature for all the features that we gonna use to train our model"
   ]
  },
  {
   "cell_type": "markdown",
   "metadata": {},
   "source": [
    "## Collaborative based Preprocessing"
   ]
  },
  {
   "cell_type": "code",
   "execution_count": null,
   "metadata": {},
   "outputs": [],
   "source": []
  },
  {
   "cell_type": "code",
   "execution_count": null,
   "metadata": {},
   "outputs": [],
   "source": []
  },
  {
   "cell_type": "code",
   "execution_count": null,
   "metadata": {},
   "outputs": [],
   "source": []
  },
  {
   "cell_type": "markdown",
   "metadata": {},
   "source": [
    "<a id=\"five\"></a>\n",
    "## 5. Feature Engineering\n",
    "<a class=\"anchor\" id=\"1.1\"></a>\n",
    "<a href=#cont>Back to Table of Contents</a>\n",
    "\n",
    "Feature engineering, the process of creating features that can be fed into a machine learning model from raw text data, is one of the more important part of text classification using machine learning. It is the process of using domain knowledge of the data to create features that make machine learning algorithms work. The better the quality of information you provide a machine learning algorithm, the more it will be able to interpret the information well. Feature engineering helps us to create better data which helps the model understand it well and provide reasonable results. \n"
   ]
  },
  {
   "cell_type": "code",
   "execution_count": 110,
   "metadata": {},
   "outputs": [],
   "source": [
    "tf = TfidfVectorizer(analyzer='word', ngram_range=(1,2),\n",
    "                     min_df=0)\n",
    "\n",
    "# Produce a feature matrix, where each row corresponds to a book,\n",
    "# with TF-IDF features as columns \n",
    "tf_combo_matrix = tf.fit_transform(no_null_training_data['combo_feature'])"
   ]
  },
  {
   "cell_type": "markdown",
   "metadata": {},
   "source": [
    "Now to make sure our dataframe has a rating  column since it is the one that can help us measure our perfomance"
   ]
  },
  {
   "cell_type": "code",
   "execution_count": 111,
   "metadata": {},
   "outputs": [
    {
     "data": {
      "text/html": [
       "<div>\n",
       "<style scoped>\n",
       "    .dataframe tbody tr th:only-of-type {\n",
       "        vertical-align: middle;\n",
       "    }\n",
       "\n",
       "    .dataframe tbody tr th {\n",
       "        vertical-align: top;\n",
       "    }\n",
       "\n",
       "    .dataframe thead th {\n",
       "        text-align: right;\n",
       "    }\n",
       "</style>\n",
       "<table border=\"1\" class=\"dataframe\">\n",
       "  <thead>\n",
       "    <tr style=\"text-align: right;\">\n",
       "      <th></th>\n",
       "      <th>userId</th>\n",
       "      <th>movieId</th>\n",
       "      <th>rating</th>\n",
       "      <th>timestamp</th>\n",
       "    </tr>\n",
       "  </thead>\n",
       "  <tbody>\n",
       "    <tr>\n",
       "      <th>0</th>\n",
       "      <td>5163</td>\n",
       "      <td>57669</td>\n",
       "      <td>4.0</td>\n",
       "      <td>1518349992</td>\n",
       "    </tr>\n",
       "    <tr>\n",
       "      <th>1</th>\n",
       "      <td>106343</td>\n",
       "      <td>5</td>\n",
       "      <td>4.5</td>\n",
       "      <td>1206238739</td>\n",
       "    </tr>\n",
       "    <tr>\n",
       "      <th>2</th>\n",
       "      <td>146790</td>\n",
       "      <td>5459</td>\n",
       "      <td>5.0</td>\n",
       "      <td>1076215539</td>\n",
       "    </tr>\n",
       "    <tr>\n",
       "      <th>3</th>\n",
       "      <td>106362</td>\n",
       "      <td>32296</td>\n",
       "      <td>2.0</td>\n",
       "      <td>1423042565</td>\n",
       "    </tr>\n",
       "    <tr>\n",
       "      <th>4</th>\n",
       "      <td>9041</td>\n",
       "      <td>366</td>\n",
       "      <td>3.0</td>\n",
       "      <td>833375837</td>\n",
       "    </tr>\n",
       "  </tbody>\n",
       "</table>\n",
       "</div>"
      ],
      "text/plain": [
       "   userId  movieId  rating   timestamp\n",
       "0    5163    57669     4.0  1518349992\n",
       "1  106343        5     4.5  1206238739\n",
       "2  146790     5459     5.0  1076215539\n",
       "3  106362    32296     2.0  1423042565\n",
       "4    9041      366     3.0   833375837"
      ]
     },
     "execution_count": 111,
     "metadata": {},
     "output_type": "execute_result"
    }
   ],
   "source": [
    "train_data.head()"
   ]
  },
  {
   "cell_type": "code",
   "execution_count": 352,
   "metadata": {},
   "outputs": [
    {
     "data": {
      "text/plain": [
       "(10000038, 4)"
      ]
     },
     "execution_count": 352,
     "metadata": {},
     "output_type": "execute_result"
    }
   ],
   "source": [
    "train_data.shape"
   ]
  },
  {
   "cell_type": "markdown",
   "metadata": {},
   "source": [
    "Joining the table with the rating to the cleaned training table"
   ]
  },
  {
   "cell_type": "code",
   "execution_count": 112,
   "metadata": {},
   "outputs": [],
   "source": [
    "rating_data = pd.merge(train_data, no_null_training_data, how = 'left', on = 'movieId' )"
   ]
  },
  {
   "cell_type": "code",
   "execution_count": 113,
   "metadata": {},
   "outputs": [
    {
     "data": {
      "text/plain": [
       "(10000038, 10)"
      ]
     },
     "execution_count": 113,
     "metadata": {},
     "output_type": "execute_result"
    }
   ],
   "source": [
    "rating_data.shape"
   ]
  },
  {
   "cell_type": "markdown",
   "metadata": {},
   "source": [
    "<a id=\"six\"></a>\n",
    "## 6. Modelling\n",
    "<a class=\"anchor\" id=\"1.1\"></a>\n",
    "<a href=#cont>Back to Table of Contents</a>\n",
    "\n",
    "\n",
    "Training the models with the no_null_training_data dataframe, this is done to get the best perfoming models in the original data, this is to find the best models in predicting our data using the `combo_feature` column"
   ]
  },
  {
   "cell_type": "markdown",
   "metadata": {},
   "source": [
    "## Content based Modelling"
   ]
  },
  {
   "cell_type": "markdown",
   "metadata": {},
   "source": [
    "\n",
    "We now can compute the similarity between each vector within our matrix. This is done by making use of the `cosine_similarity` function provided to us by `sklearn`."
   ]
  },
  {
   "cell_type": "code",
   "execution_count": 115,
   "metadata": {},
   "outputs": [
    {
     "name": "stdout",
     "output_type": "stream",
     "text": [
      "(14180, 14180)\n"
     ]
    }
   ],
   "source": [
    "cosine_sim_combo = cosine_similarity(tf_combo_matrix, \n",
    "                                        tf_combo_matrix)\n",
    "print (cosine_sim_combo.shape)"
   ]
  },
  {
   "cell_type": "code",
   "execution_count": 116,
   "metadata": {},
   "outputs": [],
   "source": [
    "titles = no_null_training_data['title']\n",
    "indices = pd.Series(no_null_training_data.index, index = no_null_training_data['title'])"
   ]
  },
  {
   "cell_type": "code",
   "execution_count": 117,
   "metadata": {},
   "outputs": [],
   "source": [
    "def content_generate_top_N_recommendations(movie_title, N=10):\n",
    "    # Convert the string book title to a numeric index for our \n",
    "    # similarity matrix\n",
    "    b_idx = indices[movie_title]\n",
    "    # Extract all similarity values computed with the reference book title\n",
    "    sim_scores = list(enumerate(cosine_sim_combo[b_idx]))\n",
    "    # Sort the values, keeping a copy of the original index of each value\n",
    "    sim_scores = sorted(sim_scores, key=lambda x: x[1], reverse=True)\n",
    "    # Select the top-N values for recommendation\n",
    "    sim_scores = sim_scores[1:N]\n",
    "    # Collect indexes \n",
    "    book_indices = [i[0] for i in sim_scores]\n",
    "    # Convert the indexes back into titles \n",
    "    return titles.iloc[book_indices]"
   ]
  },
  {
   "cell_type": "code",
   "execution_count": 118,
   "metadata": {},
   "outputs": [
    {
     "data": {
      "text/plain": [
       "9235                carolina (2005)\n",
       "2713        mickey blue eyes (1999)\n",
       "9134           beautiful joe (2000)\n",
       "16746    griff the invisible (2011)\n",
       "26423          rubber johnny (2005)\n",
       "10312                  leila (1996)\n",
       "23883    crazy for christmas (2005)\n",
       "23621         action jackson (2014)\n",
       "17402                singham (2011)\n",
       "Name: title, dtype: object"
      ]
     },
     "execution_count": 118,
     "metadata": {},
     "output_type": "execute_result"
    }
   ],
   "source": [
    "content_generate_top_N_recommendations(\"sabrina (1995)\", N=10)"
   ]
  },
  {
   "cell_type": "code",
   "execution_count": 119,
   "metadata": {},
   "outputs": [
    {
     "data": {
      "text/plain": [
       "12534    last mistress, the (vieille maîtresse, une) (2...\n",
       "10360                                     manderlay (2005)\n",
       "21614                                  kid cannabis (2014)\n",
       "21061                                        gloria (2013)\n",
       "17566      to die like a man (morrer como um homem) (2009)\n",
       "8152          anatomy of hell (anatomie de l'enfer) (2004)\n",
       "4168                                 under the sand (2000)\n",
       "3787                                     back stage (2000)\n",
       "976                            2 days in the valley (1996)\n",
       "Name: title, dtype: object"
      ]
     },
     "execution_count": 119,
     "metadata": {},
     "output_type": "execute_result"
    }
   ],
   "source": [
    "content_generate_top_N_recommendations(\"mickey blue eyes (1999)\", N=10)"
   ]
  },
  {
   "cell_type": "code",
   "execution_count": null,
   "metadata": {},
   "outputs": [],
   "source": []
  },
  {
   "cell_type": "code",
   "execution_count": 266,
   "metadata": {},
   "outputs": [
    {
     "data": {
      "text/html": [
       "<div>\n",
       "<style scoped>\n",
       "    .dataframe tbody tr th:only-of-type {\n",
       "        vertical-align: middle;\n",
       "    }\n",
       "\n",
       "    .dataframe tbody tr th {\n",
       "        vertical-align: top;\n",
       "    }\n",
       "\n",
       "    .dataframe thead th {\n",
       "        text-align: right;\n",
       "    }\n",
       "</style>\n",
       "<table border=\"1\" class=\"dataframe\">\n",
       "  <thead>\n",
       "    <tr style=\"text-align: right;\">\n",
       "      <th></th>\n",
       "      <th>userId</th>\n",
       "      <th>movieId</th>\n",
       "      <th>rating</th>\n",
       "      <th>timestamp</th>\n",
       "      <th>title</th>\n",
       "      <th>genres</th>\n",
       "      <th>director</th>\n",
       "      <th>plot_keywords</th>\n",
       "      <th>title_cast_short</th>\n",
       "      <th>combo_feature</th>\n",
       "    </tr>\n",
       "  </thead>\n",
       "  <tbody>\n",
       "    <tr>\n",
       "      <th>0</th>\n",
       "      <td>5163</td>\n",
       "      <td>57669</td>\n",
       "      <td>4.0</td>\n",
       "      <td>1518349992</td>\n",
       "      <td>in bruges (2008)</td>\n",
       "      <td>comedy crime drama thriller</td>\n",
       "      <td>martin mcdonagh</td>\n",
       "      <td>dwarf bruges irish hitman</td>\n",
       "      <td>elizabethberrington rudyblomme olivierbonjour</td>\n",
       "      <td>comedy crime drama thriller martin mcdonagh dw...</td>\n",
       "    </tr>\n",
       "    <tr>\n",
       "      <th>1</th>\n",
       "      <td>106343</td>\n",
       "      <td>5</td>\n",
       "      <td>4.5</td>\n",
       "      <td>1206238739</td>\n",
       "      <td>father of the bride part ii (1995)</td>\n",
       "      <td>comedy</td>\n",
       "      <td>albert hackett</td>\n",
       "      <td>fatherhood doberman dog mansion</td>\n",
       "      <td>stevemartin dianekeaton martinshort</td>\n",
       "      <td>comedy albert hackett fatherhood doberman dog ...</td>\n",
       "    </tr>\n",
       "    <tr>\n",
       "      <th>2</th>\n",
       "      <td>146790</td>\n",
       "      <td>5459</td>\n",
       "      <td>5.0</td>\n",
       "      <td>1076215539</td>\n",
       "      <td>men in black ii (a.k.a. miib) (a.k.a. mib 2) (...</td>\n",
       "      <td>action comedy sci-fi</td>\n",
       "      <td>lowell cunningham</td>\n",
       "      <td>lingerie michael jackson character shorthaired...</td>\n",
       "      <td>tommyleejones willsmith riptorn</td>\n",
       "      <td>action comedy sci-fi lowell cunningham lingeri...</td>\n",
       "    </tr>\n",
       "    <tr>\n",
       "      <th>3</th>\n",
       "      <td>106362</td>\n",
       "      <td>32296</td>\n",
       "      <td>2.0</td>\n",
       "      <td>1423042565</td>\n",
       "      <td>miss congeniality 2: armed and fabulous (2005)</td>\n",
       "      <td>adventure comedy crime</td>\n",
       "      <td>marc lawrence</td>\n",
       "      <td>female protagonist cleave gag good woman fbi</td>\n",
       "      <td>sandrabullock reginaking enriquemurciano</td>\n",
       "      <td>adventure comedy crime marc lawrence female pr...</td>\n",
       "    </tr>\n",
       "    <tr>\n",
       "      <th>4</th>\n",
       "      <td>9041</td>\n",
       "      <td>366</td>\n",
       "      <td>3.0</td>\n",
       "      <td>833375837</td>\n",
       "      <td>wes craven's new nightmare (nightmare on elm s...</td>\n",
       "      <td>drama horror mystery thriller</td>\n",
       "      <td>wes craven</td>\n",
       "      <td>freddy krueger elm street famous director as h...</td>\n",
       "      <td>jeffdavis heatherlangenkamp mikohughes</td>\n",
       "      <td>drama horror mystery thriller wes craven fredd...</td>\n",
       "    </tr>\n",
       "  </tbody>\n",
       "</table>\n",
       "</div>"
      ],
      "text/plain": [
       "   userId  movieId  rating   timestamp  \\\n",
       "0    5163    57669     4.0  1518349992   \n",
       "1  106343        5     4.5  1206238739   \n",
       "2  146790     5459     5.0  1076215539   \n",
       "3  106362    32296     2.0  1423042565   \n",
       "4    9041      366     3.0   833375837   \n",
       "\n",
       "                                               title  \\\n",
       "0                                   in bruges (2008)   \n",
       "1                 father of the bride part ii (1995)   \n",
       "2  men in black ii (a.k.a. miib) (a.k.a. mib 2) (...   \n",
       "3     miss congeniality 2: armed and fabulous (2005)   \n",
       "4  wes craven's new nightmare (nightmare on elm s...   \n",
       "\n",
       "                          genres           director  \\\n",
       "0    comedy crime drama thriller    martin mcdonagh   \n",
       "1                         comedy     albert hackett   \n",
       "2           action comedy sci-fi  lowell cunningham   \n",
       "3         adventure comedy crime      marc lawrence   \n",
       "4  drama horror mystery thriller         wes craven   \n",
       "\n",
       "                                       plot_keywords  \\\n",
       "0                          dwarf bruges irish hitman   \n",
       "1                    fatherhood doberman dog mansion   \n",
       "2  lingerie michael jackson character shorthaired...   \n",
       "3       female protagonist cleave gag good woman fbi   \n",
       "4  freddy krueger elm street famous director as h...   \n",
       "\n",
       "                                title_cast_short  \\\n",
       "0  elizabethberrington rudyblomme olivierbonjour   \n",
       "1            stevemartin dianekeaton martinshort   \n",
       "2                tommyleejones willsmith riptorn   \n",
       "3       sandrabullock reginaking enriquemurciano   \n",
       "4         jeffdavis heatherlangenkamp mikohughes   \n",
       "\n",
       "                                       combo_feature  \n",
       "0  comedy crime drama thriller martin mcdonagh dw...  \n",
       "1  comedy albert hackett fatherhood doberman dog ...  \n",
       "2  action comedy sci-fi lowell cunningham lingeri...  \n",
       "3  adventure comedy crime marc lawrence female pr...  \n",
       "4  drama horror mystery thriller wes craven fredd...  "
      ]
     },
     "execution_count": 266,
     "metadata": {},
     "output_type": "execute_result"
    }
   ],
   "source": [
    "rating_data.head()"
   ]
  },
  {
   "cell_type": "code",
   "execution_count": 121,
   "metadata": {},
   "outputs": [],
   "source": [
    "rating_data.to_csv('Rating_data.csv', index = False)"
   ]
  },
  {
   "cell_type": "code",
   "execution_count": 270,
   "metadata": {},
   "outputs": [
    {
     "data": {
      "text/plain": [
       "162541"
      ]
     },
     "execution_count": 270,
     "metadata": {},
     "output_type": "execute_result"
    }
   ],
   "source": [
    "len(rating_data['userId'].unique())"
   ]
  },
  {
   "cell_type": "code",
   "execution_count": 126,
   "metadata": {},
   "outputs": [],
   "source": [
    "rating_data = rating_data.dropna(axis=0, how='any', thresh=None, subset=None)"
   ]
  },
  {
   "cell_type": "code",
   "execution_count": 129,
   "metadata": {},
   "outputs": [
    {
     "data": {
      "text/plain": [
       "userId              0\n",
       "movieId             0\n",
       "rating              0\n",
       "timestamp           0\n",
       "title               0\n",
       "genres              0\n",
       "director            0\n",
       "plot_keywords       0\n",
       "title_cast_short    0\n",
       "combo_feature       0\n",
       "dtype: int64"
      ]
     },
     "execution_count": 129,
     "metadata": {},
     "output_type": "execute_result"
    }
   ],
   "source": [
    "rating_data.isnull().sum()"
   ]
  },
  {
   "cell_type": "markdown",
   "metadata": {},
   "source": [
    "Now for creating the model that will predidct the users rating to a movie they have never watched, the following function is to be used and the rating will be predicted."
   ]
  },
  {
   "cell_type": "code",
   "execution_count": 127,
   "metadata": {},
   "outputs": [],
   "source": [
    "def content_generate_rating_estimate(movie_title, user, rating_data, k=20, threshold=0.0):\n",
    "    # Convert the book title to a numeric index for our \n",
    "    # similarity matrix\n",
    "    b_idx = indices[movie_title]\n",
    "    neighbors = [] # <-- Stores our collection of similarity values \n",
    "     \n",
    "    # Gather the similarity ratings between each book the user has rated\n",
    "    # and the reference book \n",
    "    for index, row in rating_data[rating_data['userId']==user].iterrows():\n",
    "        sim = cosine_sim_combo[b_idx-1, indices[row['title']]-1]\n",
    "        neighbors.append((sim, row['rating']))\n",
    "    # Select the top-N values from our collection\n",
    "    k_neighbors = heapq.nlargest(k, neighbors, key=lambda t: t[0])\n",
    "\n",
    "    # Compute the weighted average using similarity scores and \n",
    "    # user item ratings. \n",
    "    simTotal, weightedSum = 0, 0\n",
    "    for (simScore, rating) in k_neighbors:\n",
    "        # Ensure that similarity ratings are above a given threshold\n",
    "        if (simScore > threshold):\n",
    "            simTotal += simScore\n",
    "            weightedSum += simScore * rating\n",
    "    try:\n",
    "        predictedRating = weightedSum / simTotal\n",
    "    except ZeroDivisionError:\n",
    "        # Cold-start problem - No ratings given by user. \n",
    "        # We use the average rating for the reference item as a proxy in this case \n",
    "        predictedRating = np.mean(rating_data[rating_data['title']==book_title]['rating'])\n",
    "    return predictedRating"
   ]
  },
  {
   "cell_type": "markdown",
   "metadata": {},
   "source": [
    "## Collaborative based Modelling"
   ]
  },
  {
   "cell_type": "code",
   "execution_count": null,
   "metadata": {},
   "outputs": [],
   "source": []
  },
  {
   "cell_type": "markdown",
   "metadata": {},
   "source": [
    "In this Predict we will build a recommendation model by using the Surprise method\n",
    "Surprise is a Python scikit for building and analyzing recommender systems that deal with explicit rating data.\n",
    "\n",
    "**Surprise was designed with the following purposes in mind:**\n",
    "\n",
    "+ Give users perfect control over their experiments\n",
    "+ Provide various ready-to-use prediction algorithms such as baseline algorithms, neighborhood methods\n",
    "+ Make it easy to implement new algorithm ideas.\n",
    "+ Provide tools to evaluate, analyze and compare the algorithms’ performance. Cross-validation procedures can be run very easily using powerful CV iterators (inspired by sci-kit-learn excellent tools."
   ]
  },
  {
   "cell_type": "code",
   "execution_count": 291,
   "metadata": {},
   "outputs": [
    {
     "name": "stdout",
     "output_type": "stream",
     "text": [
      "Collecting LibRecommender\n",
      "  Downloading LibRecommender-0.6.10.tar.gz (457 kB)\n",
      "Requirement already satisfied: numpy>=1.15.4 in c:\\users\\mpilenhle\\anaconda3\\lib\\site-packages (from LibRecommender) (1.19.5)\n",
      "Requirement already satisfied: cython>=0.29.0 in c:\\users\\mpilenhle\\anaconda3\\lib\\site-packages (from LibRecommender) (0.29.21)\n",
      "Requirement already satisfied: scipy>=1.2.1 in c:\\users\\mpilenhle\\anaconda3\\lib\\site-packages (from LibRecommender) (1.5.2)\n",
      "Requirement already satisfied: pandas>=0.23.4 in c:\\users\\mpilenhle\\appdata\\roaming\\python\\python38\\site-packages (from LibRecommender) (1.3.4)\n",
      "Requirement already satisfied: scikit-learn>=0.20.0 in c:\\users\\mpilenhle\\appdata\\roaming\\python\\python38\\site-packages (from LibRecommender) (1.0.1)\n",
      "Collecting tensorflow>=1.14.0\n",
      "  Downloading tensorflow-2.7.0-cp38-cp38-win_amd64.whl (430.8 MB)"
     ]
    },
    {
     "name": "stderr",
     "output_type": "stream",
     "text": [
      "WARNING: Retrying (Retry(total=4, connect=None, read=None, redirect=None, status=None)) after connection broken by 'ProtocolError('Connection aborted.', ConnectionResetError(10054, 'An existing connection was forcibly closed by the remote host', None, 10054, None))': /simple/gensim/\n",
      "  ERROR: Command errored out with exit status 1:\n",
      "   command: 'C:\\Users\\Mpilenhle\\anaconda3\\python.exe' -u -c 'import sys, setuptools, tokenize; sys.argv[0] = '\"'\"'C:\\\\Users\\\\Mpilenhle\\\\AppData\\\\Local\\\\Temp\\\\pip-install-p4j038js\\\\librecommender\\\\setup.py'\"'\"'; __file__='\"'\"'C:\\\\Users\\\\Mpilenhle\\\\AppData\\\\Local\\\\Temp\\\\pip-install-p4j038js\\\\librecommender\\\\setup.py'\"'\"';f=getattr(tokenize, '\"'\"'open'\"'\"', open)(__file__);code=f.read().replace('\"'\"'\\r\\n'\"'\"', '\"'\"'\\n'\"'\"');f.close();exec(compile(code, __file__, '\"'\"'exec'\"'\"'))' bdist_wheel -d 'C:\\Users\\Mpilenhle\\AppData\\Local\\Temp\\pip-wheel-dbskz19w'\n",
      "       cwd: C:\\Users\\Mpilenhle\\AppData\\Local\\Temp\\pip-install-p4j038js\\librecommender\\\n",
      "  Complete output (103 lines):\n",
      "  running bdist_wheel\n",
      "  running build\n",
      "  running build_py\n",
      "  creating build\n",
      "  creating build\\lib.win-amd64-3.8\n",
      "  creating build\\lib.win-amd64-3.8\\libreco\n",
      "  copying libreco\\__init__.py -> build\\lib.win-amd64-3.8\\libreco\n",
      "  creating build\\lib.win-amd64-3.8\\serving\n",
      "  copying serving\\__init__.py -> build\\lib.win-amd64-3.8\\serving\n",
      "  creating build\\lib.win-amd64-3.8\\libreco\\algorithms\n",
      "  copying libreco\\algorithms\\als.py -> build\\lib.win-amd64-3.8\\libreco\\algorithms\n",
      "  copying libreco\\algorithms\\autoint.py -> build\\lib.win-amd64-3.8\\libreco\\algorithms\n",
      "  copying libreco\\algorithms\\base.py -> build\\lib.win-amd64-3.8\\libreco\\algorithms\n",
      "  copying libreco\\algorithms\\bpr.py -> build\\lib.win-amd64-3.8\\libreco\\algorithms\n",
      "  copying libreco\\algorithms\\caser.py -> build\\lib.win-amd64-3.8\\libreco\\algorithms\n",
      "  copying libreco\\algorithms\\deepfm.py -> build\\lib.win-amd64-3.8\\libreco\\algorithms\n",
      "  copying libreco\\algorithms\\din.py -> build\\lib.win-amd64-3.8\\libreco\\algorithms\n",
      "  copying libreco\\algorithms\\fm.py -> build\\lib.win-amd64-3.8\\libreco\\algorithms\n",
      "  copying libreco\\algorithms\\item_cf.py -> build\\lib.win-amd64-3.8\\libreco\\algorithms\n",
      "  copying libreco\\algorithms\\knn_embed.py -> build\\lib.win-amd64-3.8\\libreco\\algorithms\n",
      "  copying libreco\\algorithms\\ncf.py -> build\\lib.win-amd64-3.8\\libreco\\algorithms\n",
      "  copying libreco\\algorithms\\rnn4rec.py -> build\\lib.win-amd64-3.8\\libreco\\algorithms\n",
      "  copying libreco\\algorithms\\svd.py -> build\\lib.win-amd64-3.8\\libreco\\algorithms\n",
      "  copying libreco\\algorithms\\svdpp.py -> build\\lib.win-amd64-3.8\\libreco\\algorithms\n",
      "  copying libreco\\algorithms\\user_cf.py -> build\\lib.win-amd64-3.8\\libreco\\algorithms\n",
      "  copying libreco\\algorithms\\wave_net.py -> build\\lib.win-amd64-3.8\\libreco\\algorithms\n",
      "  copying libreco\\algorithms\\wide_deep.py -> build\\lib.win-amd64-3.8\\libreco\\algorithms\n",
      "  copying libreco\\algorithms\\youtube_match.py -> build\\lib.win-amd64-3.8\\libreco\\algorithms\n",
      "  copying libreco\\algorithms\\youtube_ranking.py -> build\\lib.win-amd64-3.8\\libreco\\algorithms\n",
      "  copying libreco\\algorithms\\__init__.py -> build\\lib.win-amd64-3.8\\libreco\\algorithms\n",
      "  creating build\\lib.win-amd64-3.8\\libreco\\data\n",
      "  copying libreco\\data\\dataset.py -> build\\lib.win-amd64-3.8\\libreco\\data\n",
      "  copying libreco\\data\\data_generator.py -> build\\lib.win-amd64-3.8\\libreco\\data\n",
      "  copying libreco\\data\\data_info.py -> build\\lib.win-amd64-3.8\\libreco\\data\n",
      "  copying libreco\\data\\processing.py -> build\\lib.win-amd64-3.8\\libreco\\data\n",
      "  copying libreco\\data\\sequence.py -> build\\lib.win-amd64-3.8\\libreco\\data\n",
      "  copying libreco\\data\\split.py -> build\\lib.win-amd64-3.8\\libreco\\data\n",
      "  copying libreco\\data\\transformed.py -> build\\lib.win-amd64-3.8\\libreco\\data\n",
      "  copying libreco\\data\\__init__.py -> build\\lib.win-amd64-3.8\\libreco\\data\n",
      "  creating build\\lib.win-amd64-3.8\\libreco\\embedding\n",
      "  copying libreco\\embedding\\item2vec.py -> build\\lib.win-amd64-3.8\\libreco\\embedding\n",
      "  copying libreco\\embedding\\__init__.py -> build\\lib.win-amd64-3.8\\libreco\\embedding\n",
      "  creating build\\lib.win-amd64-3.8\\libreco\\evaluation\n",
      "  copying libreco\\evaluation\\computation.py -> build\\lib.win-amd64-3.8\\libreco\\evaluation\n",
      "  copying libreco\\evaluation\\evaluate.py -> build\\lib.win-amd64-3.8\\libreco\\evaluation\n",
      "  copying libreco\\evaluation\\metrics.py -> build\\lib.win-amd64-3.8\\libreco\\evaluation\n",
      "  copying libreco\\evaluation\\__init__.py -> build\\lib.win-amd64-3.8\\libreco\\evaluation\n",
      "  creating build\\lib.win-amd64-3.8\\libreco\\feature\n",
      "  copying libreco\\feature\\column.py -> build\\lib.win-amd64-3.8\\libreco\\feature\n",
      "  copying libreco\\feature\\column_mapping.py -> build\\lib.win-amd64-3.8\\libreco\\feature\n",
      "  copying libreco\\feature\\unique_features.py -> build\\lib.win-amd64-3.8\\libreco\\feature\n",
      "  copying libreco\\feature\\__init__.py -> build\\lib.win-amd64-3.8\\libreco\\feature\n",
      "  creating build\\lib.win-amd64-3.8\\libreco\\utils\n",
      "  copying libreco\\utils\\exception.py -> build\\lib.win-amd64-3.8\\libreco\\utils\n",
      "  copying libreco\\utils\\initializers.py -> build\\lib.win-amd64-3.8\\libreco\\utils\n",
      "  copying libreco\\utils\\misc.py -> build\\lib.win-amd64-3.8\\libreco\\utils\n",
      "  copying libreco\\utils\\sampling.py -> build\\lib.win-amd64-3.8\\libreco\\utils\n",
      "  copying libreco\\utils\\serialization.py -> build\\lib.win-amd64-3.8\\libreco\\utils\n",
      "  copying libreco\\utils\\similarities.py -> build\\lib.win-amd64-3.8\\libreco\\utils\n",
      "  copying libreco\\utils\\tf_ops.py -> build\\lib.win-amd64-3.8\\libreco\\utils\n",
      "  copying libreco\\utils\\__init__.py -> build\\lib.win-amd64-3.8\\libreco\\utils\n",
      "  creating build\\lib.win-amd64-3.8\\serving\\flask\n",
      "  copying serving\\flask\\colorize.py -> build\\lib.win-amd64-3.8\\serving\\flask\n",
      "  copying serving\\flask\\save_faiss.py -> build\\lib.win-amd64-3.8\\serving\\flask\n",
      "  copying serving\\flask\\save_redis.py -> build\\lib.win-amd64-3.8\\serving\\flask\n",
      "  copying serving\\flask\\__init__.py -> build\\lib.win-amd64-3.8\\serving\\flask\n",
      "  running egg_info\n",
      "  writing LibRecommender.egg-info\\PKG-INFO\n",
      "  writing dependency_links to LibRecommender.egg-info\\dependency_links.txt\n",
      "  writing requirements to LibRecommender.egg-info\\requires.txt\n",
      "  writing top-level names to LibRecommender.egg-info\\top_level.txt\n",
      "  reading manifest file 'LibRecommender.egg-info\\SOURCES.txt'\n",
      "  reading manifest template 'MANIFEST.in'\n",
      "  warning: no files found matching '*.c' under directory 'libreco'\n",
      "  warning: no files found matching '*.sh' under directory 'serving'\n",
      "  warning: no previously-included files matching '*' found under directory 'examples'\n",
      "  warning: no previously-included files matching '*' found under directory 'distributed'\n",
      "  writing manifest file 'LibRecommender.egg-info\\SOURCES.txt'\n",
      "  copying libreco\\algorithms\\_als.cpp -> build\\lib.win-amd64-3.8\\libreco\\algorithms\n",
      "  copying libreco\\algorithms\\_als.pyx -> build\\lib.win-amd64-3.8\\libreco\\algorithms\n"
     ]
    },
    {
     "name": "stdout",
     "output_type": "stream",
     "text": [
      "\n",
      "Collecting gensim>=4.0.0\n",
      "  Downloading gensim-4.1.2-cp38-cp38-win_amd64.whl (24.0 MB)\n",
      "Requirement already satisfied: tqdm>=4.46.0 in c:\\users\\mpilenhle\\anaconda3\\lib\\site-packages (from LibRecommender) (4.50.2)\n",
      "Requirement already satisfied: python-dateutil>=2.7.3 in c:\\users\\mpilenhle\\anaconda3\\lib\\site-packages (from pandas>=0.23.4->LibRecommender) (2.8.1)\n",
      "Requirement already satisfied: pytz>=2017.3 in c:\\users\\mpilenhle\\anaconda3\\lib\\site-packages (from pandas>=0.23.4->LibRecommender) (2020.1)\n",
      "Requirement already satisfied: threadpoolctl>=2.0.0 in c:\\users\\mpilenhle\\anaconda3\\lib\\site-packages (from scikit-learn>=0.20.0->LibRecommender) (2.1.0)\n",
      "Requirement already satisfied: joblib>=0.11 in c:\\users\\mpilenhle\\anaconda3\\lib\\site-packages (from scikit-learn>=0.20.0->LibRecommender) (0.17.0)\n",
      "Collecting tensorflow-io-gcs-filesystem>=0.21.0\n",
      "  Downloading tensorflow_io_gcs_filesystem-0.23.1-cp38-cp38-win_amd64.whl (1.5 MB)\n",
      "Collecting opt-einsum>=2.3.2\n",
      "  Downloading opt_einsum-3.3.0-py3-none-any.whl (65 kB)\n",
      "Collecting keras-preprocessing>=1.1.1\n",
      "  Downloading Keras_Preprocessing-1.1.2-py2.py3-none-any.whl (42 kB)\n",
      "Collecting flatbuffers<3.0,>=1.12\n",
      "  Downloading flatbuffers-2.0-py2.py3-none-any.whl (26 kB)\n",
      "Requirement already satisfied: typing-extensions>=3.6.6 in c:\\users\\mpilenhle\\anaconda3\\lib\\site-packages (from tensorflow>=1.14.0->LibRecommender) (3.7.4.3)\n",
      "Collecting keras<2.8,>=2.7.0rc0\n",
      "  Downloading keras-2.7.0-py2.py3-none-any.whl (1.3 MB)\n",
      "Collecting gast<0.5.0,>=0.2.1\n",
      "  Downloading gast-0.4.0-py3-none-any.whl (9.8 kB)\n",
      "Collecting astunparse>=1.6.0\n",
      "  Downloading astunparse-1.6.3-py2.py3-none-any.whl (12 kB)\n",
      "Collecting absl-py>=0.4.0\n",
      "  Downloading absl_py-1.0.0-py3-none-any.whl (126 kB)\n",
      "Collecting termcolor>=1.1.0\n",
      "  Downloading termcolor-1.1.0.tar.gz (3.9 kB)\n",
      "Requirement already satisfied: h5py>=2.9.0 in c:\\users\\mpilenhle\\anaconda3\\lib\\site-packages (from tensorflow>=1.14.0->LibRecommender) (2.10.0)\n",
      "Collecting libclang>=9.0.1\n",
      "  Downloading libclang-12.0.0-2-py2.py3-none-win_amd64.whl (13.0 MB)\n",
      "Collecting google-pasta>=0.1.1\n",
      "  Downloading google_pasta-0.2.0-py3-none-any.whl (57 kB)\n",
      "Collecting tensorboard~=2.6\n",
      "  Downloading tensorboard-2.8.0-py3-none-any.whl (5.8 MB)\n",
      "Requirement already satisfied: wheel<1.0,>=0.32.0 in c:\\users\\mpilenhle\\anaconda3\\lib\\site-packages (from tensorflow>=1.14.0->LibRecommender) (0.35.1)\n",
      "Collecting grpcio<2.0,>=1.24.3\n",
      "  Downloading grpcio-1.43.0-cp38-cp38-win_amd64.whl (3.4 MB)\n",
      "Requirement already satisfied: protobuf>=3.9.2 in c:\\users\\mpilenhle\\anaconda3\\lib\\site-packages (from tensorflow>=1.14.0->LibRecommender) (3.19.1)\n",
      "Requirement already satisfied: six>=1.12.0 in c:\\users\\mpilenhle\\anaconda3\\lib\\site-packages (from tensorflow>=1.14.0->LibRecommender) (1.15.0)\n",
      "Collecting tensorflow-estimator<2.8,~=2.7.0rc0\n",
      "  Downloading tensorflow_estimator-2.7.0-py2.py3-none-any.whl (463 kB)\n",
      "Requirement already satisfied: wrapt>=1.11.0 in c:\\users\\mpilenhle\\anaconda3\\lib\\site-packages (from tensorflow>=1.14.0->LibRecommender) (1.11.2)\n",
      "Collecting smart-open>=1.8.1\n",
      "  Downloading smart_open-5.2.1-py3-none-any.whl (58 kB)\n",
      "Requirement already satisfied: werkzeug>=0.11.15 in c:\\users\\mpilenhle\\anaconda3\\lib\\site-packages (from tensorboard~=2.6->tensorflow>=1.14.0->LibRecommender) (2.0.2)\n",
      "Collecting tensorboard-plugin-wit>=1.6.0\n",
      "  Downloading tensorboard_plugin_wit-1.8.1-py3-none-any.whl (781 kB)\n",
      "Requirement already satisfied: setuptools>=41.0.0 in c:\\users\\mpilenhle\\anaconda3\\lib\\site-packages (from tensorboard~=2.6->tensorflow>=1.14.0->LibRecommender) (50.3.1.post20201107)\n",
      "Collecting markdown>=2.6.8\n",
      "  Downloading Markdown-3.3.6-py3-none-any.whl (97 kB)\n",
      "Collecting google-auth<3,>=1.6.3\n",
      "  Downloading google_auth-2.3.3-py2.py3-none-any.whl (155 kB)\n",
      "Collecting tensorboard-data-server<0.7.0,>=0.6.0\n",
      "  Downloading tensorboard_data_server-0.6.1-py3-none-any.whl (2.4 kB)\n",
      "Requirement already satisfied: requests<3,>=2.21.0 in c:\\users\\mpilenhle\\anaconda3\\lib\\site-packages (from tensorboard~=2.6->tensorflow>=1.14.0->LibRecommender) (2.24.0)\n",
      "Collecting google-auth-oauthlib<0.5,>=0.4.1\n",
      "  Downloading google_auth_oauthlib-0.4.6-py2.py3-none-any.whl (18 kB)\n",
      "Collecting importlib-metadata>=4.4; python_version < \"3.10\"\n",
      "  Downloading importlib_metadata-4.10.1-py3-none-any.whl (17 kB)\n",
      "Collecting pyasn1-modules>=0.2.1\n",
      "  Downloading pyasn1_modules-0.2.8-py2.py3-none-any.whl (155 kB)\n",
      "Collecting rsa<5,>=3.1.4; python_version >= \"3.6\"\n",
      "  Downloading rsa-4.8-py3-none-any.whl (39 kB)\n",
      "Requirement already satisfied: cachetools<5.0,>=2.0.0 in c:\\users\\mpilenhle\\anaconda3\\lib\\site-packages (from google-auth<3,>=1.6.3->tensorboard~=2.6->tensorflow>=1.14.0->LibRecommender) (4.2.4)\n",
      "Requirement already satisfied: idna<3,>=2.5 in c:\\users\\mpilenhle\\anaconda3\\lib\\site-packages (from requests<3,>=2.21.0->tensorboard~=2.6->tensorflow>=1.14.0->LibRecommender) (2.10)\n",
      "Requirement already satisfied: urllib3!=1.25.0,!=1.25.1,<1.26,>=1.21.1 in c:\\users\\mpilenhle\\anaconda3\\lib\\site-packages (from requests<3,>=2.21.0->tensorboard~=2.6->tensorflow>=1.14.0->LibRecommender) (1.25.11)\n",
      "Requirement already satisfied: chardet<4,>=3.0.2 in c:\\users\\mpilenhle\\anaconda3\\lib\\site-packages (from requests<3,>=2.21.0->tensorboard~=2.6->tensorflow>=1.14.0->LibRecommender) (3.0.4)\n",
      "Requirement already satisfied: certifi>=2017.4.17 in c:\\users\\mpilenhle\\anaconda3\\lib\\site-packages (from requests<3,>=2.21.0->tensorboard~=2.6->tensorflow>=1.14.0->LibRecommender) (2021.10.8)\n",
      "Collecting requests-oauthlib>=0.7.0\n",
      "  Downloading requests_oauthlib-1.3.0-py2.py3-none-any.whl (23 kB)\n",
      "Requirement already satisfied: zipp>=0.5 in c:\\users\\mpilenhle\\anaconda3\\lib\\site-packages (from importlib-metadata>=4.4; python_version < \"3.10\"->markdown>=2.6.8->tensorboard~=2.6->tensorflow>=1.14.0->LibRecommender) (3.4.0)\n",
      "Collecting pyasn1<0.5.0,>=0.4.6\n",
      "  Downloading pyasn1-0.4.8-py2.py3-none-any.whl (77 kB)\n",
      "Collecting oauthlib>=3.0.0\n",
      "  Downloading oauthlib-3.1.1-py2.py3-none-any.whl (146 kB)\n",
      "Building wheels for collected packages: LibRecommender, termcolor\n",
      "  Building wheel for LibRecommender (setup.py): started\n",
      "  Building wheel for LibRecommender (setup.py): finished with status 'error'\n",
      "  Running setup.py clean for LibRecommender\n",
      "  Building wheel for termcolor (setup.py): started\n",
      "  Building wheel for termcolor (setup.py): finished with status 'done'\n",
      "  Created wheel for termcolor: filename=termcolor-1.1.0-py3-none-any.whl size=4835 sha256=c47636900afb70e17f1fe25aeae54cf1c598533a67d4c85eb539cc122a50dcb7\n",
      "  Stored in directory: c:\\users\\mpilenhle\\appdata\\local\\pip\\cache\\wheels\\a0\\16\\9c\\5473df82468f958445479c59e784896fa24f4a5fc024b0f501\n",
      "Successfully built termcolor\n",
      "Failed to build LibRecommender\n",
      "Installing collected packages: tensorflow-io-gcs-filesystem, opt-einsum, keras-preprocessing, flatbuffers, keras, gast, astunparse, absl-py, termcolor, libclang, google-pasta, tensorboard-plugin-wit, importlib-metadata, markdown, pyasn1, pyasn1-modules, rsa, google-auth, tensorboard-data-server, oauthlib, requests-oauthlib, google-auth-oauthlib, grpcio, tensorboard, tensorflow-estimator, tensorflow, smart-open, gensim, LibRecommender\n",
      "  Attempting uninstall: importlib-metadata\n",
      "    Found existing installation: importlib-metadata 2.0.0\n",
      "    Uninstalling importlib-metadata-2.0.0:\n",
      "      Successfully uninstalled importlib-metadata-2.0.0\n",
      "    Running setup.py install for LibRecommender: started\n",
      "    Running setup.py install for LibRecommender: finished with status 'error'\n"
     ]
    },
    {
     "name": "stderr",
     "output_type": "stream",
     "text": [
      "  copying libreco\\algorithms\\_bpr.cpp -> build\\lib.win-amd64-3.8\\libreco\\algorithms\n",
      "  copying libreco\\algorithms\\_bpr.pyx -> build\\lib.win-amd64-3.8\\libreco\\algorithms\n",
      "  copying libreco\\utils\\_similarities.cpp -> build\\lib.win-amd64-3.8\\libreco\\utils\n",
      "  copying libreco\\utils\\_similarities.pyx -> build\\lib.win-amd64-3.8\\libreco\\utils\n",
      "  creating build\\lib.win-amd64-3.8\\serving\\flask\\knn\n",
      "  copying serving\\flask\\knn\\knn_deploy.py -> build\\lib.win-amd64-3.8\\serving\\flask\\knn\n",
      "  copying serving\\flask\\knn\\knn_request.py -> build\\lib.win-amd64-3.8\\serving\\flask\\knn\n",
      "  creating build\\lib.win-amd64-3.8\\serving\\flask\\tf\n",
      "  copying serving\\flask\\tf\\tf_deploy.py -> build\\lib.win-amd64-3.8\\serving\\flask\\tf\n",
      "  copying serving\\flask\\tf\\tf_request.py -> build\\lib.win-amd64-3.8\\serving\\flask\\tf\n",
      "  creating build\\lib.win-amd64-3.8\\serving\\flask\\vector\n",
      "  copying serving\\flask\\vector\\vector_deploy.py -> build\\lib.win-amd64-3.8\\serving\\flask\\vector\n",
      "  copying serving\\flask\\vector\\vector_request.py -> build\\lib.win-amd64-3.8\\serving\\flask\\vector\n",
      "  running build_ext\n",
      "  building 'libreco.algorithms._bpr' extension\n",
      "  creating build\\temp.win-amd64-3.8\n",
      "  creating build\\temp.win-amd64-3.8\\Release\n",
      "  creating build\\temp.win-amd64-3.8\\Release\\libreco\n",
      "  creating build\\temp.win-amd64-3.8\\Release\\libreco\\algorithms\n",
      "  C:\\Program Files (x86)\\Microsoft Visual Studio\\2019\\BuildTools\\VC\\Tools\\MSVC\\14.29.30037\\bin\\HostX86\\x64\\cl.exe /c /nologo /Ox /W3 /GL /DNDEBUG /MD -IC:\\Users\\Mpilenhle\\anaconda3\\lib\\site-packages\\numpy\\core\\include -IC:\\Users\\Mpilenhle\\anaconda3\\include -IC:\\Users\\Mpilenhle\\anaconda3\\include \"-IC:\\Program Files (x86)\\Microsoft Visual Studio\\2019\\BuildTools\\VC\\Tools\\MSVC\\14.29.30037\\include\" /EHsc /Tplibreco\\algorithms\\_bpr.cpp /Fobuild\\temp.win-amd64-3.8\\Release\\libreco\\algorithms\\_bpr.obj /O2 /openmp\n",
      "  _bpr.cpp\n",
      "  C:\\Users\\Mpilenhle\\anaconda3\\include\\pyconfig.h(59): fatal error C1083: Cannot open include file: 'io.h': No such file or directory\n",
      "  error: command 'C:\\\\Program Files (x86)\\\\Microsoft Visual Studio\\\\2019\\\\BuildTools\\\\VC\\\\Tools\\\\MSVC\\\\14.29.30037\\\\bin\\\\HostX86\\\\x64\\\\cl.exe' failed with exit status 2\n",
      "  ----------------------------------------\n",
      "  ERROR: Failed building wheel for LibRecommender\n",
      "    ERROR: Command errored out with exit status 1:\n",
      "     command: 'C:\\Users\\Mpilenhle\\anaconda3\\python.exe' -u -c 'import sys, setuptools, tokenize; sys.argv[0] = '\"'\"'C:\\\\Users\\\\Mpilenhle\\\\AppData\\\\Local\\\\Temp\\\\pip-install-p4j038js\\\\librecommender\\\\setup.py'\"'\"'; __file__='\"'\"'C:\\\\Users\\\\Mpilenhle\\\\AppData\\\\Local\\\\Temp\\\\pip-install-p4j038js\\\\librecommender\\\\setup.py'\"'\"';f=getattr(tokenize, '\"'\"'open'\"'\"', open)(__file__);code=f.read().replace('\"'\"'\\r\\n'\"'\"', '\"'\"'\\n'\"'\"');f.close();exec(compile(code, __file__, '\"'\"'exec'\"'\"'))' install --record 'C:\\Users\\Mpilenhle\\AppData\\Local\\Temp\\pip-record-sppjzlpi\\install-record.txt' --single-version-externally-managed --compile --install-headers 'C:\\Users\\Mpilenhle\\anaconda3\\Include\\LibRecommender'\n",
      "         cwd: C:\\Users\\Mpilenhle\\AppData\\Local\\Temp\\pip-install-p4j038js\\librecommender\\\n",
      "    Complete output (103 lines):\n",
      "    running install\n",
      "    running build\n",
      "    running build_py\n",
      "    creating build\n",
      "    creating build\\lib.win-amd64-3.8\n",
      "    creating build\\lib.win-amd64-3.8\\libreco\n",
      "    copying libreco\\__init__.py -> build\\lib.win-amd64-3.8\\libreco\n",
      "    creating build\\lib.win-amd64-3.8\\serving\n",
      "    copying serving\\__init__.py -> build\\lib.win-amd64-3.8\\serving\n",
      "    creating build\\lib.win-amd64-3.8\\libreco\\algorithms\n",
      "    copying libreco\\algorithms\\als.py -> build\\lib.win-amd64-3.8\\libreco\\algorithms\n",
      "    copying libreco\\algorithms\\autoint.py -> build\\lib.win-amd64-3.8\\libreco\\algorithms\n",
      "    copying libreco\\algorithms\\base.py -> build\\lib.win-amd64-3.8\\libreco\\algorithms\n",
      "    copying libreco\\algorithms\\bpr.py -> build\\lib.win-amd64-3.8\\libreco\\algorithms\n",
      "    copying libreco\\algorithms\\caser.py -> build\\lib.win-amd64-3.8\\libreco\\algorithms\n",
      "    copying libreco\\algorithms\\deepfm.py -> build\\lib.win-amd64-3.8\\libreco\\algorithms\n",
      "    copying libreco\\algorithms\\din.py -> build\\lib.win-amd64-3.8\\libreco\\algorithms\n",
      "    copying libreco\\algorithms\\fm.py -> build\\lib.win-amd64-3.8\\libreco\\algorithms\n",
      "    copying libreco\\algorithms\\item_cf.py -> build\\lib.win-amd64-3.8\\libreco\\algorithms\n",
      "    copying libreco\\algorithms\\knn_embed.py -> build\\lib.win-amd64-3.8\\libreco\\algorithms\n",
      "    copying libreco\\algorithms\\ncf.py -> build\\lib.win-amd64-3.8\\libreco\\algorithms\n",
      "    copying libreco\\algorithms\\rnn4rec.py -> build\\lib.win-amd64-3.8\\libreco\\algorithms\n",
      "    copying libreco\\algorithms\\svd.py -> build\\lib.win-amd64-3.8\\libreco\\algorithms\n",
      "    copying libreco\\algorithms\\svdpp.py -> build\\lib.win-amd64-3.8\\libreco\\algorithms\n",
      "    copying libreco\\algorithms\\user_cf.py -> build\\lib.win-amd64-3.8\\libreco\\algorithms\n",
      "    copying libreco\\algorithms\\wave_net.py -> build\\lib.win-amd64-3.8\\libreco\\algorithms\n",
      "    copying libreco\\algorithms\\wide_deep.py -> build\\lib.win-amd64-3.8\\libreco\\algorithms\n",
      "    copying libreco\\algorithms\\youtube_match.py -> build\\lib.win-amd64-3.8\\libreco\\algorithms\n",
      "    copying libreco\\algorithms\\youtube_ranking.py -> build\\lib.win-amd64-3.8\\libreco\\algorithms\n",
      "    copying libreco\\algorithms\\__init__.py -> build\\lib.win-amd64-3.8\\libreco\\algorithms\n",
      "    creating build\\lib.win-amd64-3.8\\libreco\\data\n",
      "    copying libreco\\data\\dataset.py -> build\\lib.win-amd64-3.8\\libreco\\data\n",
      "    copying libreco\\data\\data_generator.py -> build\\lib.win-amd64-3.8\\libreco\\data\n",
      "    copying libreco\\data\\data_info.py -> build\\lib.win-amd64-3.8\\libreco\\data\n",
      "    copying libreco\\data\\processing.py -> build\\lib.win-amd64-3.8\\libreco\\data\n",
      "    copying libreco\\data\\sequence.py -> build\\lib.win-amd64-3.8\\libreco\\data\n",
      "    copying libreco\\data\\split.py -> build\\lib.win-amd64-3.8\\libreco\\data\n",
      "    copying libreco\\data\\transformed.py -> build\\lib.win-amd64-3.8\\libreco\\data\n",
      "    copying libreco\\data\\__init__.py -> build\\lib.win-amd64-3.8\\libreco\\data\n",
      "    creating build\\lib.win-amd64-3.8\\libreco\\embedding\n",
      "    copying libreco\\embedding\\item2vec.py -> build\\lib.win-amd64-3.8\\libreco\\embedding\n",
      "    copying libreco\\embedding\\__init__.py -> build\\lib.win-amd64-3.8\\libreco\\embedding\n",
      "    creating build\\lib.win-amd64-3.8\\libreco\\evaluation\n",
      "    copying libreco\\evaluation\\computation.py -> build\\lib.win-amd64-3.8\\libreco\\evaluation\n",
      "    copying libreco\\evaluation\\evaluate.py -> build\\lib.win-amd64-3.8\\libreco\\evaluation\n",
      "    copying libreco\\evaluation\\metrics.py -> build\\lib.win-amd64-3.8\\libreco\\evaluation\n",
      "    copying libreco\\evaluation\\__init__.py -> build\\lib.win-amd64-3.8\\libreco\\evaluation\n",
      "    creating build\\lib.win-amd64-3.8\\libreco\\feature\n",
      "    copying libreco\\feature\\column.py -> build\\lib.win-amd64-3.8\\libreco\\feature\n",
      "    copying libreco\\feature\\column_mapping.py -> build\\lib.win-amd64-3.8\\libreco\\feature\n",
      "    copying libreco\\feature\\unique_features.py -> build\\lib.win-amd64-3.8\\libreco\\feature\n",
      "    copying libreco\\feature\\__init__.py -> build\\lib.win-amd64-3.8\\libreco\\feature\n",
      "    creating build\\lib.win-amd64-3.8\\libreco\\utils\n",
      "    copying libreco\\utils\\exception.py -> build\\lib.win-amd64-3.8\\libreco\\utils\n",
      "    copying libreco\\utils\\initializers.py -> build\\lib.win-amd64-3.8\\libreco\\utils\n",
      "    copying libreco\\utils\\misc.py -> build\\lib.win-amd64-3.8\\libreco\\utils\n",
      "    copying libreco\\utils\\sampling.py -> build\\lib.win-amd64-3.8\\libreco\\utils\n",
      "    copying libreco\\utils\\serialization.py -> build\\lib.win-amd64-3.8\\libreco\\utils\n",
      "    copying libreco\\utils\\similarities.py -> build\\lib.win-amd64-3.8\\libreco\\utils\n",
      "    copying libreco\\utils\\tf_ops.py -> build\\lib.win-amd64-3.8\\libreco\\utils\n",
      "    copying libreco\\utils\\__init__.py -> build\\lib.win-amd64-3.8\\libreco\\utils\n",
      "    creating build\\lib.win-amd64-3.8\\serving\\flask\n",
      "    copying serving\\flask\\colorize.py -> build\\lib.win-amd64-3.8\\serving\\flask\n",
      "    copying serving\\flask\\save_faiss.py -> build\\lib.win-amd64-3.8\\serving\\flask\n",
      "    copying serving\\flask\\save_redis.py -> build\\lib.win-amd64-3.8\\serving\\flask\n",
      "    copying serving\\flask\\__init__.py -> build\\lib.win-amd64-3.8\\serving\\flask\n",
      "    running egg_info\n",
      "    writing LibRecommender.egg-info\\PKG-INFO\n",
      "    writing dependency_links to LibRecommender.egg-info\\dependency_links.txt\n",
      "    writing requirements to LibRecommender.egg-info\\requires.txt\n",
      "    writing top-level names to LibRecommender.egg-info\\top_level.txt\n",
      "    reading manifest file 'LibRecommender.egg-info\\SOURCES.txt'\n",
      "    reading manifest template 'MANIFEST.in'\n",
      "    warning: no files found matching '*.c' under directory 'libreco'\n",
      "    warning: no files found matching '*.sh' under directory 'serving'\n",
      "    warning: no previously-included files matching '*' found under directory 'examples'\n",
      "    warning: no previously-included files matching '*' found under directory 'distributed'\n",
      "    writing manifest file 'LibRecommender.egg-info\\SOURCES.txt'\n",
      "    copying libreco\\algorithms\\_als.cpp -> build\\lib.win-amd64-3.8\\libreco\\algorithms\n",
      "    copying libreco\\algorithms\\_als.pyx -> build\\lib.win-amd64-3.8\\libreco\\algorithms\n",
      "    copying libreco\\algorithms\\_bpr.cpp -> build\\lib.win-amd64-3.8\\libreco\\algorithms\n",
      "    copying libreco\\algorithms\\_bpr.pyx -> build\\lib.win-amd64-3.8\\libreco\\algorithms\n",
      "    copying libreco\\utils\\_similarities.cpp -> build\\lib.win-amd64-3.8\\libreco\\utils\n",
      "    copying libreco\\utils\\_similarities.pyx -> build\\lib.win-amd64-3.8\\libreco\\utils\n",
      "    creating build\\lib.win-amd64-3.8\\serving\\flask\\knn\n",
      "    copying serving\\flask\\knn\\knn_deploy.py -> build\\lib.win-amd64-3.8\\serving\\flask\\knn\n",
      "    copying serving\\flask\\knn\\knn_request.py -> build\\lib.win-amd64-3.8\\serving\\flask\\knn\n",
      "    creating build\\lib.win-amd64-3.8\\serving\\flask\\tf\n",
      "    copying serving\\flask\\tf\\tf_deploy.py -> build\\lib.win-amd64-3.8\\serving\\flask\\tf\n",
      "    copying serving\\flask\\tf\\tf_request.py -> build\\lib.win-amd64-3.8\\serving\\flask\\tf\n",
      "    creating build\\lib.win-amd64-3.8\\serving\\flask\\vector\n",
      "    copying serving\\flask\\vector\\vector_deploy.py -> build\\lib.win-amd64-3.8\\serving\\flask\\vector\n",
      "    copying serving\\flask\\vector\\vector_request.py -> build\\lib.win-amd64-3.8\\serving\\flask\\vector\n",
      "    running build_ext\n",
      "    building 'libreco.algorithms._bpr' extension\n",
      "    creating build\\temp.win-amd64-3.8\n",
      "    creating build\\temp.win-amd64-3.8\\Release\n",
      "    creating build\\temp.win-amd64-3.8\\Release\\libreco\n",
      "    creating build\\temp.win-amd64-3.8\\Release\\libreco\\algorithms\n",
      "    C:\\Program Files (x86)\\Microsoft Visual Studio\\2019\\BuildTools\\VC\\Tools\\MSVC\\14.29.30037\\bin\\HostX86\\x64\\cl.exe /c /nologo /Ox /W3 /GL /DNDEBUG /MD -IC:\\Users\\Mpilenhle\\anaconda3\\lib\\site-packages\\numpy\\core\\include -IC:\\Users\\Mpilenhle\\anaconda3\\include -IC:\\Users\\Mpilenhle\\anaconda3\\include \"-IC:\\Program Files (x86)\\Microsoft Visual Studio\\2019\\BuildTools\\VC\\Tools\\MSVC\\14.29.30037\\include\" /EHsc /Tplibreco\\algorithms\\_bpr.cpp /Fobuild\\temp.win-amd64-3.8\\Release\\libreco\\algorithms\\_bpr.obj /O2 /openmp\n",
      "    _bpr.cpp\n",
      "    C:\\Users\\Mpilenhle\\anaconda3\\include\\pyconfig.h(59): fatal error C1083: Cannot open include file: 'io.h': No such file or directory\n",
      "    error: command 'C:\\\\Program Files (x86)\\\\Microsoft Visual Studio\\\\2019\\\\BuildTools\\\\VC\\\\Tools\\\\MSVC\\\\14.29.30037\\\\bin\\\\HostX86\\\\x64\\\\cl.exe' failed with exit status 2\n",
      "    ----------------------------------------\n",
      "ERROR: Command errored out with exit status 1: 'C:\\Users\\Mpilenhle\\anaconda3\\python.exe' -u -c 'import sys, setuptools, tokenize; sys.argv[0] = '\"'\"'C:\\\\Users\\\\Mpilenhle\\\\AppData\\\\Local\\\\Temp\\\\pip-install-p4j038js\\\\librecommender\\\\setup.py'\"'\"'; __file__='\"'\"'C:\\\\Users\\\\Mpilenhle\\\\AppData\\\\Local\\\\Temp\\\\pip-install-p4j038js\\\\librecommender\\\\setup.py'\"'\"';f=getattr(tokenize, '\"'\"'open'\"'\"', open)(__file__);code=f.read().replace('\"'\"'\\r\\n'\"'\"', '\"'\"'\\n'\"'\"');f.close();exec(compile(code, __file__, '\"'\"'exec'\"'\"'))' install --record 'C:\\Users\\Mpilenhle\\AppData\\Local\\Temp\\pip-record-sppjzlpi\\install-record.txt' --single-version-externally-managed --compile --install-headers 'C:\\Users\\Mpilenhle\\anaconda3\\Include\\LibRecommender' Check the logs for full command output.\n"
     ]
    },
    {
     "name": "stdout",
     "output_type": "stream",
     "text": [
      "Collecting surprise\n",
      "  Using cached surprise-0.1-py2.py3-none-any.whl (1.8 kB)\n",
      "Requirement already satisfied: scikit-surprise in c:\\users\\mpilenhle\\anaconda3\\lib\\site-packages (from surprise) (1.1.1)\n",
      "Requirement already satisfied: joblib>=0.11 in c:\\users\\mpilenhle\\anaconda3\\lib\\site-packages (from scikit-surprise->surprise) (0.17.0)\n",
      "Requirement already satisfied: numpy>=1.11.2 in c:\\users\\mpilenhle\\anaconda3\\lib\\site-packages (from scikit-surprise->surprise) (1.19.5)\n",
      "Requirement already satisfied: scipy>=1.0.0 in c:\\users\\mpilenhle\\anaconda3\\lib\\site-packages (from scikit-surprise->surprise) (1.5.2)\n",
      "Requirement already satisfied: six>=1.10.0 in c:\\users\\mpilenhle\\anaconda3\\lib\\site-packages (from scikit-surprise->surprise) (1.15.0)\n",
      "Installing collected packages: surprise\n",
      "Successfully installed surprise-0.1\n"
     ]
    }
   ],
   "source": [
    "!pip install LibRecommender\n",
    "!pip install surprise\n",
    "#!pip install comet_ml\n",
    "#!pip install seaborn\n",
    "#!pip install wordcloud\n"
   ]
  },
  {
   "cell_type": "code",
   "execution_count": 179,
   "metadata": {},
   "outputs": [
    {
     "data": {
      "text/html": [
       "<div>\n",
       "<style scoped>\n",
       "    .dataframe tbody tr th:only-of-type {\n",
       "        vertical-align: middle;\n",
       "    }\n",
       "\n",
       "    .dataframe tbody tr th {\n",
       "        vertical-align: top;\n",
       "    }\n",
       "\n",
       "    .dataframe thead th {\n",
       "        text-align: right;\n",
       "    }\n",
       "</style>\n",
       "<table border=\"1\" class=\"dataframe\">\n",
       "  <thead>\n",
       "    <tr style=\"text-align: right;\">\n",
       "      <th></th>\n",
       "      <th>userId</th>\n",
       "      <th>movieId</th>\n",
       "      <th>rating</th>\n",
       "      <th>timestamp</th>\n",
       "    </tr>\n",
       "  </thead>\n",
       "  <tbody>\n",
       "    <tr>\n",
       "      <th>0</th>\n",
       "      <td>5163</td>\n",
       "      <td>57669</td>\n",
       "      <td>4.0</td>\n",
       "      <td>1518349992</td>\n",
       "    </tr>\n",
       "  </tbody>\n",
       "</table>\n",
       "</div>"
      ],
      "text/plain": [
       "   userId  movieId  rating   timestamp\n",
       "0    5163    57669     4.0  1518349992"
      ]
     },
     "execution_count": 179,
     "metadata": {},
     "output_type": "execute_result"
    }
   ],
   "source": [
    "train_data.head(1)"
   ]
  },
  {
   "cell_type": "code",
   "execution_count": 184,
   "metadata": {},
   "outputs": [],
   "source": [
    "# Load the 100k dataset\n",
    "tests = train_data.copy()\n",
    "train_data.drop('timestamp', axis=1, inplace=True)\n",
    "train_subset = train_data[:100000]\n",
    "reader = Reader(rating_scale=(train_subset['rating'].min(), train_subset['rating'].max()))\n",
    "data = Dataset.load_from_df(train_subset[['userId', 'movieId', 'rating']], reader)\n",
    "trainset, testset = train_test_split(data, test_size=.25, random_state=42)"
   ]
  },
  {
   "cell_type": "markdown",
   "metadata": {},
   "source": [
    "A factorization of a matrix into three matrices is called Singular Value Decomposition (SVD). It possesses some interesting algebraic characteristics and communicates important geometrical and theoretical insights into linear transformations.\n",
    " \n",
    "The SVD-like model in Python's Surprise-package does not determine the SVD factors, but rather sets an optimisation problem for the matrix factors, this is done to account for sparsity of matrix also. It assumes that ratings matrix can be appriximated by product of 2 factors. These matrix factors are assumed to create latent features becuase they too, like in PCA, describe the features of matrix in a different feature space."
   ]
  },
  {
   "cell_type": "code",
   "execution_count": 185,
   "metadata": {},
   "outputs": [
    {
     "name": "stdout",
     "output_type": "stream",
     "text": [
      "RMSE: 0.9824\n"
     ]
    }
   ],
   "source": [
    "svd_sub = SVD()\n",
    "svd_sub.fit(trainset)\n",
    "svd_pred = svd_sub.test(testset)\n",
    "\n",
    "# Model Preformance\n",
    "svd_rmse = accuracy.rmse(svd_pred)"
   ]
  },
  {
   "cell_type": "markdown",
   "metadata": {},
   "source": [
    "#### SVD ++\n",
    "\n",
    "This is an extension of SVD but takes into account implicite ratings (i.e. whether a user rated item of interest or not, regardless of rating)."
   ]
  },
  {
   "cell_type": "code",
   "execution_count": 186,
   "metadata": {},
   "outputs": [
    {
     "name": "stdout",
     "output_type": "stream",
     "text": [
      "RMSE: 0.9786\n"
     ]
    }
   ],
   "source": [
    "svdpp_sub = SVDpp()\n",
    "svdpp_sub.fit(trainset)\n",
    "svdpp_pred = svdpp_sub.test(testset)\n",
    "\n",
    "# Model Preformance\n",
    "\n",
    "svdpp_rmse = accuracy.rmse(svdpp_pred)"
   ]
  },
  {
   "cell_type": "code",
   "execution_count": null,
   "metadata": {},
   "outputs": [],
   "source": []
  },
  {
   "cell_type": "code",
   "execution_count": null,
   "metadata": {},
   "outputs": [],
   "source": []
  },
  {
   "cell_type": "code",
   "execution_count": null,
   "metadata": {},
   "outputs": [],
   "source": []
  },
  {
   "cell_type": "markdown",
   "metadata": {},
   "source": [
    "<a id=\"seven\"></a>\n",
    "## 7. Model Performance\n",
    "<a class=\"anchor\" id=\"1.1\"></a>\n",
    "<a href=#cont>Back to Table of Contents</a>"
   ]
  },
  {
   "cell_type": "code",
   "execution_count": 124,
   "metadata": {},
   "outputs": [
    {
     "data": {
      "text/html": [
       "<div>\n",
       "<style scoped>\n",
       "    .dataframe tbody tr th:only-of-type {\n",
       "        vertical-align: middle;\n",
       "    }\n",
       "\n",
       "    .dataframe tbody tr th {\n",
       "        vertical-align: top;\n",
       "    }\n",
       "\n",
       "    .dataframe thead th {\n",
       "        text-align: right;\n",
       "    }\n",
       "</style>\n",
       "<table border=\"1\" class=\"dataframe\">\n",
       "  <thead>\n",
       "    <tr style=\"text-align: right;\">\n",
       "      <th></th>\n",
       "      <th>userId</th>\n",
       "      <th>movieId</th>\n",
       "      <th>rating</th>\n",
       "      <th>timestamp</th>\n",
       "      <th>title</th>\n",
       "      <th>genres</th>\n",
       "      <th>director</th>\n",
       "      <th>plot_keywords</th>\n",
       "      <th>title_cast_short</th>\n",
       "      <th>combo_feature</th>\n",
       "    </tr>\n",
       "  </thead>\n",
       "  <tbody>\n",
       "    <tr>\n",
       "      <th>1159</th>\n",
       "      <td>57924</td>\n",
       "      <td>6</td>\n",
       "      <td>4.0</td>\n",
       "      <td>1404600032</td>\n",
       "      <td>heat (1995)</td>\n",
       "      <td>action crime thriller</td>\n",
       "      <td>michaelmann</td>\n",
       "      <td>gun battle organized crime honor criminal inve...</td>\n",
       "      <td>alpacino robertdeniro valkilmer</td>\n",
       "      <td>action crime thriller michaelmann gun battle o...</td>\n",
       "    </tr>\n",
       "    <tr>\n",
       "      <th>2577</th>\n",
       "      <td>3367</td>\n",
       "      <td>6</td>\n",
       "      <td>4.0</td>\n",
       "      <td>1103955336</td>\n",
       "      <td>heat (1995)</td>\n",
       "      <td>action crime thriller</td>\n",
       "      <td>michaelmann</td>\n",
       "      <td>gun battle organized crime honor criminal inve...</td>\n",
       "      <td>alpacino robertdeniro valkilmer</td>\n",
       "      <td>action crime thriller michaelmann gun battle o...</td>\n",
       "    </tr>\n",
       "    <tr>\n",
       "      <th>4017</th>\n",
       "      <td>146358</td>\n",
       "      <td>6</td>\n",
       "      <td>5.0</td>\n",
       "      <td>861801638</td>\n",
       "      <td>heat (1995)</td>\n",
       "      <td>action crime thriller</td>\n",
       "      <td>michaelmann</td>\n",
       "      <td>gun battle organized crime honor criminal inve...</td>\n",
       "      <td>alpacino robertdeniro valkilmer</td>\n",
       "      <td>action crime thriller michaelmann gun battle o...</td>\n",
       "    </tr>\n",
       "    <tr>\n",
       "      <th>5374</th>\n",
       "      <td>54309</td>\n",
       "      <td>6</td>\n",
       "      <td>4.0</td>\n",
       "      <td>1481712145</td>\n",
       "      <td>heat (1995)</td>\n",
       "      <td>action crime thriller</td>\n",
       "      <td>michaelmann</td>\n",
       "      <td>gun battle organized crime honor criminal inve...</td>\n",
       "      <td>alpacino robertdeniro valkilmer</td>\n",
       "      <td>action crime thriller michaelmann gun battle o...</td>\n",
       "    </tr>\n",
       "    <tr>\n",
       "      <th>6303</th>\n",
       "      <td>64236</td>\n",
       "      <td>6</td>\n",
       "      <td>4.0</td>\n",
       "      <td>980196777</td>\n",
       "      <td>heat (1995)</td>\n",
       "      <td>action crime thriller</td>\n",
       "      <td>michaelmann</td>\n",
       "      <td>gun battle organized crime honor criminal inve...</td>\n",
       "      <td>alpacino robertdeniro valkilmer</td>\n",
       "      <td>action crime thriller michaelmann gun battle o...</td>\n",
       "    </tr>\n",
       "    <tr>\n",
       "      <th>7133</th>\n",
       "      <td>132746</td>\n",
       "      <td>6</td>\n",
       "      <td>5.0</td>\n",
       "      <td>988150607</td>\n",
       "      <td>heat (1995)</td>\n",
       "      <td>action crime thriller</td>\n",
       "      <td>michaelmann</td>\n",
       "      <td>gun battle organized crime honor criminal inve...</td>\n",
       "      <td>alpacino robertdeniro valkilmer</td>\n",
       "      <td>action crime thriller michaelmann gun battle o...</td>\n",
       "    </tr>\n",
       "    <tr>\n",
       "      <th>7583</th>\n",
       "      <td>125129</td>\n",
       "      <td>6</td>\n",
       "      <td>5.0</td>\n",
       "      <td>832584883</td>\n",
       "      <td>heat (1995)</td>\n",
       "      <td>action crime thriller</td>\n",
       "      <td>michaelmann</td>\n",
       "      <td>gun battle organized crime honor criminal inve...</td>\n",
       "      <td>alpacino robertdeniro valkilmer</td>\n",
       "      <td>action crime thriller michaelmann gun battle o...</td>\n",
       "    </tr>\n",
       "  </tbody>\n",
       "</table>\n",
       "</div>"
      ],
      "text/plain": [
       "      userId  movieId  rating   timestamp        title                 genres  \\\n",
       "1159   57924        6     4.0  1404600032  heat (1995)  action crime thriller   \n",
       "2577    3367        6     4.0  1103955336  heat (1995)  action crime thriller   \n",
       "4017  146358        6     5.0   861801638  heat (1995)  action crime thriller   \n",
       "5374   54309        6     4.0  1481712145  heat (1995)  action crime thriller   \n",
       "6303   64236        6     4.0   980196777  heat (1995)  action crime thriller   \n",
       "7133  132746        6     5.0   988150607  heat (1995)  action crime thriller   \n",
       "7583  125129        6     5.0   832584883  heat (1995)  action crime thriller   \n",
       "\n",
       "         director                                      plot_keywords  \\\n",
       "1159  michaelmann  gun battle organized crime honor criminal inve...   \n",
       "2577  michaelmann  gun battle organized crime honor criminal inve...   \n",
       "4017  michaelmann  gun battle organized crime honor criminal inve...   \n",
       "5374  michaelmann  gun battle organized crime honor criminal inve...   \n",
       "6303  michaelmann  gun battle organized crime honor criminal inve...   \n",
       "7133  michaelmann  gun battle organized crime honor criminal inve...   \n",
       "7583  michaelmann  gun battle organized crime honor criminal inve...   \n",
       "\n",
       "                     title_cast_short  \\\n",
       "1159  alpacino robertdeniro valkilmer   \n",
       "2577  alpacino robertdeniro valkilmer   \n",
       "4017  alpacino robertdeniro valkilmer   \n",
       "5374  alpacino robertdeniro valkilmer   \n",
       "6303  alpacino robertdeniro valkilmer   \n",
       "7133  alpacino robertdeniro valkilmer   \n",
       "7583  alpacino robertdeniro valkilmer   \n",
       "\n",
       "                                          combo_feature  \n",
       "1159  action crime thriller michaelmann gun battle o...  \n",
       "2577  action crime thriller michaelmann gun battle o...  \n",
       "4017  action crime thriller michaelmann gun battle o...  \n",
       "5374  action crime thriller michaelmann gun battle o...  \n",
       "6303  action crime thriller michaelmann gun battle o...  \n",
       "7133  action crime thriller michaelmann gun battle o...  \n",
       "7583  action crime thriller michaelmann gun battle o...  "
      ]
     },
     "execution_count": 124,
     "metadata": {},
     "output_type": "execute_result"
    }
   ],
   "source": [
    "# Subset of ratings from user 314\n",
    "rating_data[rating_data['movieId'] == 6][3:10]"
   ]
  },
  {
   "cell_type": "code",
   "execution_count": 130,
   "metadata": {},
   "outputs": [
    {
     "name": "stdout",
     "output_type": "stream",
     "text": [
      "Title - heat (1995)\n",
      "---\n",
      "Actual rating: \t\t 4.0\n",
      "Predicted rating: \t 3.9730908098370388\n"
     ]
    }
   ],
   "source": [
    "title = \"heat (1995)\"\n",
    "actual_rating = rating_data[(rating_data['userId'] == 3367) & (rating_data['title'] == title)]['rating'].values[0]\n",
    "pred_rating = content_generate_rating_estimate(movie_title=title, user=3367, rating_data=rating_data)\n",
    "print (f\"Title - {title}\")\n",
    "print (\"---\")\n",
    "print (f\"Actual rating: \\t\\t {actual_rating}\")\n",
    "print (f\"Predicted rating: \\t {pred_rating}\")"
   ]
  },
  {
   "cell_type": "code",
   "execution_count": 177,
   "metadata": {},
   "outputs": [
    {
     "name": "stdout",
     "output_type": "stream",
     "text": [
      "Title - heat (1995)\n",
      "---\n",
      "Actual rating: \t\t 5.0\n",
      "Predicted rating: \t 4.975140255393156\n"
     ]
    }
   ],
   "source": [
    "title = \"heat (1995)\"\n",
    "actual_rating = rating_data[(rating_data['userId'] == 146358) & (rating_data['title'] == title)]['rating'].values[0]\n",
    "pred_rating = content_generate_rating_estimate(movie_title=title, user = 146358, rating_data=rating_data)\n",
    "print (f\"Title - {title}\")\n",
    "print (\"---\")\n",
    "print (f\"Actual rating: \\t\\t {actual_rating}\")\n",
    "print (f\"Predicted rating: \\t {pred_rating}\")"
   ]
  },
  {
   "cell_type": "code",
   "execution_count": null,
   "metadata": {},
   "outputs": [],
   "source": [
    "title = \"Glory (1995)\"\n",
    "actual_rating = rating_data[(rating_data['userId'] == 132746) & (rating_data['title'] == title)]['rating'].values[0]\n",
    "pred_rating = content_generate_rating_estimate(movie_title=title, user = 132746, rating_data=rating_data)\n",
    "print (f\"Title - {title}\")\n",
    "print (\"---\")\n",
    "print (f\"Actual rating: \\t\\t {actual_rating}\")\n",
    "print (f\"Predicted rating: \\t {pred_rating}\")"
   ]
  },
  {
   "cell_type": "markdown",
   "metadata": {},
   "source": [
    "## collaborative model perfomance"
   ]
  },
  {
   "cell_type": "markdown",
   "metadata": {},
   "source": [
    "## Submission"
   ]
  },
  {
   "cell_type": "code",
   "execution_count": 133,
   "metadata": {},
   "outputs": [
    {
     "data": {
      "text/html": [
       "<div>\n",
       "<style scoped>\n",
       "    .dataframe tbody tr th:only-of-type {\n",
       "        vertical-align: middle;\n",
       "    }\n",
       "\n",
       "    .dataframe tbody tr th {\n",
       "        vertical-align: top;\n",
       "    }\n",
       "\n",
       "    .dataframe thead th {\n",
       "        text-align: right;\n",
       "    }\n",
       "</style>\n",
       "<table border=\"1\" class=\"dataframe\">\n",
       "  <thead>\n",
       "    <tr style=\"text-align: right;\">\n",
       "      <th></th>\n",
       "      <th>userId</th>\n",
       "      <th>movieId</th>\n",
       "      <th>rating</th>\n",
       "      <th>timestamp</th>\n",
       "      <th>title</th>\n",
       "      <th>genres</th>\n",
       "      <th>director</th>\n",
       "      <th>plot_keywords</th>\n",
       "      <th>title_cast_short</th>\n",
       "      <th>combo_feature</th>\n",
       "    </tr>\n",
       "  </thead>\n",
       "  <tbody>\n",
       "    <tr>\n",
       "      <th>0</th>\n",
       "      <td>5163</td>\n",
       "      <td>57669</td>\n",
       "      <td>4.0</td>\n",
       "      <td>1518349992</td>\n",
       "      <td>in bruges (2008)</td>\n",
       "      <td>comedy crime drama thriller</td>\n",
       "      <td>martinmcdonagh</td>\n",
       "      <td>dwarf bruges irish hitman</td>\n",
       "      <td>elizabethberrington rudyblomme olivierbonjour</td>\n",
       "      <td>comedy crime drama thriller martinmcdonagh dwa...</td>\n",
       "    </tr>\n",
       "    <tr>\n",
       "      <th>1</th>\n",
       "      <td>106343</td>\n",
       "      <td>5</td>\n",
       "      <td>4.5</td>\n",
       "      <td>1206238739</td>\n",
       "      <td>father of the bride part ii (1995)</td>\n",
       "      <td>comedy</td>\n",
       "      <td>alberthackett</td>\n",
       "      <td>fatherhood doberman dog mansion</td>\n",
       "      <td>stevemartin dianekeaton martinshort</td>\n",
       "      <td>comedy alberthackett fatherhood doberman dog m...</td>\n",
       "    </tr>\n",
       "  </tbody>\n",
       "</table>\n",
       "</div>"
      ],
      "text/plain": [
       "   userId  movieId  rating   timestamp                               title  \\\n",
       "0    5163    57669     4.0  1518349992                    in bruges (2008)   \n",
       "1  106343        5     4.5  1206238739  father of the bride part ii (1995)   \n",
       "\n",
       "                        genres        director  \\\n",
       "0  comedy crime drama thriller  martinmcdonagh   \n",
       "1                       comedy   alberthackett   \n",
       "\n",
       "                     plot_keywords  \\\n",
       "0        dwarf bruges irish hitman   \n",
       "1  fatherhood doberman dog mansion   \n",
       "\n",
       "                                title_cast_short  \\\n",
       "0  elizabethberrington rudyblomme olivierbonjour   \n",
       "1            stevemartin dianekeaton martinshort   \n",
       "\n",
       "                                       combo_feature  \n",
       "0  comedy crime drama thriller martinmcdonagh dwa...  \n",
       "1  comedy alberthackett fatherhood doberman dog m...  "
      ]
     },
     "execution_count": 133,
     "metadata": {},
     "output_type": "execute_result"
    }
   ],
   "source": [
    "rating_data.head(2)"
   ]
  },
  {
   "cell_type": "code",
   "execution_count": 162,
   "metadata": {},
   "outputs": [],
   "source": [
    "rating_data_test = rating_data[['userId', 'movieId', 'title', 'combo_feature']]"
   ]
  },
  {
   "cell_type": "code",
   "execution_count": 163,
   "metadata": {},
   "outputs": [
    {
     "data": {
      "text/html": [
       "<div>\n",
       "<style scoped>\n",
       "    .dataframe tbody tr th:only-of-type {\n",
       "        vertical-align: middle;\n",
       "    }\n",
       "\n",
       "    .dataframe tbody tr th {\n",
       "        vertical-align: top;\n",
       "    }\n",
       "\n",
       "    .dataframe thead th {\n",
       "        text-align: right;\n",
       "    }\n",
       "</style>\n",
       "<table border=\"1\" class=\"dataframe\">\n",
       "  <thead>\n",
       "    <tr style=\"text-align: right;\">\n",
       "      <th></th>\n",
       "      <th>userId</th>\n",
       "      <th>movieId</th>\n",
       "      <th>title</th>\n",
       "      <th>combo_feature</th>\n",
       "    </tr>\n",
       "  </thead>\n",
       "  <tbody>\n",
       "    <tr>\n",
       "      <th>0</th>\n",
       "      <td>5163</td>\n",
       "      <td>57669</td>\n",
       "      <td>in bruges (2008)</td>\n",
       "      <td>comedy crime drama thriller martinmcdonagh dwa...</td>\n",
       "    </tr>\n",
       "    <tr>\n",
       "      <th>1</th>\n",
       "      <td>106343</td>\n",
       "      <td>5</td>\n",
       "      <td>father of the bride part ii (1995)</td>\n",
       "      <td>comedy alberthackett fatherhood doberman dog m...</td>\n",
       "    </tr>\n",
       "    <tr>\n",
       "      <th>2</th>\n",
       "      <td>146790</td>\n",
       "      <td>5459</td>\n",
       "      <td>men in black ii (a.k.a. miib) (a.k.a. mib 2) (...</td>\n",
       "      <td>action comedy sci-fi lowellcunningham lingerie...</td>\n",
       "    </tr>\n",
       "    <tr>\n",
       "      <th>3</th>\n",
       "      <td>106362</td>\n",
       "      <td>32296</td>\n",
       "      <td>miss congeniality 2: armed and fabulous (2005)</td>\n",
       "      <td>adventure comedy crime marclawrence female pro...</td>\n",
       "    </tr>\n",
       "    <tr>\n",
       "      <th>4</th>\n",
       "      <td>9041</td>\n",
       "      <td>366</td>\n",
       "      <td>wes craven's new nightmare (nightmare on elm s...</td>\n",
       "      <td>drama horror mystery thriller wescraven freddy...</td>\n",
       "    </tr>\n",
       "  </tbody>\n",
       "</table>\n",
       "</div>"
      ],
      "text/plain": [
       "   userId  movieId                                              title  \\\n",
       "0    5163    57669                                   in bruges (2008)   \n",
       "1  106343        5                 father of the bride part ii (1995)   \n",
       "2  146790     5459  men in black ii (a.k.a. miib) (a.k.a. mib 2) (...   \n",
       "3  106362    32296     miss congeniality 2: armed and fabulous (2005)   \n",
       "4    9041      366  wes craven's new nightmare (nightmare on elm s...   \n",
       "\n",
       "                                       combo_feature  \n",
       "0  comedy crime drama thriller martinmcdonagh dwa...  \n",
       "1  comedy alberthackett fatherhood doberman dog m...  \n",
       "2  action comedy sci-fi lowellcunningham lingerie...  \n",
       "3  adventure comedy crime marclawrence female pro...  \n",
       "4  drama horror mystery thriller wescraven freddy...  "
      ]
     },
     "execution_count": 163,
     "metadata": {},
     "output_type": "execute_result"
    }
   ],
   "source": [
    "rating_data_test.head()"
   ]
  },
  {
   "cell_type": "code",
   "execution_count": 135,
   "metadata": {},
   "outputs": [],
   "source": [
    "available_data = [i for i in rating_data['movieId'].unique()]"
   ]
  },
  {
   "cell_type": "code",
   "execution_count": 146,
   "metadata": {},
   "outputs": [],
   "source": [
    "available_users = [i for i in rating_data['userId'].unique()]"
   ]
  },
  {
   "cell_type": "code",
   "execution_count": 158,
   "metadata": {},
   "outputs": [
    {
     "data": {
      "text/plain": [
       "162264"
      ]
     },
     "execution_count": 158,
     "metadata": {},
     "output_type": "execute_result"
    }
   ],
   "source": [
    "len(available_users)"
   ]
  },
  {
   "cell_type": "code",
   "execution_count": 160,
   "metadata": {},
   "outputs": [],
   "source": [
    "testing_frame =  test_data.copy()"
   ]
  },
  {
   "cell_type": "code",
   "execution_count": 161,
   "metadata": {},
   "outputs": [
    {
     "data": {
      "text/html": [
       "<div>\n",
       "<style scoped>\n",
       "    .dataframe tbody tr th:only-of-type {\n",
       "        vertical-align: middle;\n",
       "    }\n",
       "\n",
       "    .dataframe tbody tr th {\n",
       "        vertical-align: top;\n",
       "    }\n",
       "\n",
       "    .dataframe thead th {\n",
       "        text-align: right;\n",
       "    }\n",
       "</style>\n",
       "<table border=\"1\" class=\"dataframe\">\n",
       "  <thead>\n",
       "    <tr style=\"text-align: right;\">\n",
       "      <th></th>\n",
       "      <th>userId</th>\n",
       "      <th>movieId</th>\n",
       "    </tr>\n",
       "  </thead>\n",
       "  <tbody>\n",
       "    <tr>\n",
       "      <th>0</th>\n",
       "      <td>1</td>\n",
       "      <td>2011</td>\n",
       "    </tr>\n",
       "  </tbody>\n",
       "</table>\n",
       "</div>"
      ],
      "text/plain": [
       "   userId  movieId\n",
       "0       1     2011"
      ]
     },
     "execution_count": 161,
     "metadata": {},
     "output_type": "execute_result"
    }
   ],
   "source": [
    "testing_frame.head(1)"
   ]
  },
  {
   "cell_type": "code",
   "execution_count": 169,
   "metadata": {},
   "outputs": [
    {
     "ename": "MemoryError",
     "evalue": "Unable to allocate 5.88 GiB for an array with shape (789467174,) and data type int64",
     "output_type": "error",
     "traceback": [
      "\u001b[1;31m---------------------------------------------------------------------------\u001b[0m",
      "\u001b[1;31mMemoryError\u001b[0m                               Traceback (most recent call last)",
      "\u001b[1;32m<ipython-input-169-8d69bb017e89>\u001b[0m in \u001b[0;36m<module>\u001b[1;34m\u001b[0m\n\u001b[1;32m----> 1\u001b[1;33m \u001b[0msubmission_data\u001b[0m \u001b[1;33m=\u001b[0m \u001b[0mpd\u001b[0m\u001b[1;33m.\u001b[0m\u001b[0mmerge\u001b[0m\u001b[1;33m(\u001b[0m\u001b[0mtesting_frame\u001b[0m\u001b[1;33m,\u001b[0m \u001b[0mrating_data_test\u001b[0m\u001b[1;33m,\u001b[0m \u001b[0mhow\u001b[0m \u001b[1;33m=\u001b[0m \u001b[1;34m'left'\u001b[0m\u001b[1;33m,\u001b[0m \u001b[0mon\u001b[0m \u001b[1;33m=\u001b[0m \u001b[1;34m'userId'\u001b[0m\u001b[1;33m)\u001b[0m\u001b[1;33m\u001b[0m\u001b[1;33m\u001b[0m\u001b[0m\n\u001b[0m",
      "\u001b[1;32m~\\AppData\\Roaming\\Python\\Python38\\site-packages\\pandas\\core\\reshape\\merge.py\u001b[0m in \u001b[0;36mmerge\u001b[1;34m(left, right, how, on, left_on, right_on, left_index, right_index, sort, suffixes, copy, indicator, validate)\u001b[0m\n\u001b[0;32m    119\u001b[0m         \u001b[0mvalidate\u001b[0m\u001b[1;33m=\u001b[0m\u001b[0mvalidate\u001b[0m\u001b[1;33m,\u001b[0m\u001b[1;33m\u001b[0m\u001b[1;33m\u001b[0m\u001b[0m\n\u001b[0;32m    120\u001b[0m     )\n\u001b[1;32m--> 121\u001b[1;33m     \u001b[1;32mreturn\u001b[0m \u001b[0mop\u001b[0m\u001b[1;33m.\u001b[0m\u001b[0mget_result\u001b[0m\u001b[1;33m(\u001b[0m\u001b[1;33m)\u001b[0m\u001b[1;33m\u001b[0m\u001b[1;33m\u001b[0m\u001b[0m\n\u001b[0m\u001b[0;32m    122\u001b[0m \u001b[1;33m\u001b[0m\u001b[0m\n\u001b[0;32m    123\u001b[0m \u001b[1;33m\u001b[0m\u001b[0m\n",
      "\u001b[1;32m~\\AppData\\Roaming\\Python\\Python38\\site-packages\\pandas\\core\\reshape\\merge.py\u001b[0m in \u001b[0;36mget_result\u001b[1;34m(self)\u001b[0m\n\u001b[0;32m    713\u001b[0m             \u001b[0mself\u001b[0m\u001b[1;33m.\u001b[0m\u001b[0mleft\u001b[0m\u001b[1;33m,\u001b[0m \u001b[0mself\u001b[0m\u001b[1;33m.\u001b[0m\u001b[0mright\u001b[0m \u001b[1;33m=\u001b[0m \u001b[0mself\u001b[0m\u001b[1;33m.\u001b[0m\u001b[0m_indicator_pre_merge\u001b[0m\u001b[1;33m(\u001b[0m\u001b[0mself\u001b[0m\u001b[1;33m.\u001b[0m\u001b[0mleft\u001b[0m\u001b[1;33m,\u001b[0m \u001b[0mself\u001b[0m\u001b[1;33m.\u001b[0m\u001b[0mright\u001b[0m\u001b[1;33m)\u001b[0m\u001b[1;33m\u001b[0m\u001b[1;33m\u001b[0m\u001b[0m\n\u001b[0;32m    714\u001b[0m \u001b[1;33m\u001b[0m\u001b[0m\n\u001b[1;32m--> 715\u001b[1;33m         \u001b[0mjoin_index\u001b[0m\u001b[1;33m,\u001b[0m \u001b[0mleft_indexer\u001b[0m\u001b[1;33m,\u001b[0m \u001b[0mright_indexer\u001b[0m \u001b[1;33m=\u001b[0m \u001b[0mself\u001b[0m\u001b[1;33m.\u001b[0m\u001b[0m_get_join_info\u001b[0m\u001b[1;33m(\u001b[0m\u001b[1;33m)\u001b[0m\u001b[1;33m\u001b[0m\u001b[1;33m\u001b[0m\u001b[0m\n\u001b[0m\u001b[0;32m    716\u001b[0m \u001b[1;33m\u001b[0m\u001b[0m\n\u001b[0;32m    717\u001b[0m         llabels, rlabels = _items_overlap_with_suffix(\n",
      "\u001b[1;32m~\\AppData\\Roaming\\Python\\Python38\\site-packages\\pandas\\core\\reshape\\merge.py\u001b[0m in \u001b[0;36m_get_join_info\u001b[1;34m(self)\u001b[0m\n\u001b[0;32m    964\u001b[0m             )\n\u001b[0;32m    965\u001b[0m         \u001b[1;32melse\u001b[0m\u001b[1;33m:\u001b[0m\u001b[1;33m\u001b[0m\u001b[1;33m\u001b[0m\u001b[0m\n\u001b[1;32m--> 966\u001b[1;33m             \u001b[1;33m(\u001b[0m\u001b[0mleft_indexer\u001b[0m\u001b[1;33m,\u001b[0m \u001b[0mright_indexer\u001b[0m\u001b[1;33m)\u001b[0m \u001b[1;33m=\u001b[0m \u001b[0mself\u001b[0m\u001b[1;33m.\u001b[0m\u001b[0m_get_join_indexers\u001b[0m\u001b[1;33m(\u001b[0m\u001b[1;33m)\u001b[0m\u001b[1;33m\u001b[0m\u001b[1;33m\u001b[0m\u001b[0m\n\u001b[0m\u001b[0;32m    967\u001b[0m \u001b[1;33m\u001b[0m\u001b[0m\n\u001b[0;32m    968\u001b[0m             \u001b[1;32mif\u001b[0m \u001b[0mself\u001b[0m\u001b[1;33m.\u001b[0m\u001b[0mright_index\u001b[0m\u001b[1;33m:\u001b[0m\u001b[1;33m\u001b[0m\u001b[1;33m\u001b[0m\u001b[0m\n",
      "\u001b[1;32m~\\AppData\\Roaming\\Python\\Python38\\site-packages\\pandas\\core\\reshape\\merge.py\u001b[0m in \u001b[0;36m_get_join_indexers\u001b[1;34m(self)\u001b[0m\n\u001b[0;32m    938\u001b[0m         \u001b[1;34m\"\"\"return the join indexers\"\"\"\u001b[0m\u001b[1;33m\u001b[0m\u001b[1;33m\u001b[0m\u001b[0m\n\u001b[0;32m    939\u001b[0m         \u001b[1;31m# Both returned ndarrays are np.intp\u001b[0m\u001b[1;33m\u001b[0m\u001b[1;33m\u001b[0m\u001b[1;33m\u001b[0m\u001b[0m\n\u001b[1;32m--> 940\u001b[1;33m         return get_join_indexers(\n\u001b[0m\u001b[0;32m    941\u001b[0m             \u001b[0mself\u001b[0m\u001b[1;33m.\u001b[0m\u001b[0mleft_join_keys\u001b[0m\u001b[1;33m,\u001b[0m \u001b[0mself\u001b[0m\u001b[1;33m.\u001b[0m\u001b[0mright_join_keys\u001b[0m\u001b[1;33m,\u001b[0m \u001b[0msort\u001b[0m\u001b[1;33m=\u001b[0m\u001b[0mself\u001b[0m\u001b[1;33m.\u001b[0m\u001b[0msort\u001b[0m\u001b[1;33m,\u001b[0m \u001b[0mhow\u001b[0m\u001b[1;33m=\u001b[0m\u001b[0mself\u001b[0m\u001b[1;33m.\u001b[0m\u001b[0mhow\u001b[0m\u001b[1;33m\u001b[0m\u001b[1;33m\u001b[0m\u001b[0m\n\u001b[0;32m    942\u001b[0m         )\n",
      "\u001b[1;32m~\\AppData\\Roaming\\Python\\Python38\\site-packages\\pandas\\core\\reshape\\merge.py\u001b[0m in \u001b[0;36mget_join_indexers\u001b[1;34m(left_keys, right_keys, sort, how, **kwargs)\u001b[0m\n\u001b[0;32m   1504\u001b[0m \u001b[1;33m\u001b[0m\u001b[0m\n\u001b[0;32m   1505\u001b[0m     \u001b[1;31m# error: Cannot call function of unknown type\u001b[0m\u001b[1;33m\u001b[0m\u001b[1;33m\u001b[0m\u001b[1;33m\u001b[0m\u001b[0m\n\u001b[1;32m-> 1506\u001b[1;33m     \u001b[1;32mreturn\u001b[0m \u001b[0mjoin_func\u001b[0m\u001b[1;33m(\u001b[0m\u001b[0mlkey\u001b[0m\u001b[1;33m,\u001b[0m \u001b[0mrkey\u001b[0m\u001b[1;33m,\u001b[0m \u001b[0mcount\u001b[0m\u001b[1;33m,\u001b[0m \u001b[1;33m**\u001b[0m\u001b[0mkwargs\u001b[0m\u001b[1;33m)\u001b[0m  \u001b[1;31m# type: ignore[operator]\u001b[0m\u001b[1;33m\u001b[0m\u001b[1;33m\u001b[0m\u001b[0m\n\u001b[0m\u001b[0;32m   1507\u001b[0m \u001b[1;33m\u001b[0m\u001b[0m\n\u001b[0;32m   1508\u001b[0m \u001b[1;33m\u001b[0m\u001b[0m\n",
      "\u001b[1;32m~\\AppData\\Roaming\\Python\\Python38\\site-packages\\pandas\\_libs\\join.pyx\u001b[0m in \u001b[0;36mpandas._libs.join.left_outer_join\u001b[1;34m()\u001b[0m\n",
      "\u001b[1;31mMemoryError\u001b[0m: Unable to allocate 5.88 GiB for an array with shape (789467174,) and data type int64"
     ]
    }
   ],
   "source": [
    "submission_data = pd.merge(testing_frame, rating_data_test, how = 'left', on = 'userId')"
   ]
  },
  {
   "cell_type": "code",
   "execution_count": 168,
   "metadata": {},
   "outputs": [
    {
     "data": {
      "text/html": [
       "<div>\n",
       "<style scoped>\n",
       "    .dataframe tbody tr th:only-of-type {\n",
       "        vertical-align: middle;\n",
       "    }\n",
       "\n",
       "    .dataframe tbody tr th {\n",
       "        vertical-align: top;\n",
       "    }\n",
       "\n",
       "    .dataframe thead th {\n",
       "        text-align: right;\n",
       "    }\n",
       "</style>\n",
       "<table border=\"1\" class=\"dataframe\">\n",
       "  <thead>\n",
       "    <tr style=\"text-align: right;\">\n",
       "      <th></th>\n",
       "      <th>userId</th>\n",
       "      <th>movieId</th>\n",
       "      <th>title</th>\n",
       "      <th>combo_feature</th>\n",
       "    </tr>\n",
       "  </thead>\n",
       "  <tbody>\n",
       "    <tr>\n",
       "      <th>5000017</th>\n",
       "      <td>162541</td>\n",
       "      <td>5689</td>\n",
       "      <td>NaN</td>\n",
       "      <td>NaN</td>\n",
       "    </tr>\n",
       "    <tr>\n",
       "      <th>5000018</th>\n",
       "      <td>162541</td>\n",
       "      <td>7153</td>\n",
       "      <td>NaN</td>\n",
       "      <td>NaN</td>\n",
       "    </tr>\n",
       "  </tbody>\n",
       "</table>\n",
       "</div>"
      ],
      "text/plain": [
       "         userId  movieId title combo_feature\n",
       "5000017  162541     5689   NaN           NaN\n",
       "5000018  162541     7153   NaN           NaN"
      ]
     },
     "execution_count": 168,
     "metadata": {},
     "output_type": "execute_result"
    }
   ],
   "source": [
    "submission_data.tail(2)"
   ]
  },
  {
   "cell_type": "code",
   "execution_count": 171,
   "metadata": {},
   "outputs": [
    {
     "data": {
      "text/html": [
       "<div>\n",
       "<style scoped>\n",
       "    .dataframe tbody tr th:only-of-type {\n",
       "        vertical-align: middle;\n",
       "    }\n",
       "\n",
       "    .dataframe tbody tr th {\n",
       "        vertical-align: top;\n",
       "    }\n",
       "\n",
       "    .dataframe thead th {\n",
       "        text-align: right;\n",
       "    }\n",
       "</style>\n",
       "<table border=\"1\" class=\"dataframe\">\n",
       "  <thead>\n",
       "    <tr style=\"text-align: right;\">\n",
       "      <th></th>\n",
       "      <th>movieId</th>\n",
       "      <th>title</th>\n",
       "      <th>genres</th>\n",
       "      <th>clean_titles</th>\n",
       "      <th>year</th>\n",
       "    </tr>\n",
       "  </thead>\n",
       "  <tbody>\n",
       "    <tr>\n",
       "      <th>12111</th>\n",
       "      <td>57669</td>\n",
       "      <td>in bruges (2008)</td>\n",
       "      <td>comedy|crime|drama|thriller</td>\n",
       "      <td>in bruges</td>\n",
       "      <td>2008</td>\n",
       "    </tr>\n",
       "  </tbody>\n",
       "</table>\n",
       "</div>"
      ],
      "text/plain": [
       "       movieId             title                       genres clean_titles  \\\n",
       "12111    57669  in bruges (2008)  comedy|crime|drama|thriller    in bruges   \n",
       "\n",
       "       year  \n",
       "12111  2008  "
      ]
     },
     "execution_count": 171,
     "metadata": {},
     "output_type": "execute_result"
    }
   ],
   "source": [
    "#57669\n",
    "movies_data[movies_data['movieId'] == 57669]"
   ]
  },
  {
   "cell_type": "code",
   "execution_count": 178,
   "metadata": {},
   "outputs": [
    {
     "data": {
      "text/plain": [
       "drama                   9056\n",
       "comedy                  5674\n",
       "documentary             4731\n",
       "comedy|drama            2386\n",
       "drama|romance           2126\n",
       "horror                  1661\n",
       "comedy|romance          1577\n",
       "comedy|drama|romance    1044\n",
       "drama|thriller           933\n",
       "thriller                 919\n",
       "Name: genres, dtype: int64"
      ]
     },
     "execution_count": 178,
     "metadata": {},
     "output_type": "execute_result"
    }
   ],
   "source": [
    "movies_data['genres'].value_counts()[:10]"
   ]
  },
  {
   "cell_type": "code",
   "execution_count": 156,
   "metadata": {},
   "outputs": [
    {
     "data": {
      "text/plain": [
       "162350"
      ]
     },
     "execution_count": 156,
     "metadata": {},
     "output_type": "execute_result"
    }
   ],
   "source": [
    "data = []\n",
    "for i in test_data['userId'].unique():\n",
    "    if i in available_users:\n",
    "        data.append(i)\n",
    "    else:\n",
    "        data.append(np.nan)\n",
    "        \n",
    "len(data)\n",
    "        \n",
    "    \n",
    "    "
   ]
  }
 ],
 "metadata": {
  "kernelspec": {
   "display_name": "Python 3",
   "language": "python",
   "name": "python3"
  },
  "language_info": {
   "codemirror_mode": {
    "name": "ipython",
    "version": 3
   },
   "file_extension": ".py",
   "mimetype": "text/x-python",
   "name": "python",
   "nbconvert_exporter": "python",
   "pygments_lexer": "ipython3",
   "version": "3.8.5"
  }
 },
 "nbformat": 4,
 "nbformat_minor": 4
}
